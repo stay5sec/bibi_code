{
 "cells": [
  {
   "cell_type": "code",
   "execution_count": 31,
   "metadata": {},
   "outputs": [],
   "source": [
    "from faker import Faker\n",
    "import pandas as pd\n",
    "\n",
    "pd.set_option('expand_frame_repr', False)\n",
    "pd.set_option('display.max_rows', 1000)"
   ]
  },
  {
   "cell_type": "code",
   "execution_count": 32,
   "metadata": {},
   "outputs": [],
   "source": [
    "import warnings\n",
    "\n",
    "warnings.filterwarnings(\"ignore\")"
   ]
  },
  {
   "cell_type": "code",
   "execution_count": 33,
   "metadata": {},
   "outputs": [],
   "source": [
    "fake = Faker(locale='zh_CN')"
   ]
  },
  {
   "cell_type": "code",
   "execution_count": 34,
   "metadata": {},
   "outputs": [
    {
     "data": {
      "text/plain": [
       "'河南省秀华县兴山李街u座 786813'"
      ]
     },
     "execution_count": 34,
     "metadata": {},
     "output_type": "execute_result"
    }
   ],
   "source": [
    "fake.address()"
   ]
  },
  {
   "cell_type": "code",
   "execution_count": 35,
   "metadata": {},
   "outputs": [
    {
     "data": {
      "text/plain": [
       "{'username': 'dxiong',\n",
       " 'name': '胡伟',\n",
       " 'sex': 'F',\n",
       " 'address': '上海市建国市沙市荆门路h座 490954',\n",
       " 'mail': 'houwei@yahoo.com',\n",
       " 'birthdate': datetime.date(1979, 9, 27)}"
      ]
     },
     "execution_count": 35,
     "metadata": {},
     "output_type": "execute_result"
    }
   ],
   "source": [
    "fake.simple_profile()"
   ]
  },
  {
   "cell_type": "code",
   "execution_count": 36,
   "metadata": {},
   "outputs": [
    {
     "data": {
      "text/plain": [
       "[{'username': 'hjiang',\n",
       "  'name': '朱超',\n",
       "  'sex': 'M',\n",
       "  'address': '广西壮族自治区郑州市海陵梧州街c座 675965',\n",
       "  'mail': 'gqiu@gmail.com',\n",
       "  'birthdate': datetime.date(1934, 8, 23)},\n",
       " {'username': 'xiuyinglong',\n",
       "  'name': '唐建平',\n",
       "  'sex': 'F',\n",
       "  'address': '海南省马鞍山县华龙福州路k座 607096',\n",
       "  'mail': 'guoyang@gmail.com',\n",
       "  'birthdate': datetime.date(1978, 2, 19)},\n",
       " {'username': 'gangzhu',\n",
       "  'name': '郝瑞',\n",
       "  'sex': 'F',\n",
       "  'address': '北京市辽阳市和平李路E座 518834',\n",
       "  'mail': 'xia39@gmail.com',\n",
       "  'birthdate': datetime.date(1908, 7, 18)},\n",
       " {'username': 'ldeng',\n",
       "  'name': '汪建华',\n",
       "  'sex': 'F',\n",
       "  'address': '广西壮族自治区桂荣县平山兴安盟路o座 688397',\n",
       "  'mail': 'jing24@yahoo.com',\n",
       "  'birthdate': datetime.date(1987, 5, 14)},\n",
       " {'username': 'guiyingqian',\n",
       "  'name': '高杨',\n",
       "  'sex': 'F',\n",
       "  'address': '湖南省桂兰县牧野吴路V座 570085',\n",
       "  'mail': 'hgu@hotmail.com',\n",
       "  'birthdate': datetime.date(1973, 1, 25)},\n",
       " {'username': 'xia84',\n",
       "  'name': '冯桂英',\n",
       "  'sex': 'M',\n",
       "  'address': '甘肃省颖市南长邯郸街O座 972868',\n",
       "  'mail': 'pgao@gmail.com',\n",
       "  'birthdate': datetime.date(1987, 11, 14)}]"
      ]
     },
     "execution_count": 36,
     "metadata": {},
     "output_type": "execute_result"
    }
   ],
   "source": [
    "list1 = []\n",
    "\n",
    "for i in range(6):\n",
    "    list1.append(fake.simple_profile())\n",
    "    \n",
    "list1"
   ]
  },
  {
   "cell_type": "code",
   "execution_count": 37,
   "metadata": {},
   "outputs": [
    {
     "data": {
      "text/html": [
       "<div>\n",
       "<style scoped>\n",
       "    .dataframe tbody tr th:only-of-type {\n",
       "        vertical-align: middle;\n",
       "    }\n",
       "\n",
       "    .dataframe tbody tr th {\n",
       "        vertical-align: top;\n",
       "    }\n",
       "\n",
       "    .dataframe thead th {\n",
       "        text-align: right;\n",
       "    }\n",
       "</style>\n",
       "<table border=\"1\" class=\"dataframe\">\n",
       "  <thead>\n",
       "    <tr style=\"text-align: right;\">\n",
       "      <th></th>\n",
       "      <th>address</th>\n",
       "      <th>birthdate</th>\n",
       "      <th>mail</th>\n",
       "      <th>name</th>\n",
       "      <th>sex</th>\n",
       "      <th>username</th>\n",
       "    </tr>\n",
       "  </thead>\n",
       "  <tbody>\n",
       "    <tr>\n",
       "      <th>0</th>\n",
       "      <td>广西壮族自治区郑州市海陵梧州街c座 675965</td>\n",
       "      <td>1934-08-23</td>\n",
       "      <td>gqiu@gmail.com</td>\n",
       "      <td>朱超</td>\n",
       "      <td>M</td>\n",
       "      <td>hjiang</td>\n",
       "    </tr>\n",
       "    <tr>\n",
       "      <th>1</th>\n",
       "      <td>海南省马鞍山县华龙福州路k座 607096</td>\n",
       "      <td>1978-02-19</td>\n",
       "      <td>guoyang@gmail.com</td>\n",
       "      <td>唐建平</td>\n",
       "      <td>F</td>\n",
       "      <td>xiuyinglong</td>\n",
       "    </tr>\n",
       "    <tr>\n",
       "      <th>2</th>\n",
       "      <td>北京市辽阳市和平李路E座 518834</td>\n",
       "      <td>1908-07-18</td>\n",
       "      <td>xia39@gmail.com</td>\n",
       "      <td>郝瑞</td>\n",
       "      <td>F</td>\n",
       "      <td>gangzhu</td>\n",
       "    </tr>\n",
       "    <tr>\n",
       "      <th>3</th>\n",
       "      <td>广西壮族自治区桂荣县平山兴安盟路o座 688397</td>\n",
       "      <td>1987-05-14</td>\n",
       "      <td>jing24@yahoo.com</td>\n",
       "      <td>汪建华</td>\n",
       "      <td>F</td>\n",
       "      <td>ldeng</td>\n",
       "    </tr>\n",
       "    <tr>\n",
       "      <th>4</th>\n",
       "      <td>湖南省桂兰县牧野吴路V座 570085</td>\n",
       "      <td>1973-01-25</td>\n",
       "      <td>hgu@hotmail.com</td>\n",
       "      <td>高杨</td>\n",
       "      <td>F</td>\n",
       "      <td>guiyingqian</td>\n",
       "    </tr>\n",
       "    <tr>\n",
       "      <th>5</th>\n",
       "      <td>甘肃省颖市南长邯郸街O座 972868</td>\n",
       "      <td>1987-11-14</td>\n",
       "      <td>pgao@gmail.com</td>\n",
       "      <td>冯桂英</td>\n",
       "      <td>M</td>\n",
       "      <td>xia84</td>\n",
       "    </tr>\n",
       "  </tbody>\n",
       "</table>\n",
       "</div>"
      ],
      "text/plain": [
       "                     address   birthdate               mail name sex     username\n",
       "0   广西壮族自治区郑州市海陵梧州街c座 675965  1934-08-23     gqiu@gmail.com   朱超   M       hjiang\n",
       "1      海南省马鞍山县华龙福州路k座 607096  1978-02-19  guoyang@gmail.com  唐建平   F  xiuyinglong\n",
       "2        北京市辽阳市和平李路E座 518834  1908-07-18    xia39@gmail.com   郝瑞   F      gangzhu\n",
       "3  广西壮族自治区桂荣县平山兴安盟路o座 688397  1987-05-14   jing24@yahoo.com  汪建华   F        ldeng\n",
       "4        湖南省桂兰县牧野吴路V座 570085  1973-01-25    hgu@hotmail.com   高杨   F  guiyingqian\n",
       "5        甘肃省颖市南长邯郸街O座 972868  1987-11-14     pgao@gmail.com  冯桂英   M        xia84"
      ]
     },
     "execution_count": 37,
     "metadata": {},
     "output_type": "execute_result"
    }
   ],
   "source": [
    "df = pd.DataFrame(list1)\n",
    "df"
   ]
  },
  {
   "cell_type": "code",
   "execution_count": 38,
   "metadata": {},
   "outputs": [
    {
     "data": {
      "text/html": [
       "<div>\n",
       "<style scoped>\n",
       "    .dataframe tbody tr th:only-of-type {\n",
       "        vertical-align: middle;\n",
       "    }\n",
       "\n",
       "    .dataframe tbody tr th {\n",
       "        vertical-align: top;\n",
       "    }\n",
       "\n",
       "    .dataframe thead th {\n",
       "        text-align: right;\n",
       "    }\n",
       "</style>\n",
       "<table border=\"1\" class=\"dataframe\">\n",
       "  <thead>\n",
       "    <tr style=\"text-align: right;\">\n",
       "      <th></th>\n",
       "      <th>name</th>\n",
       "      <th>username</th>\n",
       "      <th>sex</th>\n",
       "      <th>mail</th>\n",
       "      <th>birthdate</th>\n",
       "      <th>address</th>\n",
       "    </tr>\n",
       "  </thead>\n",
       "  <tbody>\n",
       "    <tr>\n",
       "      <th>0</th>\n",
       "      <td>朱超</td>\n",
       "      <td>hjiang</td>\n",
       "      <td>M</td>\n",
       "      <td>gqiu@gmail.com</td>\n",
       "      <td>1934-08-23</td>\n",
       "      <td>广西壮族自治区郑州市海陵梧州街c座 675965</td>\n",
       "    </tr>\n",
       "    <tr>\n",
       "      <th>1</th>\n",
       "      <td>唐建平</td>\n",
       "      <td>xiuyinglong</td>\n",
       "      <td>F</td>\n",
       "      <td>guoyang@gmail.com</td>\n",
       "      <td>1978-02-19</td>\n",
       "      <td>海南省马鞍山县华龙福州路k座 607096</td>\n",
       "    </tr>\n",
       "    <tr>\n",
       "      <th>2</th>\n",
       "      <td>郝瑞</td>\n",
       "      <td>gangzhu</td>\n",
       "      <td>F</td>\n",
       "      <td>xia39@gmail.com</td>\n",
       "      <td>1908-07-18</td>\n",
       "      <td>北京市辽阳市和平李路E座 518834</td>\n",
       "    </tr>\n",
       "    <tr>\n",
       "      <th>3</th>\n",
       "      <td>汪建华</td>\n",
       "      <td>ldeng</td>\n",
       "      <td>F</td>\n",
       "      <td>jing24@yahoo.com</td>\n",
       "      <td>1987-05-14</td>\n",
       "      <td>广西壮族自治区桂荣县平山兴安盟路o座 688397</td>\n",
       "    </tr>\n",
       "    <tr>\n",
       "      <th>4</th>\n",
       "      <td>高杨</td>\n",
       "      <td>guiyingqian</td>\n",
       "      <td>F</td>\n",
       "      <td>hgu@hotmail.com</td>\n",
       "      <td>1973-01-25</td>\n",
       "      <td>湖南省桂兰县牧野吴路V座 570085</td>\n",
       "    </tr>\n",
       "    <tr>\n",
       "      <th>5</th>\n",
       "      <td>冯桂英</td>\n",
       "      <td>xia84</td>\n",
       "      <td>M</td>\n",
       "      <td>pgao@gmail.com</td>\n",
       "      <td>1987-11-14</td>\n",
       "      <td>甘肃省颖市南长邯郸街O座 972868</td>\n",
       "    </tr>\n",
       "  </tbody>\n",
       "</table>\n",
       "</div>"
      ],
      "text/plain": [
       "  name     username sex               mail   birthdate                    address\n",
       "0   朱超       hjiang   M     gqiu@gmail.com  1934-08-23   广西壮族自治区郑州市海陵梧州街c座 675965\n",
       "1  唐建平  xiuyinglong   F  guoyang@gmail.com  1978-02-19      海南省马鞍山县华龙福州路k座 607096\n",
       "2   郝瑞      gangzhu   F    xia39@gmail.com  1908-07-18        北京市辽阳市和平李路E座 518834\n",
       "3  汪建华        ldeng   F   jing24@yahoo.com  1987-05-14  广西壮族自治区桂荣县平山兴安盟路o座 688397\n",
       "4   高杨  guiyingqian   F    hgu@hotmail.com  1973-01-25        湖南省桂兰县牧野吴路V座 570085\n",
       "5  冯桂英        xia84   M     pgao@gmail.com  1987-11-14        甘肃省颖市南长邯郸街O座 972868"
      ]
     },
     "execution_count": 38,
     "metadata": {},
     "output_type": "execute_result"
    }
   ],
   "source": [
    "df = df[[\"name\", \"username\", \"sex\", \"mail\", \"birthdate\", \"address\"]]\n",
    "df"
   ]
  },
  {
   "cell_type": "code",
   "execution_count": 39,
   "metadata": {},
   "outputs": [
    {
     "data": {
      "text/html": [
       "<div>\n",
       "<style scoped>\n",
       "    .dataframe tbody tr th:only-of-type {\n",
       "        vertical-align: middle;\n",
       "    }\n",
       "\n",
       "    .dataframe tbody tr th {\n",
       "        vertical-align: top;\n",
       "    }\n",
       "\n",
       "    .dataframe thead th {\n",
       "        text-align: right;\n",
       "    }\n",
       "</style>\n",
       "<table border=\"1\" class=\"dataframe\">\n",
       "  <thead>\n",
       "    <tr style=\"text-align: right;\">\n",
       "      <th></th>\n",
       "      <th>name</th>\n",
       "      <th>username</th>\n",
       "      <th>sex</th>\n",
       "      <th>mail</th>\n",
       "      <th>birthdate</th>\n",
       "      <th>address</th>\n",
       "      <th>post</th>\n",
       "    </tr>\n",
       "  </thead>\n",
       "  <tbody>\n",
       "    <tr>\n",
       "      <th>0</th>\n",
       "      <td>朱超</td>\n",
       "      <td>hjiang</td>\n",
       "      <td>M</td>\n",
       "      <td>gqiu@gmail.com</td>\n",
       "      <td>1934-08-23</td>\n",
       "      <td>广西壮族自治区郑州市海陵梧州街c座</td>\n",
       "      <td>675965</td>\n",
       "    </tr>\n",
       "    <tr>\n",
       "      <th>1</th>\n",
       "      <td>唐建平</td>\n",
       "      <td>xiuyinglong</td>\n",
       "      <td>F</td>\n",
       "      <td>guoyang@gmail.com</td>\n",
       "      <td>1978-02-19</td>\n",
       "      <td>海南省马鞍山县华龙福州路k座</td>\n",
       "      <td>607096</td>\n",
       "    </tr>\n",
       "    <tr>\n",
       "      <th>2</th>\n",
       "      <td>郝瑞</td>\n",
       "      <td>gangzhu</td>\n",
       "      <td>F</td>\n",
       "      <td>xia39@gmail.com</td>\n",
       "      <td>1908-07-18</td>\n",
       "      <td>北京市辽阳市和平李路E座</td>\n",
       "      <td>518834</td>\n",
       "    </tr>\n",
       "    <tr>\n",
       "      <th>3</th>\n",
       "      <td>汪建华</td>\n",
       "      <td>ldeng</td>\n",
       "      <td>F</td>\n",
       "      <td>jing24@yahoo.com</td>\n",
       "      <td>1987-05-14</td>\n",
       "      <td>广西壮族自治区桂荣县平山兴安盟路o座</td>\n",
       "      <td>688397</td>\n",
       "    </tr>\n",
       "    <tr>\n",
       "      <th>4</th>\n",
       "      <td>高杨</td>\n",
       "      <td>guiyingqian</td>\n",
       "      <td>F</td>\n",
       "      <td>hgu@hotmail.com</td>\n",
       "      <td>1973-01-25</td>\n",
       "      <td>湖南省桂兰县牧野吴路V座</td>\n",
       "      <td>570085</td>\n",
       "    </tr>\n",
       "    <tr>\n",
       "      <th>5</th>\n",
       "      <td>冯桂英</td>\n",
       "      <td>xia84</td>\n",
       "      <td>M</td>\n",
       "      <td>pgao@gmail.com</td>\n",
       "      <td>1987-11-14</td>\n",
       "      <td>甘肃省颖市南长邯郸街O座</td>\n",
       "      <td>972868</td>\n",
       "    </tr>\n",
       "  </tbody>\n",
       "</table>\n",
       "</div>"
      ],
      "text/plain": [
       "  name     username sex               mail   birthdate             address    post\n",
       "0   朱超       hjiang   M     gqiu@gmail.com  1934-08-23   广西壮族自治区郑州市海陵梧州街c座  675965\n",
       "1  唐建平  xiuyinglong   F  guoyang@gmail.com  1978-02-19      海南省马鞍山县华龙福州路k座  607096\n",
       "2   郝瑞      gangzhu   F    xia39@gmail.com  1908-07-18        北京市辽阳市和平李路E座  518834\n",
       "3  汪建华        ldeng   F   jing24@yahoo.com  1987-05-14  广西壮族自治区桂荣县平山兴安盟路o座  688397\n",
       "4   高杨  guiyingqian   F    hgu@hotmail.com  1973-01-25        湖南省桂兰县牧野吴路V座  570085\n",
       "5  冯桂英        xia84   M     pgao@gmail.com  1987-11-14        甘肃省颖市南长邯郸街O座  972868"
      ]
     },
     "execution_count": 39,
     "metadata": {},
     "output_type": "execute_result"
    }
   ],
   "source": [
    "df[\"post\"] = df[\"address\"].apply(lambda x: x.split(\" \")[-1])\n",
    "df[\"address\"] = df[\"address\"].apply(lambda x: x.split(\" \")[0])\n",
    "df"
   ]
  },
  {
   "cell_type": "code",
   "execution_count": 40,
   "metadata": {},
   "outputs": [],
   "source": [
    "df.to_excel(\"/Users/super/Desktop/一份假数据2.xlsx\",index=False)"
   ]
  },
  {
   "cell_type": "code",
   "execution_count": null,
   "metadata": {},
   "outputs": [],
   "source": []
  }
 ],
 "metadata": {
  "kernelspec": {
   "display_name": "Python 3",
   "language": "python",
   "name": "python3"
  },
  "language_info": {
   "codemirror_mode": {
    "name": "ipython",
    "version": 3
   },
   "file_extension": ".py",
   "mimetype": "text/x-python",
   "name": "python",
   "nbconvert_exporter": "python",
   "pygments_lexer": "ipython3",
   "version": "3.7.3"
  }
 },
 "nbformat": 4,
 "nbformat_minor": 2
}
