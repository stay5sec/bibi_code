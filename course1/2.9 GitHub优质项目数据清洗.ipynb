{
 "cells": [
  {
   "cell_type": "code",
   "execution_count": 1,
   "metadata": {},
   "outputs": [],
   "source": [
    "import pandas as pd\n",
    "\n",
    "pd.set_option('expand_frame_repr', False)\n",
    "pd.set_option('display.max_rows', 1000)\n",
    "\n",
    "import matplotlib.pyplot as plt\n",
    "# 这句代码需要注意\n",
    "plt.rcParams['font.family'] = ['Arial Unicode MS'] #正常显示中文\n",
    "plt.rcParams['axes.unicode_minus']=False #用来正常显示负号\n",
    "\n",
    "import warnings\n",
    "\n",
    "warnings.filterwarnings(\"ignore\")"
   ]
  },
  {
   "cell_type": "code",
   "execution_count": 2,
   "metadata": {},
   "outputs": [
    {
     "data": {
      "text/html": [
       "<div>\n",
       "<style scoped>\n",
       "    .dataframe tbody tr th:only-of-type {\n",
       "        vertical-align: middle;\n",
       "    }\n",
       "\n",
       "    .dataframe tbody tr th {\n",
       "        vertical-align: top;\n",
       "    }\n",
       "\n",
       "    .dataframe thead th {\n",
       "        text-align: right;\n",
       "    }\n",
       "</style>\n",
       "<table border=\"1\" class=\"dataframe\">\n",
       "  <thead>\n",
       "    <tr style=\"text-align: right;\">\n",
       "      <th></th>\n",
       "      <th>期刊</th>\n",
       "      <th>目录</th>\n",
       "      <th>项目</th>\n",
       "    </tr>\n",
       "  </thead>\n",
       "  <tbody>\n",
       "    <tr>\n",
       "      <th>0</th>\n",
       "      <td>《HelloGitHub》第 10 期</td>\n",
       "      <td>['C# 项目', 'C++ 项目', 'CSS 项目', 'Go 项目', 'Java 项...</td>\n",
       "      <td>12、saythanks.io：Kennethreitz 写的一个简单的网站（基于 Flas...</td>\n",
       "    </tr>\n",
       "    <tr>\n",
       "      <th>1</th>\n",
       "      <td>《HelloGitHub》第 10 期</td>\n",
       "      <td>['C# 项目', 'C++ 项目', 'CSS 项目', 'Go 项目', 'Java 项...</td>\n",
       "      <td>13、locust：模拟用户行为的负载测试工具，包含友好的 Web 页面，如下图：</td>\n",
       "    </tr>\n",
       "    <tr>\n",
       "      <th>2</th>\n",
       "      <td>《HelloGitHub》第 10 期</td>\n",
       "      <td>['C# 项目', 'C++ 项目', 'CSS 项目', 'Go 项目', 'Java 项...</td>\n",
       "      <td>14、jumpserver：Jumpserver 是一款由 Python 编写开源的跳板机（...</td>\n",
       "    </tr>\n",
       "    <tr>\n",
       "      <th>3</th>\n",
       "      <td>《HelloGitHub》第 11 期</td>\n",
       "      <td>['C 项目', 'Go 项目', 'Java 项目', 'JavaScript 项目', ...</td>\n",
       "      <td>8、sh：sh 是一个成熟，用于替代 subprocess，它允许你调用任何程序，就像它是一...</td>\n",
       "    </tr>\n",
       "    <tr>\n",
       "      <th>4</th>\n",
       "      <td>《HelloGitHub》第 11 期</td>\n",
       "      <td>['C 项目', 'Go 项目', 'Java 项目', 'JavaScript 项目', ...</td>\n",
       "      <td>from sh import ifconfig print ifconfig(\"eth0\")</td>\n",
       "    </tr>\n",
       "  </tbody>\n",
       "</table>\n",
       "</div>"
      ],
      "text/plain": [
       "                    期刊                                                 目录                                                 项目\n",
       "0  《HelloGitHub》第 10 期  ['C# 项目', 'C++ 项目', 'CSS 项目', 'Go 项目', 'Java 项...  12、saythanks.io：Kennethreitz 写的一个简单的网站（基于 Flas...\n",
       "1  《HelloGitHub》第 10 期  ['C# 项目', 'C++ 项目', 'CSS 项目', 'Go 项目', 'Java 项...          13、locust：模拟用户行为的负载测试工具，包含友好的 Web 页面，如下图：\n",
       "2  《HelloGitHub》第 10 期  ['C# 项目', 'C++ 项目', 'CSS 项目', 'Go 项目', 'Java 项...  14、jumpserver：Jumpserver 是一款由 Python 编写开源的跳板机（...\n",
       "3  《HelloGitHub》第 11 期  ['C 项目', 'Go 项目', 'Java 项目', 'JavaScript 项目', ...  8、sh：sh 是一个成熟，用于替代 subprocess，它允许你调用任何程序，就像它是一...\n",
       "4  《HelloGitHub》第 11 期  ['C 项目', 'Go 项目', 'Java 项目', 'JavaScript 项目', ...     from sh import ifconfig print ifconfig(\"eth0\")"
      ]
     },
     "execution_count": 2,
     "metadata": {},
     "output_type": "execute_result"
    }
   ],
   "source": [
    "# 读取数据\n",
    "df=pd.read_excel(\"/Users/super/Desktop/github_task.xlsx\")\n",
    "df.head()"
   ]
  },
  {
   "cell_type": "code",
   "execution_count": 3,
   "metadata": {},
   "outputs": [
    {
     "name": "stdout",
     "output_type": "stream",
     "text": [
      "<class 'pandas.core.frame.DataFrame'>\n",
      "RangeIndex: 193 entries, 0 to 192\n",
      "Data columns (total 3 columns):\n",
      "期刊    193 non-null object\n",
      "目录    193 non-null object\n",
      "项目    193 non-null object\n",
      "dtypes: object(3)\n",
      "memory usage: 4.6+ KB\n"
     ]
    }
   ],
   "source": [
    "# 查看信息\n",
    "df.info()"
   ]
  },
  {
   "cell_type": "code",
   "execution_count": 4,
   "metadata": {},
   "outputs": [
    {
     "data": {
      "text/html": [
       "<div>\n",
       "<style scoped>\n",
       "    .dataframe tbody tr th:only-of-type {\n",
       "        vertical-align: middle;\n",
       "    }\n",
       "\n",
       "    .dataframe tbody tr th {\n",
       "        vertical-align: top;\n",
       "    }\n",
       "\n",
       "    .dataframe thead th {\n",
       "        text-align: right;\n",
       "    }\n",
       "</style>\n",
       "<table border=\"1\" class=\"dataframe\">\n",
       "  <thead>\n",
       "    <tr style=\"text-align: right;\">\n",
       "      <th></th>\n",
       "      <th>期刊</th>\n",
       "      <th>目录</th>\n",
       "      <th>项目</th>\n",
       "    </tr>\n",
       "  </thead>\n",
       "  <tbody>\n",
       "    <tr>\n",
       "      <th>97</th>\n",
       "      <td>《HelloGitHub》第 29 期</td>\n",
       "      <td>['C 项目', 'C++ 项目', 'Go 项目', 'Java 项目', 'JavaSc...</td>\n",
       "      <td>17、hue：开源的 Apache Hadoop UI 系统。通过使用 Hue 我们可以在浏...</td>\n",
       "    </tr>\n",
       "    <tr>\n",
       "      <th>104</th>\n",
       "      <td>《HelloGitHub》第 29 期</td>\n",
       "      <td>['C 项目', 'C++ 项目', 'Go 项目', 'Java 项目', 'JavaSc...</td>\n",
       "      <td>较强的可扩展性可以满足大家折腾的欲望</td>\n",
       "    </tr>\n",
       "    <tr>\n",
       "      <th>149</th>\n",
       "      <td>《HelloGitHub》第 39 期</td>\n",
       "      <td>['C# 项目', 'C++ 项目', 'CSS 项目', 'Go 项目', 'Java 项...</td>\n",
       "      <td>20、psutil：一个跨平台库的进程和系统资源监控、管理库。用于查看有关正在运行的进程和系...</td>\n",
       "    </tr>\n",
       "    <tr>\n",
       "      <th>39</th>\n",
       "      <td>《HelloGitHub》第 17 期</td>\n",
       "      <td>['C# 项目', 'CSS 项目', 'Go 项目', 'Java 项目', 'JavaS...</td>\n",
       "      <td>19、weibospider：分布式微博爬虫，支持快速抓取和稳定抓取两种运行模式。项目模块逻...</td>\n",
       "    </tr>\n",
       "    <tr>\n",
       "      <th>14</th>\n",
       "      <td>《HelloGitHub》第 13 期</td>\n",
       "      <td>['C 项目', 'C# 项目', 'C++ 项目', 'Go 项目', 'Java 项目'...</td>\n",
       "      <td>. ├── array │ ├── circular_counter.py │ └── .....</td>\n",
       "    </tr>\n",
       "    <tr>\n",
       "      <th>48</th>\n",
       "      <td>《HelloGitHub》第 19 期</td>\n",
       "      <td>['Go 项目', 'Java 项目', 'JavaScript 项目', 'Kotlin ...</td>\n",
       "      <td>主从切换后新 master 丢数据的修复</td>\n",
       "    </tr>\n",
       "    <tr>\n",
       "      <th>172</th>\n",
       "      <td>《HelloGitHub》第 44 期</td>\n",
       "      <td>['C 项目', 'C++ 项目', 'Go 项目', 'Java 项目', 'JavaSc...</td>\n",
       "      <td>😅</td>\n",
       "    </tr>\n",
       "    <tr>\n",
       "      <th>183</th>\n",
       "      <td>《HelloGitHub》第 46 期</td>\n",
       "      <td>['C 项目', 'C++ 项目', 'Go 项目', 'Java 项目', 'JavaSc...</td>\n",
       "      <td>22、vaex：类似 Pandas 的 Python 数据处理库，在处理大型数据集的时候表现...</td>\n",
       "    </tr>\n",
       "    <tr>\n",
       "      <th>49</th>\n",
       "      <td>《HelloGitHub》第 19 期</td>\n",
       "      <td>['Go 项目', 'Java 项目', 'JavaScript 项目', 'Kotlin ...</td>\n",
       "      <td>从 binlog 生成标准SQL，带来的衍生功能</td>\n",
       "    </tr>\n",
       "    <tr>\n",
       "      <th>30</th>\n",
       "      <td>《HelloGitHub》第 16 期</td>\n",
       "      <td>['C 项目', 'C# 项目', 'C++ 项目', 'Go 项目', 'Java 项目'...</td>\n",
       "      <td>✌️</td>\n",
       "    </tr>\n",
       "  </tbody>\n",
       "</table>\n",
       "</div>"
      ],
      "text/plain": [
       "                      期刊                                                 目录                                                 项目\n",
       "97   《HelloGitHub》第 29 期  ['C 项目', 'C++ 项目', 'Go 项目', 'Java 项目', 'JavaSc...  17、hue：开源的 Apache Hadoop UI 系统。通过使用 Hue 我们可以在浏...\n",
       "104  《HelloGitHub》第 29 期  ['C 项目', 'C++ 项目', 'Go 项目', 'Java 项目', 'JavaSc...                                 较强的可扩展性可以满足大家折腾的欲望\n",
       "149  《HelloGitHub》第 39 期  ['C# 项目', 'C++ 项目', 'CSS 项目', 'Go 项目', 'Java 项...  20、psutil：一个跨平台库的进程和系统资源监控、管理库。用于查看有关正在运行的进程和系...\n",
       "39   《HelloGitHub》第 17 期  ['C# 项目', 'CSS 项目', 'Go 项目', 'Java 项目', 'JavaS...  19、weibospider：分布式微博爬虫，支持快速抓取和稳定抓取两种运行模式。项目模块逻...\n",
       "14   《HelloGitHub》第 13 期  ['C 项目', 'C# 项目', 'C++ 项目', 'Go 项目', 'Java 项目'...  . ├── array │ ├── circular_counter.py │ └── .....\n",
       "48   《HelloGitHub》第 19 期  ['Go 项目', 'Java 项目', 'JavaScript 项目', 'Kotlin ...                               主从切换后新 master 丢数据的修复\n",
       "172  《HelloGitHub》第 44 期  ['C 项目', 'C++ 项目', 'Go 项目', 'Java 项目', 'JavaSc...                                                  😅\n",
       "183  《HelloGitHub》第 46 期  ['C 项目', 'C++ 项目', 'Go 项目', 'Java 项目', 'JavaSc...  22、vaex：类似 Pandas 的 Python 数据处理库，在处理大型数据集的时候表现...\n",
       "49   《HelloGitHub》第 19 期  ['Go 项目', 'Java 项目', 'JavaScript 项目', 'Kotlin ...                           从 binlog 生成标准SQL，带来的衍生功能\n",
       "30   《HelloGitHub》第 16 期  ['C 项目', 'C# 项目', 'C++ 项目', 'Go 项目', 'Java 项目'...                                                 ✌️"
      ]
     },
     "execution_count": 4,
     "metadata": {},
     "output_type": "execute_result"
    }
   ],
   "source": [
    "# 随机挑选几条查看质量\n",
    "df.sample(10)"
   ]
  },
  {
   "cell_type": "code",
   "execution_count": 5,
   "metadata": {},
   "outputs": [
    {
     "data": {
      "text/plain": [
       "['1', '2', '3', '4', '5', '6', '7', '8', '9']"
      ]
     },
     "execution_count": 5,
     "metadata": {},
     "output_type": "execute_result"
    }
   ],
   "source": [
    "# 创造一个1-9的string list\n",
    "list1=list(map(lambda x: str(x), [x for x in range(1,10)]))\n",
    "list1"
   ]
  },
  {
   "cell_type": "code",
   "execution_count": 6,
   "metadata": {},
   "outputs": [
    {
     "name": "stdout",
     "output_type": "stream",
     "text": [
      "<class 'pandas.core.frame.DataFrame'>\n",
      "Int64Index: 130 entries, 0 to 192\n",
      "Data columns (total 3 columns):\n",
      "期刊    130 non-null object\n",
      "目录    130 non-null object\n",
      "项目    130 non-null object\n",
      "dtypes: object(3)\n",
      "memory usage: 4.1+ KB\n"
     ]
    }
   ],
   "source": [
    "# 剔除无效的数据\n",
    "df1=df[df[\"项目\"].apply(lambda x:x[:1] in list1)]\n",
    "df1=df1[df[\"项目\"].apply(lambda x:'、' in x[:3])]\n",
    "df1.info()"
   ]
  },
  {
   "cell_type": "code",
   "execution_count": 7,
   "metadata": {},
   "outputs": [
    {
     "data": {
      "text/plain": [
       "'无效数据量：63 条'"
      ]
     },
     "execution_count": 7,
     "metadata": {},
     "output_type": "execute_result"
    }
   ],
   "source": [
    "'无效数据量：{} 条'.format(df.shape[0]-df1.shape[0])"
   ]
  },
  {
   "cell_type": "code",
   "execution_count": 8,
   "metadata": {},
   "outputs": [
    {
     "data": {
      "text/html": [
       "<div>\n",
       "<style scoped>\n",
       "    .dataframe tbody tr th:only-of-type {\n",
       "        vertical-align: middle;\n",
       "    }\n",
       "\n",
       "    .dataframe tbody tr th {\n",
       "        vertical-align: top;\n",
       "    }\n",
       "\n",
       "    .dataframe thead th {\n",
       "        text-align: right;\n",
       "    }\n",
       "</style>\n",
       "<table border=\"1\" class=\"dataframe\">\n",
       "  <thead>\n",
       "    <tr style=\"text-align: right;\">\n",
       "      <th></th>\n",
       "      <th>期刊</th>\n",
       "      <th>项目</th>\n",
       "    </tr>\n",
       "  </thead>\n",
       "  <tbody>\n",
       "    <tr>\n",
       "      <th>4</th>\n",
       "      <td>《HelloGitHub》第 11 期</td>\n",
       "      <td>from sh import ifconfig print ifconfig(\"eth0\")</td>\n",
       "    </tr>\n",
       "    <tr>\n",
       "      <th>7</th>\n",
       "      <td>《HelloGitHub》第 11 期</td>\n",
       "      <td>安装：pip install mongoaudit</td>\n",
       "    </tr>\n",
       "    <tr>\n",
       "      <th>8</th>\n",
       "      <td>《HelloGitHub》第 11 期</td>\n",
       "      <td>运行：python mongoaudit</td>\n",
       "    </tr>\n",
       "    <tr>\n",
       "      <th>12</th>\n",
       "      <td>《HelloGitHub》第 13 期</td>\n",
       "      <td>$ ngxtop running for 411 seconds, 64332 record...</td>\n",
       "    </tr>\n",
       "    <tr>\n",
       "      <th>14</th>\n",
       "      <td>《HelloGitHub》第 13 期</td>\n",
       "      <td>. ├── array │ ├── circular_counter.py │ └── .....</td>\n",
       "    </tr>\n",
       "    <tr>\n",
       "      <th>17</th>\n",
       "      <td>《HelloGitHub》第 13 期</td>\n",
       "      <td>&gt;&gt;&gt; import grequests &gt;&gt;&gt; def exception_handler...</td>\n",
       "    </tr>\n",
       "    <tr>\n",
       "      <th>30</th>\n",
       "      <td>《HelloGitHub》第 16 期</td>\n",
       "      <td>✌️</td>\n",
       "    </tr>\n",
       "    <tr>\n",
       "      <th>32</th>\n",
       "      <td>《HelloGitHub》第 17 期</td>\n",
       "      <td>多进程、多线程、协程</td>\n",
       "    </tr>\n",
       "    <tr>\n",
       "      <th>33</th>\n",
       "      <td>《HelloGitHub》第 17 期</td>\n",
       "      <td>任务定时执行</td>\n",
       "    </tr>\n",
       "    <tr>\n",
       "      <th>34</th>\n",
       "      <td>《HelloGitHub》第 17 期</td>\n",
       "      <td>任务执行失败重试</td>\n",
       "    </tr>\n",
       "  </tbody>\n",
       "</table>\n",
       "</div>"
      ],
      "text/plain": [
       "                     期刊                                                 项目\n",
       "4   《HelloGitHub》第 11 期     from sh import ifconfig print ifconfig(\"eth0\")\n",
       "7   《HelloGitHub》第 11 期                          安装：pip install mongoaudit\n",
       "8   《HelloGitHub》第 11 期                               运行：python mongoaudit\n",
       "12  《HelloGitHub》第 13 期  $ ngxtop running for 411 seconds, 64332 record...\n",
       "14  《HelloGitHub》第 13 期  . ├── array │ ├── circular_counter.py │ └── .....\n",
       "17  《HelloGitHub》第 13 期  >>> import grequests >>> def exception_handler...\n",
       "30  《HelloGitHub》第 16 期                                                 ✌️\n",
       "32  《HelloGitHub》第 17 期                                         多进程、多线程、协程\n",
       "33  《HelloGitHub》第 17 期                                             任务定时执行\n",
       "34  《HelloGitHub》第 17 期                                           任务执行失败重试"
      ]
     },
     "execution_count": 8,
     "metadata": {},
     "output_type": "execute_result"
    }
   ],
   "source": [
    "# 查看无效数据行，看看\n",
    "df2=df[df[\"项目\"].apply(lambda x:x[:1] not in list1)]\n",
    "df2[[\"期刊\",\"项目\"]].head(10)"
   ]
  },
  {
   "cell_type": "code",
   "execution_count": 9,
   "metadata": {},
   "outputs": [
    {
     "data": {
      "text/html": [
       "<div>\n",
       "<style scoped>\n",
       "    .dataframe tbody tr th:only-of-type {\n",
       "        vertical-align: middle;\n",
       "    }\n",
       "\n",
       "    .dataframe tbody tr th {\n",
       "        vertical-align: top;\n",
       "    }\n",
       "\n",
       "    .dataframe thead th {\n",
       "        text-align: right;\n",
       "    }\n",
       "</style>\n",
       "<table border=\"1\" class=\"dataframe\">\n",
       "  <thead>\n",
       "    <tr style=\"text-align: right;\">\n",
       "      <th></th>\n",
       "      <th>期刊</th>\n",
       "      <th>目录</th>\n",
       "      <th>项目</th>\n",
       "    </tr>\n",
       "  </thead>\n",
       "  <tbody>\n",
       "    <tr>\n",
       "      <th>3</th>\n",
       "      <td>《HelloGitHub》第 11 期</td>\n",
       "      <td>['C 项目', 'Go 项目', 'Java 项目', 'JavaScript 项目', ...</td>\n",
       "      <td>8、sh：sh 是一个成熟，用于替代 subprocess，它允许你调用任何程序，就像它是一...</td>\n",
       "    </tr>\n",
       "    <tr>\n",
       "      <th>83</th>\n",
       "      <td>《HelloGitHub》第 26 期</td>\n",
       "      <td>['C 项目', 'C++ 项目', 'CSS 项目', 'Go 项目', 'Java 项目...</td>\n",
       "      <td>16、marshmallow：使用类似于 ORM 的语法，序列化、反序列化 Python 对...</td>\n",
       "    </tr>\n",
       "    <tr>\n",
       "      <th>186</th>\n",
       "      <td>《HelloGitHub》第 46 期</td>\n",
       "      <td>['C 项目', 'C++ 项目', 'Go 项目', 'Java 项目', 'JavaSc...</td>\n",
       "      <td>24、KeymouseGo：Python 实现的精简绿色版按键精灵。记录用户的鼠标、键盘操作...</td>\n",
       "    </tr>\n",
       "    <tr>\n",
       "      <th>39</th>\n",
       "      <td>《HelloGitHub》第 17 期</td>\n",
       "      <td>['C# 项目', 'CSS 项目', 'Go 项目', 'Java 项目', 'JavaS...</td>\n",
       "      <td>19、weibospider：分布式微博爬虫，支持快速抓取和稳定抓取两种运行模式。项目模块逻...</td>\n",
       "    </tr>\n",
       "    <tr>\n",
       "      <th>189</th>\n",
       "      <td>《HelloGitHub》第 47 期</td>\n",
       "      <td>['C++ 项目', 'Go 项目', 'Java 项目', 'JavaScript 项目'...</td>\n",
       "      <td>16、activitywatch：一个记录你的时间都花在那的 Python 项目。支持 We...</td>\n",
       "    </tr>\n",
       "    <tr>\n",
       "      <th>159</th>\n",
       "      <td>《HelloGitHub》第 40 期</td>\n",
       "      <td>['C 项目', 'C# 项目', 'C++ 项目', 'Go 项目', 'Java 项目'...</td>\n",
       "      <td>26、one-python-craftsman：如何编写优秀的 Python 代码？优秀的代...</td>\n",
       "    </tr>\n",
       "    <tr>\n",
       "      <th>190</th>\n",
       "      <td>《HelloGitHub》第 47 期</td>\n",
       "      <td>['C++ 项目', 'Go 项目', 'Java 项目', 'JavaScript 项目'...</td>\n",
       "      <td>17、akshare：一款基于 Python 的开源金融数据接口库。提供了股票、期货、期权、...</td>\n",
       "    </tr>\n",
       "  </tbody>\n",
       "</table>\n",
       "</div>"
      ],
      "text/plain": [
       "                      期刊                                                 目录                                                 项目\n",
       "3    《HelloGitHub》第 11 期  ['C 项目', 'Go 项目', 'Java 项目', 'JavaScript 项目', ...  8、sh：sh 是一个成熟，用于替代 subprocess，它允许你调用任何程序，就像它是一...\n",
       "83   《HelloGitHub》第 26 期  ['C 项目', 'C++ 项目', 'CSS 项目', 'Go 项目', 'Java 项目...  16、marshmallow：使用类似于 ORM 的语法，序列化、反序列化 Python 对...\n",
       "186  《HelloGitHub》第 46 期  ['C 项目', 'C++ 项目', 'Go 项目', 'Java 项目', 'JavaSc...  24、KeymouseGo：Python 实现的精简绿色版按键精灵。记录用户的鼠标、键盘操作...\n",
       "39   《HelloGitHub》第 17 期  ['C# 项目', 'CSS 项目', 'Go 项目', 'Java 项目', 'JavaS...  19、weibospider：分布式微博爬虫，支持快速抓取和稳定抓取两种运行模式。项目模块逻...\n",
       "189  《HelloGitHub》第 47 期  ['C++ 项目', 'Go 项目', 'Java 项目', 'JavaScript 项目'...  16、activitywatch：一个记录你的时间都花在那的 Python 项目。支持 We...\n",
       "159  《HelloGitHub》第 40 期  ['C 项目', 'C# 项目', 'C++ 项目', 'Go 项目', 'Java 项目'...  26、one-python-craftsman：如何编写优秀的 Python 代码？优秀的代...\n",
       "190  《HelloGitHub》第 47 期  ['C++ 项目', 'Go 项目', 'Java 项目', 'JavaScript 项目'...  17、akshare：一款基于 Python 的开源金融数据接口库。提供了股票、期货、期权、..."
      ]
     },
     "execution_count": 9,
     "metadata": {},
     "output_type": "execute_result"
    }
   ],
   "source": [
    "# 查看有效数据行\n",
    "df1.sample(7)"
   ]
  },
  {
   "cell_type": "code",
   "execution_count": 10,
   "metadata": {},
   "outputs": [
    {
     "data": {
      "text/html": [
       "<div>\n",
       "<style scoped>\n",
       "    .dataframe tbody tr th:only-of-type {\n",
       "        vertical-align: middle;\n",
       "    }\n",
       "\n",
       "    .dataframe tbody tr th {\n",
       "        vertical-align: top;\n",
       "    }\n",
       "\n",
       "    .dataframe thead th {\n",
       "        text-align: right;\n",
       "    }\n",
       "</style>\n",
       "<table border=\"1\" class=\"dataframe\">\n",
       "  <thead>\n",
       "    <tr style=\"text-align: right;\">\n",
       "      <th></th>\n",
       "      <th>期刊</th>\n",
       "      <th>目录</th>\n",
       "      <th>项目</th>\n",
       "      <th>期刊2</th>\n",
       "    </tr>\n",
       "  </thead>\n",
       "  <tbody>\n",
       "    <tr>\n",
       "      <th>0</th>\n",
       "      <td>《HelloGitHub》第 10 期</td>\n",
       "      <td>['C# 项目', 'C++ 项目', 'CSS 项目', 'Go 项目', 'Java 项...</td>\n",
       "      <td>12、saythanks.io：Kennethreitz 写的一个简单的网站（基于 Flas...</td>\n",
       "      <td>10</td>\n",
       "    </tr>\n",
       "    <tr>\n",
       "      <th>1</th>\n",
       "      <td>《HelloGitHub》第 10 期</td>\n",
       "      <td>['C# 项目', 'C++ 项目', 'CSS 项目', 'Go 项目', 'Java 项...</td>\n",
       "      <td>13、locust：模拟用户行为的负载测试工具，包含友好的 Web 页面，如下图：</td>\n",
       "      <td>10</td>\n",
       "    </tr>\n",
       "    <tr>\n",
       "      <th>2</th>\n",
       "      <td>《HelloGitHub》第 10 期</td>\n",
       "      <td>['C# 项目', 'C++ 项目', 'CSS 项目', 'Go 项目', 'Java 项...</td>\n",
       "      <td>14、jumpserver：Jumpserver 是一款由 Python 编写开源的跳板机（...</td>\n",
       "      <td>10</td>\n",
       "    </tr>\n",
       "    <tr>\n",
       "      <th>3</th>\n",
       "      <td>《HelloGitHub》第 11 期</td>\n",
       "      <td>['C 项目', 'Go 项目', 'Java 项目', 'JavaScript 项目', ...</td>\n",
       "      <td>8、sh：sh 是一个成熟，用于替代 subprocess，它允许你调用任何程序，就像它是一...</td>\n",
       "      <td>11</td>\n",
       "    </tr>\n",
       "    <tr>\n",
       "      <th>5</th>\n",
       "      <td>《HelloGitHub》第 11 期</td>\n",
       "      <td>['C 项目', 'Go 项目', 'Java 项目', 'JavaScript 项目', ...</td>\n",
       "      <td>9、fastText.py：fastText 简而言之，就是把文档中所有词通过 lookup...</td>\n",
       "      <td>11</td>\n",
       "    </tr>\n",
       "  </tbody>\n",
       "</table>\n",
       "</div>"
      ],
      "text/plain": [
       "                    期刊                                                 目录                                                 项目 期刊2\n",
       "0  《HelloGitHub》第 10 期  ['C# 项目', 'C++ 项目', 'CSS 项目', 'Go 项目', 'Java 项...  12、saythanks.io：Kennethreitz 写的一个简单的网站（基于 Flas...  10\n",
       "1  《HelloGitHub》第 10 期  ['C# 项目', 'C++ 项目', 'CSS 项目', 'Go 项目', 'Java 项...          13、locust：模拟用户行为的负载测试工具，包含友好的 Web 页面，如下图：  10\n",
       "2  《HelloGitHub》第 10 期  ['C# 项目', 'C++ 项目', 'CSS 项目', 'Go 项目', 'Java 项...  14、jumpserver：Jumpserver 是一款由 Python 编写开源的跳板机（...  10\n",
       "3  《HelloGitHub》第 11 期  ['C 项目', 'Go 项目', 'Java 项目', 'JavaScript 项目', ...  8、sh：sh 是一个成熟，用于替代 subprocess，它允许你调用任何程序，就像它是一...  11\n",
       "5  《HelloGitHub》第 11 期  ['C 项目', 'Go 项目', 'Java 项目', 'JavaScript 项目', ...  9、fastText.py：fastText 简而言之，就是把文档中所有词通过 lookup...  11"
      ]
     },
     "execution_count": 10,
     "metadata": {},
     "output_type": "execute_result"
    }
   ],
   "source": [
    "# 取出具体的期数\n",
    "df1[\"期刊2\"]=df1[\"期刊\"].apply(lambda x:x.split(\"第 \")[1].split(\" \")[0])\n",
    "df1.head()"
   ]
  },
  {
   "cell_type": "code",
   "execution_count": 11,
   "metadata": {},
   "outputs": [
    {
     "data": {
      "text/plain": [
       "[<matplotlib.lines.Line2D at 0x120351cf8>]"
      ]
     },
     "execution_count": 11,
     "metadata": {},
     "output_type": "execute_result"
    },
    {
     "data": {
      "image/png": "[encoded data removed]",
      "text/plain": [
       "<Figure size 1008x648 with 1 Axes>"
      ]
     },
     "metadata": {
      "needs_background": "light"
     },
     "output_type": "display_data"
    }
   ],
   "source": [
    "# 画图：每一期优质项目的分布\n",
    "plt.figure(figsize=(14, 9))\n",
    "plt.plot(df1.groupby(\"期刊2\").size())"
   ]
  },
  {
   "cell_type": "code",
   "execution_count": 12,
   "metadata": {},
   "outputs": [
    {
     "data": {
      "text/plain": [
       "649"
      ]
     },
     "execution_count": 12,
     "metadata": {},
     "output_type": "execute_result"
    }
   ],
   "source": [
    "# 提取所有项目总和\n",
    "list2=df2[\"目录\"].apply(lambda x:eval(x)).sum()\n",
    "len(list2)"
   ]
  },
  {
   "cell_type": "code",
   "execution_count": 13,
   "metadata": {},
   "outputs": [],
   "source": [
    "from collections import Counter"
   ]
  },
  {
   "cell_type": "code",
   "execution_count": 14,
   "metadata": {},
   "outputs": [
    {
     "data": {
      "text/plain": [
       "Counter({'C 项目': 31,\n",
       "         'Go 项目': 61,\n",
       "         'Java 项目': 62,\n",
       "         'JavaScript 项目': 62,\n",
       "         'Python 项目': 62,\n",
       "         'Swift 项目': 37,\n",
       "         '其它': 62,\n",
       "         '开源书籍': 41,\n",
       "         'C# 项目': 29,\n",
       "         'C++ 项目': 45,\n",
       "         'Objective-C 项目': 31,\n",
       "         '机器学习': 38,\n",
       "         'CSS 项目': 19,\n",
       "         'Kotlin 项目': 15,\n",
       "         'PHP 项目': 21,\n",
       "         'Rust 项目': 1,\n",
       "         'Ruby 项目': 25,\n",
       "         '教程': 7})"
      ]
     },
     "execution_count": 14,
     "metadata": {},
     "output_type": "execute_result"
    }
   ],
   "source": [
    "# 求出所有项目的数量分布\n",
    "count = Counter(list2)\n",
    "count"
   ]
  },
  {
   "cell_type": "code",
   "execution_count": 15,
   "metadata": {},
   "outputs": [
    {
     "data": {
      "text/html": [
       "<div>\n",
       "<style scoped>\n",
       "    .dataframe tbody tr th:only-of-type {\n",
       "        vertical-align: middle;\n",
       "    }\n",
       "\n",
       "    .dataframe tbody tr th {\n",
       "        vertical-align: top;\n",
       "    }\n",
       "\n",
       "    .dataframe thead th {\n",
       "        text-align: right;\n",
       "    }\n",
       "</style>\n",
       "<table border=\"1\" class=\"dataframe\">\n",
       "  <thead>\n",
       "    <tr style=\"text-align: right;\">\n",
       "      <th></th>\n",
       "      <th>index</th>\n",
       "      <th>0</th>\n",
       "      <th>index2</th>\n",
       "    </tr>\n",
       "  </thead>\n",
       "  <tbody>\n",
       "    <tr>\n",
       "      <th>2</th>\n",
       "      <td>Java 项目</td>\n",
       "      <td>62</td>\n",
       "      <td>Java</td>\n",
       "    </tr>\n",
       "    <tr>\n",
       "      <th>3</th>\n",
       "      <td>JavaScript 项目</td>\n",
       "      <td>62</td>\n",
       "      <td>JavaScript</td>\n",
       "    </tr>\n",
       "    <tr>\n",
       "      <th>4</th>\n",
       "      <td>Python 项目</td>\n",
       "      <td>62</td>\n",
       "      <td>Python</td>\n",
       "    </tr>\n",
       "    <tr>\n",
       "      <th>6</th>\n",
       "      <td>其它</td>\n",
       "      <td>62</td>\n",
       "      <td>其它</td>\n",
       "    </tr>\n",
       "    <tr>\n",
       "      <th>1</th>\n",
       "      <td>Go 项目</td>\n",
       "      <td>61</td>\n",
       "      <td>Go</td>\n",
       "    </tr>\n",
       "  </tbody>\n",
       "</table>\n",
       "</div>"
      ],
      "text/plain": [
       "           index   0      index2\n",
       "2        Java 项目  62        Java\n",
       "3  JavaScript 项目  62  JavaScript\n",
       "4      Python 项目  62      Python\n",
       "6             其它  62          其它\n",
       "1          Go 项目  61          Go"
      ]
     },
     "execution_count": 15,
     "metadata": {},
     "output_type": "execute_result"
    }
   ],
   "source": [
    "# 将字典转化为df\n",
    "df_obj=pd.DataFrame(count,index=[0]).T.reset_index()\n",
    "df_obj[\"index2\"]=df_obj[\"index\"].apply(lambda x:x.split(\" \")[0])\n",
    "df_obj=df_obj.sort_values(0,ascending=0)\n",
    "df_obj.head()"
   ]
  },
  {
   "cell_type": "code",
   "execution_count": 16,
   "metadata": {},
   "outputs": [
    {
     "data": {
      "image/png": "[encoded data removed]",
      "text/plain": [
       "<Figure size 1152x720 with 1 Axes>"
      ]
     },
     "metadata": {
      "needs_background": "light"
     },
     "output_type": "display_data"
    }
   ],
   "source": [
    "# 画图并保存\n",
    "plt.figure(figsize=(16, 10))\n",
    "plt.bar(df_obj[\"index2\"], df_obj[0], width=0.6)\n",
    "\n",
    "plt.xlabel('object',fontsize=20)\n",
    "plt.ylabel('count',fontsize=20)\n",
    "\n",
    "plt.savefig('/Users/super/Desktop/project.png')"
   ]
  },
  {
   "cell_type": "code",
   "execution_count": 17,
   "metadata": {},
   "outputs": [],
   "source": [
    "df1.to_excel(\"/Users/super/Desktop/py_obj_clean.xlsx\",index=False)"
   ]
  },
  {
   "cell_type": "code",
   "execution_count": null,
   "metadata": {},
   "outputs": [],
   "source": []
  }
 ],
 "metadata": {
  "kernelspec": {
   "display_name": "Python 3",
   "language": "python",
   "name": "python3"
  },
  "language_info": {
   "codemirror_mode": {
    "name": "ipython",
    "version": 3
   },
   "file_extension": ".py",
   "mimetype": "text/x-python",
   "name": "python",
   "nbconvert_exporter": "python",
   "pygments_lexer": "ipython3",
   "version": "3.7.3"
  }
 },
 "nbformat": 4,
 "nbformat_minor": 2
}
