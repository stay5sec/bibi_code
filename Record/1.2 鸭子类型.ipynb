{
 "cells": [
  {
   "cell_type": "code",
   "execution_count": 1,
   "metadata": {},
   "outputs": [],
   "source": [
    "class Cat():\n",
    "    def say(self):\n",
    "        print(\"I am a cat\")\n",
    "        \n",
    "class Dog():\n",
    "    def say(self):\n",
    "        print(\"I am a dog\")\n",
    "        \n",
    "class Duck():\n",
    "    def say(self):\n",
    "        print(\"I am a duck\")"
   ]
  },
  {
   "cell_type": "code",
   "execution_count": 3,
   "metadata": {},
   "outputs": [
    {
     "name": "stdout",
     "output_type": "stream",
     "text": [
      "I am a cat\n"
     ]
    }
   ],
   "source": [
    "animal = Cat()\n",
    "animal.say()"
   ]
  },
  {
   "cell_type": "code",
   "execution_count": 4,
   "metadata": {},
   "outputs": [
    {
     "name": "stdout",
     "output_type": "stream",
     "text": [
      "I am a cat\n",
      "I am a dog\n",
      "I am a duck\n"
     ]
    }
   ],
   "source": [
    "animal_list=[Cat,Dog,Duck]\n",
    "\n",
    "for ani in animal_list:\n",
    "    ani().say()"
   ]
  },
  {
   "cell_type": "markdown",
   "metadata": {},
   "source": [
    "只要三个类都定义了共同都say方法，就实现了多态。  \n",
    "这三个类就可以归位一种类型，这就是鸭子类型。"
   ]
  },
  {
   "cell_type": "code",
   "execution_count": 8,
   "metadata": {},
   "outputs": [
    {
     "name": "stdout",
     "output_type": "stream",
     "text": [
      "-----------------------分割线------------------------\n"
     ]
    }
   ],
   "source": [
    "print(\"分割线\".center(50,\"-\"))"
   ]
  },
  {
   "cell_type": "code",
   "execution_count": 10,
   "metadata": {},
   "outputs": [
    {
     "data": {
      "text/plain": [
       "['a1', 'a2', 'b1', 'b2']"
      ]
     },
     "execution_count": 10,
     "metadata": {},
     "output_type": "execute_result"
    }
   ],
   "source": [
    "a=[\"a1\",\"a2\"]\n",
    "b=[\"b1\",\"b2\"]\n",
    "\n",
    "a.extend(b)\n",
    "a"
   ]
  },
  {
   "cell_type": "markdown",
   "metadata": {},
   "source": [
    "#### Extend list by appending elements from the iterable.\n",
    "\n",
    "extend方法可以添加可迭代的参数，所以a不一定非要添加list，也可以是set，dict"
   ]
  },
  {
   "cell_type": "code",
   "execution_count": 17,
   "metadata": {},
   "outputs": [
    {
     "data": {
      "text/plain": [
       "{'c1': 1, 'c2': 2}"
      ]
     },
     "execution_count": 17,
     "metadata": {},
     "output_type": "execute_result"
    }
   ],
   "source": [
    "# 添加一个可迭代的字典\n",
    "c={\"c1\":1,\"c2\":2}\n",
    "c"
   ]
  },
  {
   "cell_type": "code",
   "execution_count": 18,
   "metadata": {},
   "outputs": [
    {
     "data": {
      "text/plain": [
       "['a1', 'a2', 'b1', 'b2', 'c1', 'c2']"
      ]
     },
     "execution_count": 18,
     "metadata": {},
     "output_type": "execute_result"
    }
   ],
   "source": [
    "a.extend(c)\n",
    "a"
   ]
  },
  {
   "cell_type": "code",
   "execution_count": 20,
   "metadata": {},
   "outputs": [
    {
     "data": {
      "text/plain": [
       "['a1', 'a2', 'b1', 'b2', 'c1', 'c2', 1, 2]"
      ]
     },
     "execution_count": 20,
     "metadata": {},
     "output_type": "execute_result"
    }
   ],
   "source": [
    "a.extend(c.values())\n",
    "a"
   ]
  },
  {
   "cell_type": "code",
   "execution_count": 21,
   "metadata": {},
   "outputs": [
    {
     "data": {
      "text/plain": [
       "{'d1', 'd2'}"
      ]
     },
     "execution_count": 21,
     "metadata": {},
     "output_type": "execute_result"
    }
   ],
   "source": [
    "# 添加一个可迭代的集合\n",
    "d=set()\n",
    "d.add(\"d1\")\n",
    "d.add(\"d2\")\n",
    "d"
   ]
  },
  {
   "cell_type": "code",
   "execution_count": 22,
   "metadata": {},
   "outputs": [
    {
     "data": {
      "text/plain": [
       "['a1', 'a2', 'b1', 'b2', 'c1', 'c2', 1, 2, 'd2', 'd1']"
      ]
     },
     "execution_count": 22,
     "metadata": {},
     "output_type": "execute_result"
    }
   ],
   "source": [
    "a.extend(d)\n",
    "a"
   ]
  },
  {
   "cell_type": "code",
   "execution_count": 23,
   "metadata": {},
   "outputs": [
    {
     "data": {
      "text/plain": [
       "<__main__.Company3 at 0x105bd17b8>"
      ]
     },
     "execution_count": 23,
     "metadata": {},
     "output_type": "execute_result"
    }
   ],
   "source": [
    "# 添加一个可以迭代的类\n",
    "class Company3():\n",
    "    def __init__(self,emp_list):\n",
    "        self.emp=emp_list\n",
    "        \n",
    "    def __getitem__(self,item):\n",
    "        return self.emp[item]\n",
    "        \n",
    "company=Company3([\"class1\",\"class2\",\"class3\"])\n",
    "company"
   ]
  },
  {
   "cell_type": "code",
   "execution_count": 24,
   "metadata": {},
   "outputs": [
    {
     "data": {
      "text/plain": [
       "['a1',\n",
       " 'a2',\n",
       " 'b1',\n",
       " 'b2',\n",
       " 'c1',\n",
       " 'c2',\n",
       " 1,\n",
       " 2,\n",
       " 'd2',\n",
       " 'd1',\n",
       " 'class1',\n",
       " 'class2',\n",
       " 'class3']"
      ]
     },
     "execution_count": 24,
     "metadata": {},
     "output_type": "execute_result"
    }
   ],
   "source": [
    "a.extend(company)\n",
    "a"
   ]
  },
  {
   "cell_type": "markdown",
   "metadata": {},
   "source": [
    "只要符合内置类型，就可以在python当中使用"
   ]
  },
  {
   "cell_type": "code",
   "execution_count": null,
   "metadata": {},
   "outputs": [],
   "source": []
  }
 ],
 "metadata": {
  "kernelspec": {
   "display_name": "Python 3",
   "language": "python",
   "name": "python3"
  },
  "language_info": {
   "codemirror_mode": {
    "name": "ipython",
    "version": 3
   },
   "file_extension": ".py",
   "mimetype": "text/x-python",
   "name": "python",
   "nbconvert_exporter": "python",
   "pygments_lexer": "ipython3",
   "version": "3.7.3"
  }
 },
 "nbformat": 4,
 "nbformat_minor": 2
}
