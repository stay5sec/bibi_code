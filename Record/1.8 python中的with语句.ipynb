{
 "cells": [
  {
   "cell_type": "markdown",
   "metadata": {},
   "source": [
    "### try except finally"
   ]
  },
  {
   "cell_type": "code",
   "execution_count": 3,
   "metadata": {},
   "outputs": [
    {
     "name": "stdout",
     "output_type": "stream",
     "text": [
      "start……\n",
      "key error\n"
     ]
    }
   ],
   "source": [
    "try:\n",
    "    print(\"start……\")\n",
    "    raise KeyError\n",
    "except KeyError as e:\n",
    "    print(\"key error\")"
   ]
  },
  {
   "cell_type": "code",
   "execution_count": 4,
   "metadata": {},
   "outputs": [
    {
     "name": "stdout",
     "output_type": "stream",
     "text": [
      "start……\n",
      "other error\n"
     ]
    }
   ],
   "source": [
    "# 没有抛出异样时会执行else\n",
    "try:\n",
    "    print(\"start……\")\n",
    "except KeyError as e:\n",
    "    print(\"key error\")\n",
    "else:\n",
    "    print(\"other error\")"
   ]
  },
  {
   "cell_type": "code",
   "execution_count": 5,
   "metadata": {},
   "outputs": [
    {
     "name": "stdout",
     "output_type": "stream",
     "text": [
      "start……\n",
      "key error\n",
      "finally\n"
     ]
    }
   ],
   "source": [
    "# 有异常时使用finally\n",
    "try:\n",
    "    print(\"start……\")\n",
    "    raise KeyError\n",
    "except KeyError as e:\n",
    "    print(\"key error\")\n",
    "else:\n",
    "    print(\"other error\")\n",
    "finally:\n",
    "    print(\"finally\")"
   ]
  },
  {
   "cell_type": "code",
   "execution_count": 8,
   "metadata": {},
   "outputs": [
    {
     "name": "stdout",
     "output_type": "stream",
     "text": [
      "start……\n",
      "key error\n",
      "finally\n"
     ]
    }
   ],
   "source": [
    "# 打开文件的运用场景\n",
    "try:\n",
    "    f=open(\"a.txt\")\n",
    "    print(\"start……\")\n",
    "    raise KeyError\n",
    "except KeyError as e:\n",
    "    print(\"key error\")\n",
    "else:\n",
    "    print(\"other error\")\n",
    "finally:\n",
    "    print(\"finally\")\n",
    "    f.close()"
   ]
  },
  {
   "cell_type": "markdown",
   "metadata": {},
   "source": [
    "当我们需要打开一个文件之后出现了报错  \n",
    "这时候就需要我们使用finally关闭文件（释放内存）"
   ]
  },
  {
   "cell_type": "markdown",
   "metadata": {},
   "source": [
    "### return 在try except中的用法"
   ]
  },
  {
   "cell_type": "code",
   "execution_count": 10,
   "metadata": {},
   "outputs": [],
   "source": [
    "def exe_try():\n",
    "    try:\n",
    "        print(\"start……\")\n",
    "        raise KeyError\n",
    "        return 1\n",
    "    except KeyError as e:\n",
    "        print(\"key error\")\n",
    "        return 2\n",
    "    else:\n",
    "        print(\"other error\")\n",
    "        return 3\n",
    "    finally:\n",
    "        print(\"finally\")\n",
    "        return 4"
   ]
  },
  {
   "cell_type": "code",
   "execution_count": 11,
   "metadata": {},
   "outputs": [
    {
     "name": "stdout",
     "output_type": "stream",
     "text": [
      "start……\n",
      "key error\n",
      "finally\n"
     ]
    },
    {
     "data": {
      "text/plain": [
       "4"
      ]
     },
     "execution_count": 11,
     "metadata": {},
     "output_type": "execute_result"
    }
   ],
   "source": [
    "result=exe_try()\n",
    "result"
   ]
  },
  {
   "cell_type": "markdown",
   "metadata": {},
   "source": [
    "我们发现并没有输出return 2 而是输出了finally中的return 4"
   ]
  },
  {
   "cell_type": "code",
   "execution_count": 12,
   "metadata": {},
   "outputs": [
    {
     "name": "stdout",
     "output_type": "stream",
     "text": [
      "start……\n",
      "key error\n",
      "finally\n"
     ]
    },
    {
     "data": {
      "text/plain": [
       "2"
      ]
     },
     "execution_count": 12,
     "metadata": {},
     "output_type": "execute_result"
    }
   ],
   "source": [
    "# 如果删除finally中的return，就会输出return 2\n",
    "def exe_try():\n",
    "    try:\n",
    "        print(\"start……\")\n",
    "        raise KeyError\n",
    "        return 1\n",
    "    except KeyError as e:\n",
    "        print(\"key error\")\n",
    "        return 2\n",
    "    else:\n",
    "        print(\"other error\")\n",
    "        return 3\n",
    "    finally:\n",
    "        print(\"finally\")\n",
    "result=exe_try()\n",
    "result"
   ]
  },
  {
   "cell_type": "markdown",
   "metadata": {},
   "source": [
    "### 上下文管理器"
   ]
  },
  {
   "cell_type": "code",
   "execution_count": 16,
   "metadata": {},
   "outputs": [],
   "source": [
    "# 定义一个类，添加魔法函数\n",
    "class Sample:\n",
    "    def __enter__(self):\n",
    "        print(\"enter\")\n",
    "        return self\n",
    "    def __exit__(self,exc_type,exc_val,exc_tb):\n",
    "        print(\"exit\")\n",
    "        \n",
    "    def do_something(self):\n",
    "        print(\"do someting\")"
   ]
  },
  {
   "cell_type": "code",
   "execution_count": 19,
   "metadata": {},
   "outputs": [
    {
     "name": "stdout",
     "output_type": "stream",
     "text": [
      "enter\n",
      "do someting\n",
      "exit\n"
     ]
    }
   ],
   "source": [
    "# 符合管理器协议，可以直接用with调用\n",
    "with Sample() as sample:\n",
    "    sample.do_something()"
   ]
  },
  {
   "cell_type": "markdown",
   "metadata": {},
   "source": [
    "首先调用enter这个魔法函数  \n",
    "其次调用类的方法do_something  \n",
    "最后调用exit这个魔法函数"
   ]
  },
  {
   "cell_type": "markdown",
   "metadata": {},
   "source": [
    "enter用于调用资源，exit用于释放资源"
   ]
  },
  {
   "cell_type": "markdown",
   "metadata": {},
   "source": [
    "### contextlib 简化with语句"
   ]
  },
  {
   "cell_type": "code",
   "execution_count": 20,
   "metadata": {},
   "outputs": [],
   "source": [
    "import contextlib"
   ]
  },
  {
   "cell_type": "code",
   "execution_count": 24,
   "metadata": {},
   "outputs": [
    {
     "name": "stdout",
     "output_type": "stream",
     "text": [
      "file open\n",
      "file processing\n",
      "file end\n"
     ]
    }
   ],
   "source": [
    "@contextlib.contextmanager\n",
    "def file_open(file_name):\n",
    "    print(\"file open\")\n",
    "    yield {}\n",
    "    print(\"file end\")\n",
    "\n",
    "with file_open(\"a.txt\") as f:\n",
    "    print(\"file processing\")"
   ]
  },
  {
   "cell_type": "markdown",
   "metadata": {},
   "source": [
    "contextlib利用生成器将魔法函数 enter和exit巧妙地添加进了函数  \n",
    "\n",
    "yield之前是enter，之后是exit"
   ]
  },
  {
   "cell_type": "code",
   "execution_count": null,
   "metadata": {},
   "outputs": [],
   "source": []
  }
 ],
 "metadata": {
  "kernelspec": {
   "display_name": "Python 3",
   "language": "python",
   "name": "python3"
  },
  "language_info": {
   "codemirror_mode": {
    "name": "ipython",
    "version": 3
   },
   "file_extension": ".py",
   "mimetype": "text/x-python",
   "name": "python",
   "nbconvert_exporter": "python",
   "pygments_lexer": "ipython3",
   "version": "3.7.3"
  }
 },
 "nbformat": 4,
 "nbformat_minor": 2
}
