{
 "cells": [
  {
   "cell_type": "markdown",
   "metadata": {},
   "source": [
    "### 函数的工作原理"
   ]
  },
  {
   "cell_type": "code",
   "execution_count": 3,
   "metadata": {},
   "outputs": [],
   "source": [
    "import dis"
   ]
  },
  {
   "cell_type": "code",
   "execution_count": 1,
   "metadata": {},
   "outputs": [],
   "source": [
    "def foo():\n",
    "    bar()\n",
    "    \n",
    "def bar():\n",
    "    pass"
   ]
  },
  {
   "cell_type": "markdown",
   "metadata": {},
   "source": [
    "py代码是运行在C程序之上：  \n",
    "PyEval_EvalFramEx(C函数)去执行foo"
   ]
  },
  {
   "cell_type": "code",
   "execution_count": 4,
   "metadata": {},
   "outputs": [
    {
     "name": "stdout",
     "output_type": "stream",
     "text": [
      "  2           0 LOAD_GLOBAL              0 (bar)\n",
      "              2 CALL_FUNCTION            0\n",
      "              4 POP_TOP\n",
      "              6 LOAD_CONST               0 (None)\n",
      "              8 RETURN_VALUE\n"
     ]
    }
   ],
   "source": [
    "dis.dis(foo)"
   ]
  },
  {
   "cell_type": "markdown",
   "metadata": {},
   "source": [
    "python一切皆对象：  \n",
    "使用dis函数显示【栈帧对象】-->【字节码对象】"
   ]
  },
  {
   "cell_type": "markdown",
   "metadata": {},
   "source": [
    "当foo调用子函数bar，又会创建一个栈帧  \n",
    "所有的栈帧都是分配在堆内存上（不释放会一直存在）  \n",
    "所以：栈帧可以独立于调用中存在"
   ]
  },
  {
   "cell_type": "code",
   "execution_count": 5,
   "metadata": {},
   "outputs": [],
   "source": [
    "import inspect\n",
    "frame=None"
   ]
  },
  {
   "cell_type": "code",
   "execution_count": 6,
   "metadata": {},
   "outputs": [],
   "source": [
    "def foo():\n",
    "    bar()\n",
    "    \n",
    "def bar():\n",
    "    global frame\n",
    "    frame=inspect.currentframe()"
   ]
  },
  {
   "cell_type": "code",
   "execution_count": 8,
   "metadata": {},
   "outputs": [],
   "source": [
    "foo()"
   ]
  },
  {
   "cell_type": "code",
   "execution_count": 9,
   "metadata": {},
   "outputs": [
    {
     "data": {
      "text/plain": [
       "'bar'"
      ]
     },
     "execution_count": 9,
     "metadata": {},
     "output_type": "execute_result"
    }
   ],
   "source": [
    "# 提取bar的栈帧\n",
    "frame.f_code.co_name"
   ]
  },
  {
   "cell_type": "code",
   "execution_count": 11,
   "metadata": {},
   "outputs": [
    {
     "data": {
      "text/plain": [
       "'foo'"
      ]
     },
     "execution_count": 11,
     "metadata": {},
     "output_type": "execute_result"
    }
   ],
   "source": [
    "# 提取foo的栈帧\n",
    "caller_frame=frame.f_back\n",
    "caller_frame.f_code.co_name"
   ]
  },
  {
   "cell_type": "markdown",
   "metadata": {},
   "source": [
    "生成器对象就是利用了python栈帧都是分配在堆内存上这一特性"
   ]
  },
  {
   "cell_type": "code",
   "execution_count": 12,
   "metadata": {},
   "outputs": [],
   "source": [
    "def gen_func():\n",
    "    yield 1\n",
    "    name=\"user\"\n",
    "    yield 2\n",
    "    age=30\n",
    "    return \"hehe\""
   ]
  },
  {
   "cell_type": "code",
   "execution_count": 14,
   "metadata": {},
   "outputs": [],
   "source": [
    "gen=gen_func()"
   ]
  },
  {
   "cell_type": "code",
   "execution_count": 16,
   "metadata": {},
   "outputs": [
    {
     "name": "stdout",
     "output_type": "stream",
     "text": [
      "  2           0 LOAD_CONST               1 (1)\n",
      "              2 YIELD_VALUE\n",
      "              4 POP_TOP\n",
      "\n",
      "  3           6 LOAD_CONST               2 ('user')\n",
      "              8 STORE_FAST               0 (name)\n",
      "\n",
      "  4          10 LOAD_CONST               3 (2)\n",
      "             12 YIELD_VALUE\n",
      "             14 POP_TOP\n",
      "\n",
      "  5          16 LOAD_CONST               4 (30)\n",
      "             18 STORE_FAST               1 (age)\n",
      "\n",
      "  6          20 LOAD_CONST               5 ('hehe')\n",
      "             22 RETURN_VALUE\n"
     ]
    }
   ],
   "source": [
    "dis.dis(gen)"
   ]
  },
  {
   "cell_type": "markdown",
   "metadata": {},
   "source": [
    "### 总结：  \n",
    "这样整个生成器对象就存在与堆内存中，可以独立存在，每次执行一次函数，就会生成一个栈帧对象。  \n",
    "我们可以在任何地方，只要能拿到这个栈帧对象就能够往前走。这也是python中协程的一个理论基础。"
   ]
  },
  {
   "cell_type": "markdown",
   "metadata": {},
   "source": [
    "### 生成器运用"
   ]
  },
  {
   "cell_type": "code",
   "execution_count": 27,
   "metadata": {},
   "outputs": [],
   "source": [
    "from collections import UserList"
   ]
  },
  {
   "cell_type": "markdown",
   "metadata": {},
   "source": [
    "由于内部list是用C写的，可以使用coll中的list"
   ]
  },
  {
   "cell_type": "code",
   "execution_count": 43,
   "metadata": {},
   "outputs": [],
   "source": [
    "#500G的数据，只有一行\n",
    "\n",
    "def myreadlines(f,newline):\n",
    "    buf=\"\"\n",
    "    while True:\n",
    "        \n",
    "        while newline in buf:\n",
    "            pos=buf.index(newline)\n",
    "            yield buf[:pos]\n",
    "            buf=buf[pos+len(newline):]\n",
    "            \n",
    "        chunk=f.read(4096)\n",
    "        \n",
    "        if not chunk:\n",
    "            yield buf\n",
    "            break\n",
    "            \n",
    "        buf += chunk"
   ]
  },
  {
   "cell_type": "markdown",
   "metadata": {},
   "source": [
    "假设分隔符不在buf中：读取文件中的一段数据【长度自己定义】  \n",
    "存在了分隔符的数据：1，找到位置；2，返回切分完的字符串；3，保留截取之后的字符串  \n",
    "存在分隔符的数据处理完毕：1，接着读文件中的数据；2，截取数据合并上读取出来的数据；3，重复第二步  \n",
    "读到最后没有了数据了：直接返回【截取数据合并上读取出来的数据】buf"
   ]
  },
  {
   "cell_type": "code",
   "execution_count": 29,
   "metadata": {},
   "outputs": [
    {
     "name": "stdout",
     "output_type": "stream",
     "text": [
      "sddsdasdsdsdasdasd\n",
      "adsiadhishdiashdisdhis\n",
      "dhasdiashdiasd\n",
      "vasudsadisabxasbadsbdsd\n",
      "bdusbdasdiashdisnidas\n",
      "dsbdbsdbia\n",
      "\n"
     ]
    }
   ],
   "source": [
    "with open(\"b.txt\") as f:\n",
    "    for line in myreadlines(f,\",\"):\n",
    "        print(line)"
   ]
  },
  {
   "cell_type": "code",
   "execution_count": 42,
   "metadata": {},
   "outputs": [],
   "source": [
    "# def myreadlines2(f,newline):\n",
    "#     buf=\"\"\n",
    "#     while True:\n",
    "#         while newline in buf:\n",
    "#             pos=buf.index(newline)\n",
    "# #             print(pos)\n",
    "#             yield buf[:pos]\n",
    "#             buf=buf[pos+len(newline):]\n",
    "#         chunk=f.read(43)\n",
    "# #         print(chunk)\n",
    "#         if not chunk:\n",
    "#             yield buf\n",
    "#             break\n",
    "#         buf+=chunk\n",
    "#         print(\"|\"+buf+\"|\")\n",
    "        \n",
    "# with open(\"b.txt\") as f:\n",
    "#     for line in myreadlines2(f,\",\"):\n",
    "#         pass\n",
    "# #         print(line)\n"
   ]
  },
  {
   "cell_type": "code",
   "execution_count": null,
   "metadata": {},
   "outputs": [],
   "source": []
  }
 ],
 "metadata": {
  "kernelspec": {
   "display_name": "Python 3",
   "language": "python",
   "name": "python3"
  },
  "language_info": {
   "codemirror_mode": {
    "name": "ipython",
    "version": 3
   },
   "file_extension": ".py",
   "mimetype": "text/x-python",
   "name": "python",
   "nbconvert_exporter": "python",
   "pygments_lexer": "ipython3",
   "version": "3.7.3"
  }
 },
 "nbformat": 4,
 "nbformat_minor": 2
}
