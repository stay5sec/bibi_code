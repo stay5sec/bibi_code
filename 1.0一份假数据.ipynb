{
 "cells": [
  {
   "cell_type": "code",
   "execution_count": 1,
   "metadata": {},
   "outputs": [],
   "source": [
    "from faker import Faker\n",
    "import pandas as pd\n",
    "\n",
    "pd.set_option('expand_frame_repr', False)\n",
    "pd.set_option('display.max_rows', 1000)"
   ]
  },
  {
   "cell_type": "code",
   "execution_count": 2,
   "metadata": {},
   "outputs": [],
   "source": [
    "import warnings\n",
    "\n",
    "warnings.filterwarnings(\"ignore\")"
   ]
  },
  {
   "cell_type": "code",
   "execution_count": 3,
   "metadata": {},
   "outputs": [],
   "source": [
    "fake = Faker(locale='zh_CN')"
   ]
  },
  {
   "cell_type": "code",
   "execution_count": 4,
   "metadata": {},
   "outputs": [
    {
     "data": {
      "text/plain": [
       "'香港特别行政区长春市长寿辽阳街s座 970779'"
      ]
     },
     "execution_count": 4,
     "metadata": {},
     "output_type": "execute_result"
    }
   ],
   "source": [
    "fake.address()"
   ]
  },
  {
   "cell_type": "code",
   "execution_count": 5,
   "metadata": {},
   "outputs": [
    {
     "data": {
      "text/plain": [
       "{'username': 'mingsong',\n",
       " 'name': '任瑞',\n",
       " 'sex': 'F',\n",
       " 'address': '黑龙江省燕县大兴徐街L座 723092',\n",
       " 'mail': 'vtian@gmail.com',\n",
       " 'birthdate': datetime.date(1931, 12, 5)}"
      ]
     },
     "execution_count": 5,
     "metadata": {},
     "output_type": "execute_result"
    }
   ],
   "source": [
    "fake.simple_profile()"
   ]
  },
  {
   "cell_type": "code",
   "execution_count": 6,
   "metadata": {},
   "outputs": [
    {
     "data": {
      "text/plain": [
       "[{'username': 'na01',\n",
       "  'name': '荣建华',\n",
       "  'sex': 'F',\n",
       "  'address': '云南省郑州市城东太原街q座 504737',\n",
       "  'mail': 'caoxia@yahoo.com',\n",
       "  'birthdate': datetime.date(1960, 10, 14)},\n",
       " {'username': 'qiuwei',\n",
       "  'name': '孙莹',\n",
       "  'sex': 'F',\n",
       "  'address': '安徽省桂芝县山亭关岭路W座 160021',\n",
       "  'mail': 'kangxiulan@yahoo.com',\n",
       "  'birthdate': datetime.date(2003, 8, 5)},\n",
       " {'username': 'leiyu',\n",
       "  'name': '周兰英',\n",
       "  'sex': 'F',\n",
       "  'address': '内蒙古自治区呼和浩特市翔安柳路l座 889370',\n",
       "  'mail': 'guiyinglai@hotmail.com',\n",
       "  'birthdate': datetime.date(1926, 6, 19)},\n",
       " {'username': 'yongmo',\n",
       "  'name': '谷玲',\n",
       "  'sex': 'M',\n",
       "  'address': '辽宁省婷县沙市张街T座 702085',\n",
       "  'mail': 'tanmin@yahoo.com',\n",
       "  'birthdate': datetime.date(1948, 3, 17)},\n",
       " {'username': 'bhu',\n",
       "  'name': '沈秀荣',\n",
       "  'sex': 'M',\n",
       "  'address': '贵州省梅县西峰潮州路d座 366246',\n",
       "  'mail': 'juanpeng@hotmail.com',\n",
       "  'birthdate': datetime.date(1908, 6, 18)},\n",
       " {'username': 'suyang',\n",
       "  'name': '叶鹏',\n",
       "  'sex': 'M',\n",
       "  'address': '台湾省重庆市城北罗路a座 868606',\n",
       "  'mail': 'llu@hotmail.com',\n",
       "  'birthdate': datetime.date(1934, 5, 7)}]"
      ]
     },
     "execution_count": 6,
     "metadata": {},
     "output_type": "execute_result"
    }
   ],
   "source": [
    "list1 = []\n",
    "\n",
    "for i in range(6):\n",
    "    list1.append(fake.simple_profile())\n",
    "    \n",
    "list1"
   ]
  },
  {
   "cell_type": "code",
   "execution_count": 7,
   "metadata": {},
   "outputs": [
    {
     "data": {
      "text/html": [
       "<div>\n",
       "<style scoped>\n",
       "    .dataframe tbody tr th:only-of-type {\n",
       "        vertical-align: middle;\n",
       "    }\n",
       "\n",
       "    .dataframe tbody tr th {\n",
       "        vertical-align: top;\n",
       "    }\n",
       "\n",
       "    .dataframe thead th {\n",
       "        text-align: right;\n",
       "    }\n",
       "</style>\n",
       "<table border=\"1\" class=\"dataframe\">\n",
       "  <thead>\n",
       "    <tr style=\"text-align: right;\">\n",
       "      <th></th>\n",
       "      <th>address</th>\n",
       "      <th>birthdate</th>\n",
       "      <th>mail</th>\n",
       "      <th>name</th>\n",
       "      <th>sex</th>\n",
       "      <th>username</th>\n",
       "    </tr>\n",
       "  </thead>\n",
       "  <tbody>\n",
       "    <tr>\n",
       "      <th>0</th>\n",
       "      <td>云南省郑州市城东太原街q座 504737</td>\n",
       "      <td>1960-10-14</td>\n",
       "      <td>caoxia@yahoo.com</td>\n",
       "      <td>荣建华</td>\n",
       "      <td>F</td>\n",
       "      <td>na01</td>\n",
       "    </tr>\n",
       "    <tr>\n",
       "      <th>1</th>\n",
       "      <td>安徽省桂芝县山亭关岭路W座 160021</td>\n",
       "      <td>2003-08-05</td>\n",
       "      <td>kangxiulan@yahoo.com</td>\n",
       "      <td>孙莹</td>\n",
       "      <td>F</td>\n",
       "      <td>qiuwei</td>\n",
       "    </tr>\n",
       "    <tr>\n",
       "      <th>2</th>\n",
       "      <td>内蒙古自治区呼和浩特市翔安柳路l座 889370</td>\n",
       "      <td>1926-06-19</td>\n",
       "      <td>guiyinglai@hotmail.com</td>\n",
       "      <td>周兰英</td>\n",
       "      <td>F</td>\n",
       "      <td>leiyu</td>\n",
       "    </tr>\n",
       "    <tr>\n",
       "      <th>3</th>\n",
       "      <td>辽宁省婷县沙市张街T座 702085</td>\n",
       "      <td>1948-03-17</td>\n",
       "      <td>tanmin@yahoo.com</td>\n",
       "      <td>谷玲</td>\n",
       "      <td>M</td>\n",
       "      <td>yongmo</td>\n",
       "    </tr>\n",
       "    <tr>\n",
       "      <th>4</th>\n",
       "      <td>贵州省梅县西峰潮州路d座 366246</td>\n",
       "      <td>1908-06-18</td>\n",
       "      <td>juanpeng@hotmail.com</td>\n",
       "      <td>沈秀荣</td>\n",
       "      <td>M</td>\n",
       "      <td>bhu</td>\n",
       "    </tr>\n",
       "    <tr>\n",
       "      <th>5</th>\n",
       "      <td>台湾省重庆市城北罗路a座 868606</td>\n",
       "      <td>1934-05-07</td>\n",
       "      <td>llu@hotmail.com</td>\n",
       "      <td>叶鹏</td>\n",
       "      <td>M</td>\n",
       "      <td>suyang</td>\n",
       "    </tr>\n",
       "  </tbody>\n",
       "</table>\n",
       "</div>"
      ],
      "text/plain": [
       "                    address   birthdate                    mail name sex username\n",
       "0      云南省郑州市城东太原街q座 504737  1960-10-14        caoxia@yahoo.com  荣建华   F     na01\n",
       "1      安徽省桂芝县山亭关岭路W座 160021  2003-08-05    kangxiulan@yahoo.com   孙莹   F   qiuwei\n",
       "2  内蒙古自治区呼和浩特市翔安柳路l座 889370  1926-06-19  guiyinglai@hotmail.com  周兰英   F    leiyu\n",
       "3        辽宁省婷县沙市张街T座 702085  1948-03-17        tanmin@yahoo.com   谷玲   M   yongmo\n",
       "4       贵州省梅县西峰潮州路d座 366246  1908-06-18    juanpeng@hotmail.com  沈秀荣   M      bhu\n",
       "5       台湾省重庆市城北罗路a座 868606  1934-05-07         llu@hotmail.com   叶鹏   M   suyang"
      ]
     },
     "execution_count": 7,
     "metadata": {},
     "output_type": "execute_result"
    }
   ],
   "source": [
    "df = pd.DataFrame(list1)\n",
    "df"
   ]
  },
  {
   "cell_type": "code",
   "execution_count": 8,
   "metadata": {},
   "outputs": [
    {
     "data": {
      "text/html": [
       "<div>\n",
       "<style scoped>\n",
       "    .dataframe tbody tr th:only-of-type {\n",
       "        vertical-align: middle;\n",
       "    }\n",
       "\n",
       "    .dataframe tbody tr th {\n",
       "        vertical-align: top;\n",
       "    }\n",
       "\n",
       "    .dataframe thead th {\n",
       "        text-align: right;\n",
       "    }\n",
       "</style>\n",
       "<table border=\"1\" class=\"dataframe\">\n",
       "  <thead>\n",
       "    <tr style=\"text-align: right;\">\n",
       "      <th></th>\n",
       "      <th>name</th>\n",
       "      <th>username</th>\n",
       "      <th>sex</th>\n",
       "      <th>mail</th>\n",
       "      <th>birthdate</th>\n",
       "      <th>address</th>\n",
       "    </tr>\n",
       "  </thead>\n",
       "  <tbody>\n",
       "    <tr>\n",
       "      <th>0</th>\n",
       "      <td>荣建华</td>\n",
       "      <td>na01</td>\n",
       "      <td>F</td>\n",
       "      <td>caoxia@yahoo.com</td>\n",
       "      <td>1960-10-14</td>\n",
       "      <td>云南省郑州市城东太原街q座 504737</td>\n",
       "    </tr>\n",
       "    <tr>\n",
       "      <th>1</th>\n",
       "      <td>孙莹</td>\n",
       "      <td>qiuwei</td>\n",
       "      <td>F</td>\n",
       "      <td>kangxiulan@yahoo.com</td>\n",
       "      <td>2003-08-05</td>\n",
       "      <td>安徽省桂芝县山亭关岭路W座 160021</td>\n",
       "    </tr>\n",
       "    <tr>\n",
       "      <th>2</th>\n",
       "      <td>周兰英</td>\n",
       "      <td>leiyu</td>\n",
       "      <td>F</td>\n",
       "      <td>guiyinglai@hotmail.com</td>\n",
       "      <td>1926-06-19</td>\n",
       "      <td>内蒙古自治区呼和浩特市翔安柳路l座 889370</td>\n",
       "    </tr>\n",
       "    <tr>\n",
       "      <th>3</th>\n",
       "      <td>谷玲</td>\n",
       "      <td>yongmo</td>\n",
       "      <td>M</td>\n",
       "      <td>tanmin@yahoo.com</td>\n",
       "      <td>1948-03-17</td>\n",
       "      <td>辽宁省婷县沙市张街T座 702085</td>\n",
       "    </tr>\n",
       "    <tr>\n",
       "      <th>4</th>\n",
       "      <td>沈秀荣</td>\n",
       "      <td>bhu</td>\n",
       "      <td>M</td>\n",
       "      <td>juanpeng@hotmail.com</td>\n",
       "      <td>1908-06-18</td>\n",
       "      <td>贵州省梅县西峰潮州路d座 366246</td>\n",
       "    </tr>\n",
       "    <tr>\n",
       "      <th>5</th>\n",
       "      <td>叶鹏</td>\n",
       "      <td>suyang</td>\n",
       "      <td>M</td>\n",
       "      <td>llu@hotmail.com</td>\n",
       "      <td>1934-05-07</td>\n",
       "      <td>台湾省重庆市城北罗路a座 868606</td>\n",
       "    </tr>\n",
       "  </tbody>\n",
       "</table>\n",
       "</div>"
      ],
      "text/plain": [
       "  name username sex                    mail   birthdate                   address\n",
       "0  荣建华     na01   F        caoxia@yahoo.com  1960-10-14      云南省郑州市城东太原街q座 504737\n",
       "1   孙莹   qiuwei   F    kangxiulan@yahoo.com  2003-08-05      安徽省桂芝县山亭关岭路W座 160021\n",
       "2  周兰英    leiyu   F  guiyinglai@hotmail.com  1926-06-19  内蒙古自治区呼和浩特市翔安柳路l座 889370\n",
       "3   谷玲   yongmo   M        tanmin@yahoo.com  1948-03-17        辽宁省婷县沙市张街T座 702085\n",
       "4  沈秀荣      bhu   M    juanpeng@hotmail.com  1908-06-18       贵州省梅县西峰潮州路d座 366246\n",
       "5   叶鹏   suyang   M         llu@hotmail.com  1934-05-07       台湾省重庆市城北罗路a座 868606"
      ]
     },
     "execution_count": 8,
     "metadata": {},
     "output_type": "execute_result"
    }
   ],
   "source": [
    "df = df[[\"name\", \"username\", \"sex\", \"mail\", \"birthdate\", \"address\"]]\n",
    "df"
   ]
  },
  {
   "cell_type": "code",
   "execution_count": 9,
   "metadata": {},
   "outputs": [
    {
     "data": {
      "text/html": [
       "<div>\n",
       "<style scoped>\n",
       "    .dataframe tbody tr th:only-of-type {\n",
       "        vertical-align: middle;\n",
       "    }\n",
       "\n",
       "    .dataframe tbody tr th {\n",
       "        vertical-align: top;\n",
       "    }\n",
       "\n",
       "    .dataframe thead th {\n",
       "        text-align: right;\n",
       "    }\n",
       "</style>\n",
       "<table border=\"1\" class=\"dataframe\">\n",
       "  <thead>\n",
       "    <tr style=\"text-align: right;\">\n",
       "      <th></th>\n",
       "      <th>name</th>\n",
       "      <th>username</th>\n",
       "      <th>sex</th>\n",
       "      <th>mail</th>\n",
       "      <th>birthdate</th>\n",
       "      <th>address</th>\n",
       "      <th>post</th>\n",
       "    </tr>\n",
       "  </thead>\n",
       "  <tbody>\n",
       "    <tr>\n",
       "      <th>0</th>\n",
       "      <td>荣建华</td>\n",
       "      <td>na01</td>\n",
       "      <td>F</td>\n",
       "      <td>caoxia@yahoo.com</td>\n",
       "      <td>1960-10-14</td>\n",
       "      <td>云南省郑州市城东太原街q座</td>\n",
       "      <td>504737</td>\n",
       "    </tr>\n",
       "    <tr>\n",
       "      <th>1</th>\n",
       "      <td>孙莹</td>\n",
       "      <td>qiuwei</td>\n",
       "      <td>F</td>\n",
       "      <td>kangxiulan@yahoo.com</td>\n",
       "      <td>2003-08-05</td>\n",
       "      <td>安徽省桂芝县山亭关岭路W座</td>\n",
       "      <td>160021</td>\n",
       "    </tr>\n",
       "    <tr>\n",
       "      <th>2</th>\n",
       "      <td>周兰英</td>\n",
       "      <td>leiyu</td>\n",
       "      <td>F</td>\n",
       "      <td>guiyinglai@hotmail.com</td>\n",
       "      <td>1926-06-19</td>\n",
       "      <td>内蒙古自治区呼和浩特市翔安柳路l座</td>\n",
       "      <td>889370</td>\n",
       "    </tr>\n",
       "    <tr>\n",
       "      <th>3</th>\n",
       "      <td>谷玲</td>\n",
       "      <td>yongmo</td>\n",
       "      <td>M</td>\n",
       "      <td>tanmin@yahoo.com</td>\n",
       "      <td>1948-03-17</td>\n",
       "      <td>辽宁省婷县沙市张街T座</td>\n",
       "      <td>702085</td>\n",
       "    </tr>\n",
       "    <tr>\n",
       "      <th>4</th>\n",
       "      <td>沈秀荣</td>\n",
       "      <td>bhu</td>\n",
       "      <td>M</td>\n",
       "      <td>juanpeng@hotmail.com</td>\n",
       "      <td>1908-06-18</td>\n",
       "      <td>贵州省梅县西峰潮州路d座</td>\n",
       "      <td>366246</td>\n",
       "    </tr>\n",
       "    <tr>\n",
       "      <th>5</th>\n",
       "      <td>叶鹏</td>\n",
       "      <td>suyang</td>\n",
       "      <td>M</td>\n",
       "      <td>llu@hotmail.com</td>\n",
       "      <td>1934-05-07</td>\n",
       "      <td>台湾省重庆市城北罗路a座</td>\n",
       "      <td>868606</td>\n",
       "    </tr>\n",
       "  </tbody>\n",
       "</table>\n",
       "</div>"
      ],
      "text/plain": [
       "  name username sex                    mail   birthdate            address    post\n",
       "0  荣建华     na01   F        caoxia@yahoo.com  1960-10-14      云南省郑州市城东太原街q座  504737\n",
       "1   孙莹   qiuwei   F    kangxiulan@yahoo.com  2003-08-05      安徽省桂芝县山亭关岭路W座  160021\n",
       "2  周兰英    leiyu   F  guiyinglai@hotmail.com  1926-06-19  内蒙古自治区呼和浩特市翔安柳路l座  889370\n",
       "3   谷玲   yongmo   M        tanmin@yahoo.com  1948-03-17        辽宁省婷县沙市张街T座  702085\n",
       "4  沈秀荣      bhu   M    juanpeng@hotmail.com  1908-06-18       贵州省梅县西峰潮州路d座  366246\n",
       "5   叶鹏   suyang   M         llu@hotmail.com  1934-05-07       台湾省重庆市城北罗路a座  868606"
      ]
     },
     "execution_count": 9,
     "metadata": {},
     "output_type": "execute_result"
    }
   ],
   "source": [
    "df[\"post\"] = df[\"address\"].apply(lambda x: x.split(\" \")[-1])\n",
    "df[\"address\"] = df[\"address\"].apply(lambda x: x.split(\" \")[0])\n",
    "df"
   ]
  },
  {
   "cell_type": "code",
   "execution_count": null,
   "metadata": {},
   "outputs": [],
   "source": []
  }
 ],
 "metadata": {
  "kernelspec": {
   "display_name": "Python 3",
   "language": "python",
   "name": "python3"
  },
  "language_info": {
   "codemirror_mode": {
    "name": "ipython",
    "version": 3
   },
   "file_extension": ".py",
   "mimetype": "text/x-python",
   "name": "python",
   "nbconvert_exporter": "python",
   "pygments_lexer": "ipython3",
   "version": "3.7.3"
  }
 },
 "nbformat": 4,
 "nbformat_minor": 2
}
