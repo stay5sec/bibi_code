{
 "cells": [
  {
   "cell_type": "code",
   "execution_count": 1,
   "metadata": {},
   "outputs": [],
   "source": [
    "from pyquery import PyQuery\n",
    "import requests\n",
    "import re\n",
    "import warnings\n",
    "\n",
    "warnings.filterwarnings(\"ignore\")\n",
    "\n",
    "html = requests.get(\"https://github.com/521xueweihan/HelloGitHub/blob/master/content/15/HelloGitHub15.md\").text\n",
    "\n",
    "res = PyQuery(html)"
   ]
  },
  {
   "cell_type": "code",
   "execution_count": 2,
   "metadata": {},
   "outputs": [
    {
     "data": {
      "text/plain": [
       "'《HelloGitHub》第 15 期\\n兴趣是最好的老师，HelloGitHub 就是帮你找到兴趣！\\n简介\\n分享 GitHub 上有趣、入门级的开源项目。\\n这是一个面向编程新手、热爱编程、对开源社区感兴趣 人群的月刊，月刊的内容包括：各种编程语言的项目、让生活变得更美好的工具、书籍、学习笔记、教程等，这些开源项目大多都是非常容易上手，而且非常 Cool。主要是希望大家能动手用起来，加入到开源社区中。\\n会编程的可以贡献代码\\n不会编程的可以反馈使用这些工具中的 Bug\\n帮着宣传你觉得优秀的项目\\nStar 项目\\n⭐️\\n在浏览、参与这些项目的过程中，你将学习到更多编程知识、提高编程技巧、找到编程的乐趣。\\n🎉\\n最后 HelloGitHub 这个项目就诞生了\\n🎉\\n目录\\nC++ 项目\\nCSS 项目\\nGo 项目\\nJava 项目\\nJavaScript 项目\\nObjective-C 项目\\nPython 项目\\nRuby 项目\\n其它\\n开源书籍\\nTips：如果文中的图刷不出来，可以向我们反馈。也可以访问 官网 获取更好的阅读体验。\\n\\n欢迎关注 HelloGitHub 公众号\\n内容\\n以下为本期内容｜每个月 28 号发布最新一期\\nC++ 项目\\n1、snake：贪吃蛇游戏 AI 版，通过算法实现让小蛇通过吃豆，最后蛇的身体填满整个地图算结束。该项目详细描述实现思想以及相关算法的讨论\\n🔙\\n返回目录\\n🔙\\n\\n\\nCSS 项目\\n2、mdui：MDUI 是一套用于开发 Material Design 网页的响应式前端框架。没有任何依赖，支持主题切换，轻量级，低学习成本，文档\\n🔙\\n返回目录\\n🔙\\n\\n\\nGo 项目\\n3、aliyungo：非官方的 Aliyun Go语言 SDK 支持API：ECS, OSS, DNS, SLB, RDS, RAM, MNS, STS, SLS, MQ, Push, OpenSearch, DM, Container Service\\n4、conference：Go 语言实际项目应用的技术分享\\n🔙\\n返回目录\\n🔙\\n\\n\\nJava 项目\\n5、FunGameRefresh：好玩的下拉刷新控件\\n6、ProgressManager：一行代码即可监听 App 中所有网络链接的上传以及下载进度，包括 Glide 的图片加载进度。实现原理类似 EventBus 你可在 App 中的任何地方，将多个监听器以 URL 地址作为标识符，注册到本框架。当此 URL 地址存在下载或者上传的动作时，框架会主动调用所有使用此 URL 地址注册过的监听器，达到多个模块的同步更新\\n🔙\\n返回目录\\n🔙\\n\\n\\nJavaScript 项目\\n7、veneno：一个基于 Node.js 编写的 web 安全漏洞自动化扫描框架\\n8、xdomain：纯 JavaScript 实现 CROS 的库，在线示例\\n9、font-spider：字蛛是一个智能 WebFont 压缩工具，它能自动分析出页面使用的 WebFont 并进行按需压缩\\n10、slick：实现了几乎所有效果的轮播图插件，在线演示\\n🔙\\n返回目录\\n🔙\\n\\n\\nObjective-C 项目\\n11、spectacle：OS X 系统下的窗口管理工具，通过快捷键方便、快捷的调整窗口大小和位置\\n12、FLEX：用于 iOS 开发的一组应用内调试工具，功能强大且多，多到不一一列举了\\n🔙\\n返回目录\\n🔙\\n\\n\\nPython 项目\\n13、musicbox：基于 Python 编写的网易云音乐命令行版本，使用起来简单优雅，能够快速安装及使用\\n14、django-blog-tutorial：基于最新版 Django 1.10 和 Python 3.5，通过 26 篇教程一步步带你使用 Django 从零开发一个个人博客系统，在实践的同时掌握 Django 的开发技巧，完成效果展示\\n15、aredis：一款基于 Python3 asyncio 的异步 redis 客户端，支持对于单实例，连接池， 哨兵以及集群。作者希望可以找到志同道合的小伙伴集思广益，一起维护、优化。示例代码如下：\\n>>> import asyncio >>> from aredis import StrictRedis >>> >>> async def example(): >>> client = StrictRedis(host=\\'127.0.0.1\\', port=6379, db=0) >>> await client.flushdb() >>> await client.set(\\'foo\\', 1) >>> assert await client.exists(\\'foo\\') is True >>> await client.incr(\\'foo\\', 100) >>> >>> assert int(await client.get(\\'foo\\')) == 101 >>> await client.expire(\\'foo\\', 1) >>> await asyncio.sleep(0.1) >>> await client.ttl(\\'foo\\') >>> await asyncio.sleep(1) >>> assert not await client.exists(\\'foo\\') >>> >>> loop = asyncio.get_event_loop() >>> loop.run_until_complete(example())\\n16、freezegun：时间漫步模块，模拟到某一个时间，使用简单方式多样，实现了装饰器、上下文等调用方式。示例代码如下：\\nfrom freezegun import freeze_time import datetime import unittest @freeze_time(\"2012-01-14\") def test(): assert datetime.datetime.now() == datetime.datetime(2012, 1, 14)\\n🔙\\n返回目录\\n🔙\\n\\n\\nRuby 项目\\n17、mastodon：基于 Ruby 语言的社交网站服务器端所有的源代码，通过这个项目，你可以自己部署一个属于自己的社交网站\\n🔙\\n返回目录\\n🔙\\n\\n\\n其它\\n18、vim-galore-zh_cn：Vim 从入门到精通\\n19、Spacemacs-rocks：用 21 天学习 Emacs 以及 Spacemacs（Emacs 的配置文件）的使用\\n20、SpaceVim：一个社区驱动的模块化 vim/neovim 配置集合，其中包含了多种功能模块，并且针对 neovim 做了功能优化。spacevim 有多种功能模块可供选择，支持多种语言。用户只需要选择需要的模块，就可以配置出一个适合自己的开发环境\\n21、English-level-up-tips-for-Chinese：如何提高英语技能\\n22、ch：类似 virtualenv，可以在 Linux 下建立虛拟的 home 目录並切换，以管理不同工作或项目的文件\\n🔙\\n返回目录\\n🔙\\n\\n\\n开源书籍\\n23、redis：《Redis Command Reference》全文的中文翻译版，在线阅读\\n24、es6tutorial：阮一峰老师的开源精品，ECMAScript 6 入门书籍，在线阅读\\n🔙\\n返回目录\\n🔙\\n\\n\\n『上一期』 | 反馈和建议 | 『下一期』\\n看完了，还不够？<科技爱好者周刊>。还不过瘾，那就看看 <往期内容>吧。\\n点击分享发现的有趣项目\\n声明\\n\\n本作品采用 署名-非商业性使用-禁止演绎 4.0 国际 进行许可。'"
      ]
     },
     "execution_count": 2,
     "metadata": {},
     "output_type": "execute_result"
    }
   ],
   "source": [
    "article=res(\"article\").text()\n",
    "article"
   ]
  },
  {
   "cell_type": "code",
   "execution_count": 3,
   "metadata": {},
   "outputs": [],
   "source": [
    "# 提取分层目录\n",
    "content=article.split(\"\\n🔙\\n返回目录\\n🔙\\n\\n\")"
   ]
  },
  {
   "cell_type": "code",
   "execution_count": 4,
   "metadata": {},
   "outputs": [
    {
     "name": "stdout",
     "output_type": "stream",
     "text": [
      "《HelloGitHub》第 15 期\n",
      "兴趣是最好的老师，HelloGitHub 就是帮你找到兴趣！\n",
      "简介\n",
      "分享 GitHub 上有趣、入门级的开源项目。\n",
      "这是一个面向编程新手、热爱编程、对开源社区感兴趣 人群的月刊，月刊的内容包括：各种编程语言的项目、让生活变得更美好的工具、书籍、学习笔记、教程等，这些开源项目大多都是非常容易上手，而且非常 Cool。主要是希望大家能动手用起来，加入到开源社区中。\n",
      "会编程的可以贡献代码\n",
      "不会编程的可以反馈使用这些工具中的 Bug\n",
      "帮着宣传你觉得优秀的项目\n",
      "Star 项目\n",
      "⭐️\n",
      "在浏览、参与这些项目的过程中，你将学习到更多编程知识、提高编程技巧、找到编程的乐趣。\n",
      "🎉\n",
      "最后 HelloGitHub 这个项目就诞生了\n",
      "🎉\n",
      "目录\n",
      "C++ 项目\n",
      "CSS 项目\n",
      "Go 项目\n",
      "Java 项目\n",
      "JavaScript 项目\n",
      "Objective-C 项目\n",
      "Python 项目\n",
      "Ruby 项目\n",
      "其它\n",
      "开源书籍\n",
      "Tips：如果文中的图刷不出来，可以向我们反馈。也可以访问 官网 获取更好的阅读体验。\n",
      "\n",
      "欢迎关注 HelloGitHub 公众号\n",
      "内容\n",
      "以下为本期内容｜每个月 28 号发布最新一期\n",
      "C++ 项目\n",
      "1、snake：贪吃蛇游戏 AI 版，通过算法实现让小蛇通过吃豆，最后蛇的身体填满整个地图算结束。该项目详细描述实现思想以及相关算法的讨论\n",
      "------------------------------------------------------------\n",
      "\n",
      "Python 项目\n",
      "13、musicbox：基于 Python 编写的网易云音乐命令行版本，使用起来简单优雅，能够快速安装及使用\n",
      "14、django-blog-tutorial：基于最新版 Django 1.10 和 Python 3.5，通过 26 篇教程一步步带你使用 Django 从零开发一个个人博客系统，在实践的同时掌握 Django 的开发技巧，完成效果展示\n",
      "15、aredis：一款基于 Python3 asyncio 的异步 redis 客户端，支持对于单实例，连接池， 哨兵以及集群。作者希望可以找到志同道合的小伙伴集思广益，一起维护、优化。示例代码如下：\n",
      ">>> import asyncio >>> from aredis import StrictRedis >>> >>> async def example(): >>> client = StrictRedis(host='127.0.0.1', port=6379, db=0) >>> await client.flushdb() >>> await client.set('foo', 1) >>> assert await client.exists('foo') is True >>> await client.incr('foo', 100) >>> >>> assert int(await client.get('foo')) == 101 >>> await client.expire('foo', 1) >>> await asyncio.sleep(0.1) >>> await client.ttl('foo') >>> await asyncio.sleep(1) >>> assert not await client.exists('foo') >>> >>> loop = asyncio.get_event_loop() >>> loop.run_until_complete(example())\n",
      "16、freezegun：时间漫步模块，模拟到某一个时间，使用简单方式多样，实现了装饰器、上下文等调用方式。示例代码如下：\n",
      "from freezegun import freeze_time import datetime import unittest @freeze_time(\"2012-01-14\") def test(): assert datetime.datetime.now() == datetime.datetime(2012, 1, 14)\n",
      "------------------------------------------------------------\n"
     ]
    }
   ],
   "source": [
    "for i in content:\n",
    "    if \"Python 项目\" in i:\n",
    "        print(i)\n",
    "        print(\"-\"*60)"
   ]
  },
  {
   "cell_type": "code",
   "execution_count": 5,
   "metadata": {},
   "outputs": [
    {
     "data": {
      "text/plain": [
       "list"
      ]
     },
     "execution_count": 5,
     "metadata": {},
     "output_type": "execute_result"
    }
   ],
   "source": [
    "type(content)"
   ]
  },
  {
   "cell_type": "code",
   "execution_count": 6,
   "metadata": {},
   "outputs": [
    {
     "data": {
      "text/plain": [
       "'《HelloGitHub》第 15 期\\n兴趣是最好的老师，HelloGitHub 就是帮你找到兴趣！\\n简介\\n分享 GitHub 上有趣、入门级的开源项目。\\n这是一个面向编程新手、热爱编程、对开源社区感兴趣 人群的月刊，月刊的内容包括：各种编程语言的项目、让生活变得更美好的工具、书籍、学习笔记、教程等，这些开源项目大多都是非常容易上手，而且非常 Cool。主要是希望大家能动手用起来，加入到开源社区中。\\n会编程的可以贡献代码\\n不会编程的可以反馈使用这些工具中的 Bug\\n帮着宣传你觉得优秀的项目\\nStar 项目\\n⭐️\\n在浏览、参与这些项目的过程中，你将学习到更多编程知识、提高编程技巧、找到编程的乐趣。\\n🎉\\n最后 HelloGitHub 这个项目就诞生了\\n🎉\\n目录\\nC++ 项目\\nCSS 项目\\nGo 项目\\nJava 项目\\nJavaScript 项目\\nObjective-C 项目\\nPython 项目\\nRuby 项目\\n其它\\n开源书籍\\nTips：如果文中的图刷不出来，可以向我们反馈。也可以访问 官网 获取更好的阅读体验。\\n\\n欢迎关注 HelloGitHub 公众号\\n内容\\n以下为本期内容｜每个月 28 号发布最新一期\\nC++ 项目\\n1、snake：贪吃蛇游戏 AI 版，通过算法实现让小蛇通过吃豆，最后蛇的身体填满整个地图算结束。该项目详细描述实现思想以及相关算法的讨论'"
      ]
     },
     "execution_count": 6,
     "metadata": {},
     "output_type": "execute_result"
    }
   ],
   "source": [
    "summary = list(filter(lambda x: \"🎉\\n目录\" in x, content))[0]\n",
    "summary"
   ]
  },
  {
   "cell_type": "code",
   "execution_count": 7,
   "metadata": {},
   "outputs": [
    {
     "data": {
      "text/plain": [
       "['',\n",
       " 'C++ 项目',\n",
       " 'CSS 项目',\n",
       " 'Go 项目',\n",
       " 'Java 项目',\n",
       " 'JavaScript 项目',\n",
       " 'Objective-C 项目',\n",
       " 'Python 项目',\n",
       " 'Ruby 项目',\n",
       " '其它',\n",
       " '开源书籍',\n",
       " '']"
      ]
     },
     "execution_count": 7,
     "metadata": {},
     "output_type": "execute_result"
    }
   ],
   "source": [
    "summary=summary.split(\"🎉\\n目录\")[1].split(\"Tips：\")[0].split(\"\\n\")\n",
    "summary"
   ]
  },
  {
   "cell_type": "code",
   "execution_count": 8,
   "metadata": {},
   "outputs": [
    {
     "data": {
      "text/plain": [
       "['C++ 项目',\n",
       " 'CSS 项目',\n",
       " 'Go 项目',\n",
       " 'Java 项目',\n",
       " 'JavaScript 项目',\n",
       " 'Objective-C 项目',\n",
       " 'Python 项目',\n",
       " 'Ruby 项目',\n",
       " '其它',\n",
       " '开源书籍']"
      ]
     },
     "execution_count": 8,
     "metadata": {},
     "output_type": "execute_result"
    }
   ],
   "source": [
    "summary=[x for x in summary if x!='']\n",
    "summary"
   ]
  },
  {
   "cell_type": "code",
   "execution_count": 9,
   "metadata": {},
   "outputs": [
    {
     "data": {
      "text/plain": [
       "'《HelloGitHub》第 15 期'"
      ]
     },
     "execution_count": 9,
     "metadata": {},
     "output_type": "execute_result"
    }
   ],
   "source": [
    "title=article.split(\"\\n\")[0]\n",
    "title"
   ]
  },
  {
   "cell_type": "code",
   "execution_count": 10,
   "metadata": {},
   "outputs": [
    {
     "data": {
      "text/plain": [
       "['如果文中的图刷不出来，可以向我们反馈。也可以访问 官网 获取更好的阅读体验。\\n\\n欢迎关注 HelloGitHub 公众号\\n内容\\n以下为本期内容｜每个月 28 号发布最新一期\\nC++ 项目\\n1、snake：贪吃蛇游戏 AI 版，通过算法实现让小蛇通过吃豆，最后蛇的身体填满整个地图算结束。该项目详细描述实现思想以及相关算法的讨论',\n",
       " '\\nCSS 项目\\n2、mdui：MDUI 是一套用于开发 Material Design 网页的响应式前端框架。没有任何依赖，支持主题切换，轻量级，低学习成本，文档',\n",
       " '\\nGo 项目\\n3、aliyungo：非官方的 Aliyun Go语言 SDK 支持API：ECS, OSS, DNS, SLB, RDS, RAM, MNS, STS, SLS, MQ, Push, OpenSearch, DM, Container Service\\n4、conference：Go 语言实际项目应用的技术分享',\n",
       " '\\nJava 项目\\n5、FunGameRefresh：好玩的下拉刷新控件\\n6、ProgressManager：一行代码即可监听 App 中所有网络链接的上传以及下载进度，包括 Glide 的图片加载进度。实现原理类似 EventBus 你可在 App 中的任何地方，将多个监听器以 URL 地址作为标识符，注册到本框架。当此 URL 地址存在下载或者上传的动作时，框架会主动调用所有使用此 URL 地址注册过的监听器，达到多个模块的同步更新',\n",
       " '\\nJavaScript 项目\\n7、veneno：一个基于 Node.js 编写的 web 安全漏洞自动化扫描框架\\n8、xdomain：纯 JavaScript 实现 CROS 的库，在线示例\\n9、font-spider：字蛛是一个智能 WebFont 压缩工具，它能自动分析出页面使用的 WebFont 并进行按需压缩\\n10、slick：实现了几乎所有效果的轮播图插件，在线演示',\n",
       " '\\nObjective-C 项目\\n11、spectacle：OS X 系统下的窗口管理工具，通过快捷键方便、快捷的调整窗口大小和位置\\n12、FLEX：用于 iOS 开发的一组应用内调试工具，功能强大且多，多到不一一列举了',\n",
       " '\\nPython 项目\\n13、musicbox：基于 Python 编写的网易云音乐命令行版本，使用起来简单优雅，能够快速安装及使用\\n14、django-blog-tutorial：基于最新版 Django 1.10 和 Python 3.5，通过 26 篇教程一步步带你使用 Django 从零开发一个个人博客系统，在实践的同时掌握 Django 的开发技巧，完成效果展示\\n15、aredis：一款基于 Python3 asyncio 的异步 redis 客户端，支持对于单实例，连接池， 哨兵以及集群。作者希望可以找到志同道合的小伙伴集思广益，一起维护、优化。示例代码如下：\\n>>> import asyncio >>> from aredis import StrictRedis >>> >>> async def example(): >>> client = StrictRedis(host=\\'127.0.0.1\\', port=6379, db=0) >>> await client.flushdb() >>> await client.set(\\'foo\\', 1) >>> assert await client.exists(\\'foo\\') is True >>> await client.incr(\\'foo\\', 100) >>> >>> assert int(await client.get(\\'foo\\')) == 101 >>> await client.expire(\\'foo\\', 1) >>> await asyncio.sleep(0.1) >>> await client.ttl(\\'foo\\') >>> await asyncio.sleep(1) >>> assert not await client.exists(\\'foo\\') >>> >>> loop = asyncio.get_event_loop() >>> loop.run_until_complete(example())\\n16、freezegun：时间漫步模块，模拟到某一个时间，使用简单方式多样，实现了装饰器、上下文等调用方式。示例代码如下：\\nfrom freezegun import freeze_time import datetime import unittest @freeze_time(\"2012-01-14\") def test(): assert datetime.datetime.now() == datetime.datetime(2012, 1, 14)',\n",
       " '\\nRuby 项目\\n17、mastodon：基于 Ruby 语言的社交网站服务器端所有的源代码，通过这个项目，你可以自己部署一个属于自己的社交网站',\n",
       " '\\n其它\\n18、vim-galore-zh_cn：Vim 从入门到精通\\n19、Spacemacs-rocks：用 21 天学习 Emacs 以及 Spacemacs（Emacs 的配置文件）的使用\\n20、SpaceVim：一个社区驱动的模块化 vim/neovim 配置集合，其中包含了多种功能模块，并且针对 neovim 做了功能优化。spacevim 有多种功能模块可供选择，支持多种语言。用户只需要选择需要的模块，就可以配置出一个适合自己的开发环境\\n21、English-level-up-tips-for-Chinese：如何提高英语技能\\n22、ch：类似 virtualenv，可以在 Linux 下建立虛拟的 home 目录並切换，以管理不同工作或项目的文件',\n",
       " '\\n开源书籍\\n23、redis：《Redis Command Reference》全文的中文翻译版，在线阅读\\n24、es6tutorial：阮一峰老师的开源精品，ECMAScript 6 入门书籍，在线阅读',\n",
       " '\\n『上一期』 | 反馈和建议 | 『下一期』\\n看完了，还不够？<科技爱好者周刊>。还不过瘾，那就看看 <往期内容>吧。\\n点击分享发现的有趣项目\\n声明\\n\\n本作品采用 署名-非商业性使用-禁止演绎 4.0 国际 进行许可。']"
      ]
     },
     "execution_count": 10,
     "metadata": {},
     "output_type": "execute_result"
    }
   ],
   "source": [
    "objs=article.split(\"Tips：\")[1].split(\"\\n🔙\\n返回目录\\n🔙\\n\\n\")\n",
    "objs"
   ]
  },
  {
   "cell_type": "code",
   "execution_count": 11,
   "metadata": {},
   "outputs": [
    {
     "data": {
      "text/plain": [
       "'\\nPython 项目\\n13、musicbox：基于 Python 编写的网易云音乐命令行版本，使用起来简单优雅，能够快速安装及使用\\n14、django-blog-tutorial：基于最新版 Django 1.10 和 Python 3.5，通过 26 篇教程一步步带你使用 Django 从零开发一个个人博客系统，在实践的同时掌握 Django 的开发技巧，完成效果展示\\n15、aredis：一款基于 Python3 asyncio 的异步 redis 客户端，支持对于单实例，连接池， 哨兵以及集群。作者希望可以找到志同道合的小伙伴集思广益，一起维护、优化。示例代码如下：\\n>>> import asyncio >>> from aredis import StrictRedis >>> >>> async def example(): >>> client = StrictRedis(host=\\'127.0.0.1\\', port=6379, db=0) >>> await client.flushdb() >>> await client.set(\\'foo\\', 1) >>> assert await client.exists(\\'foo\\') is True >>> await client.incr(\\'foo\\', 100) >>> >>> assert int(await client.get(\\'foo\\')) == 101 >>> await client.expire(\\'foo\\', 1) >>> await asyncio.sleep(0.1) >>> await client.ttl(\\'foo\\') >>> await asyncio.sleep(1) >>> assert not await client.exists(\\'foo\\') >>> >>> loop = asyncio.get_event_loop() >>> loop.run_until_complete(example())\\n16、freezegun：时间漫步模块，模拟到某一个时间，使用简单方式多样，实现了装饰器、上下文等调用方式。示例代码如下：\\nfrom freezegun import freeze_time import datetime import unittest @freeze_time(\"2012-01-14\") def test(): assert datetime.datetime.now() == datetime.datetime(2012, 1, 14)'"
      ]
     },
     "execution_count": 11,
     "metadata": {},
     "output_type": "execute_result"
    }
   ],
   "source": [
    "py=[x for x in objs if \"Python 项目\" in x][0]\n",
    "py"
   ]
  },
  {
   "cell_type": "code",
   "execution_count": 12,
   "metadata": {},
   "outputs": [
    {
     "data": {
      "text/plain": [
       "['13、musicbox：基于 Python 编写的网易云音乐命令行版本，使用起来简单优雅，能够快速安装及使用',\n",
       " '14、django-blog-tutorial：基于最新版 Django 1.10 和 Python 3.5，通过 26 篇教程一步步带你使用 Django 从零开发一个个人博客系统，在实践的同时掌握 Django 的开发技巧，完成效果展示',\n",
       " '15、aredis：一款基于 Python3 asyncio 的异步 redis 客户端，支持对于单实例，连接池， 哨兵以及集群。作者希望可以找到志同道合的小伙伴集思广益，一起维护、优化。',\n",
       " '16、freezegun：时间漫步模块，模拟到某一个时间，使用简单方式多样，实现了装饰器、上下文等调用方式。']"
      ]
     },
     "execution_count": 12,
     "metadata": {},
     "output_type": "execute_result"
    }
   ],
   "source": [
    "py=re.sub(\"示例代码如下：\\n.*\\n\",\"\\n\",py)\n",
    "py=re.sub(\"示例代码如下：\\n.*\",\"\",py)\n",
    "py=py.split(\"\\n\")[2:]\n",
    "py"
   ]
  },
  {
   "cell_type": "code",
   "execution_count": 13,
   "metadata": {},
   "outputs": [
    {
     "name": "stdout",
     "output_type": "stream",
     "text": [
      "13、musicbox：基于 Python 编写的网易云音乐命令行版本，使用起来简单优雅，能够快速安装及使用\n",
      "14、django-blog-tutorial：基于最新版 Django 1.10 和 Python 3.5，通过 26 篇教程一步步带你使用 Django 从零开发一个个人博客系统，在实践的同时掌握 Django 的开发技巧，完成效果展示\n",
      "15、aredis：一款基于 Python3 asyncio 的异步 redis 客户端，支持对于单实例，连接池， 哨兵以及集群。作者希望可以找到志同道合的小伙伴集思广益，一起维护、优化。\n",
      "16、freezegun：时间漫步模块，模拟到某一个时间，使用简单方式多样，实现了装饰器、上下文等调用方式。\n"
     ]
    }
   ],
   "source": [
    "for i in py:\n",
    "    print(i)"
   ]
  },
  {
   "cell_type": "code",
   "execution_count": 14,
   "metadata": {},
   "outputs": [],
   "source": [
    "import pandas as pd\n",
    "df=pd.DataFrame()"
   ]
  },
  {
   "cell_type": "code",
   "execution_count": 15,
   "metadata": {},
   "outputs": [
    {
     "data": {
      "text/html": [
       "<div>\n",
       "<style scoped>\n",
       "    .dataframe tbody tr th:only-of-type {\n",
       "        vertical-align: middle;\n",
       "    }\n",
       "\n",
       "    .dataframe tbody tr th {\n",
       "        vertical-align: top;\n",
       "    }\n",
       "\n",
       "    .dataframe thead th {\n",
       "        text-align: right;\n",
       "    }\n",
       "</style>\n",
       "<table border=\"1\" class=\"dataframe\">\n",
       "  <thead>\n",
       "    <tr style=\"text-align: right;\">\n",
       "      <th></th>\n",
       "      <th>期刊</th>\n",
       "      <th>目录</th>\n",
       "      <th>项目</th>\n",
       "    </tr>\n",
       "  </thead>\n",
       "  <tbody>\n",
       "    <tr>\n",
       "      <th>0</th>\n",
       "      <td>《HelloGitHub》第 15 期</td>\n",
       "      <td>['C++ 项目', 'CSS 项目', 'Go 项目', 'Java 项目', 'Java...</td>\n",
       "      <td>13、musicbox：基于 Python 编写的网易云音乐命令行版本，使用起来简单优雅，能...</td>\n",
       "    </tr>\n",
       "    <tr>\n",
       "      <th>1</th>\n",
       "      <td>《HelloGitHub》第 15 期</td>\n",
       "      <td>['C++ 项目', 'CSS 项目', 'Go 项目', 'Java 项目', 'Java...</td>\n",
       "      <td>14、django-blog-tutorial：基于最新版 Django 1.10 和 Py...</td>\n",
       "    </tr>\n",
       "    <tr>\n",
       "      <th>2</th>\n",
       "      <td>《HelloGitHub》第 15 期</td>\n",
       "      <td>['C++ 项目', 'CSS 项目', 'Go 项目', 'Java 项目', 'Java...</td>\n",
       "      <td>15、aredis：一款基于 Python3 asyncio 的异步 redis 客户端，支...</td>\n",
       "    </tr>\n",
       "    <tr>\n",
       "      <th>3</th>\n",
       "      <td>《HelloGitHub》第 15 期</td>\n",
       "      <td>['C++ 项目', 'CSS 项目', 'Go 项目', 'Java 项目', 'Java...</td>\n",
       "      <td>16、freezegun：时间漫步模块，模拟到某一个时间，使用简单方式多样，实现了装饰器、上...</td>\n",
       "    </tr>\n",
       "  </tbody>\n",
       "</table>\n",
       "</div>"
      ],
      "text/plain": [
       "                    期刊                                                 目录  \\\n",
       "0  《HelloGitHub》第 15 期  ['C++ 项目', 'CSS 项目', 'Go 项目', 'Java 项目', 'Java...   \n",
       "1  《HelloGitHub》第 15 期  ['C++ 项目', 'CSS 项目', 'Go 项目', 'Java 项目', 'Java...   \n",
       "2  《HelloGitHub》第 15 期  ['C++ 项目', 'CSS 项目', 'Go 项目', 'Java 项目', 'Java...   \n",
       "3  《HelloGitHub》第 15 期  ['C++ 项目', 'CSS 项目', 'Go 项目', 'Java 项目', 'Java...   \n",
       "\n",
       "                                                  项目  \n",
       "0  13、musicbox：基于 Python 编写的网易云音乐命令行版本，使用起来简单优雅，能...  \n",
       "1  14、django-blog-tutorial：基于最新版 Django 1.10 和 Py...  \n",
       "2  15、aredis：一款基于 Python3 asyncio 的异步 redis 客户端，支...  \n",
       "3  16、freezegun：时间漫步模块，模拟到某一个时间，使用简单方式多样，实现了装饰器、上...  "
      ]
     },
     "execution_count": 15,
     "metadata": {},
     "output_type": "execute_result"
    }
   ],
   "source": [
    "count=0\n",
    "for i in py:\n",
    "    df.loc[count,\"期刊\"]=title\n",
    "    df.loc[count,\"目录\"]=str(summary)\n",
    "    df.loc[count, \"项目\"] = i\n",
    "    count+=1\n",
    "    \n",
    "df"
   ]
  },
  {
   "cell_type": "code",
   "execution_count": 16,
   "metadata": {},
   "outputs": [],
   "source": [
    "df.to_excel(\"/Users/super/Desktop/{}.xlsx\".format(title), index=False)"
   ]
  },
  {
   "cell_type": "code",
   "execution_count": null,
   "metadata": {},
   "outputs": [],
   "source": []
  }
 ],
 "metadata": {
  "kernelspec": {
   "display_name": "Python 3",
   "language": "python",
   "name": "python3"
  },
  "language_info": {
   "codemirror_mode": {
    "name": "ipython",
    "version": 3
   },
   "file_extension": ".py",
   "mimetype": "text/x-python",
   "name": "python",
   "nbconvert_exporter": "python",
   "pygments_lexer": "ipython3",
   "version": "3.7.3"
  }
 },
 "nbformat": 4,
 "nbformat_minor": 2
}
