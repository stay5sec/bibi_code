{
 "cells": [
  {
   "cell_type": "markdown",
   "metadata": {},
   "source": [
    "#### 只要有yield关键字，就是生成器"
   ]
  },
  {
   "cell_type": "code",
   "execution_count": 1,
   "metadata": {},
   "outputs": [],
   "source": [
    "def gen_func():\n",
    "    yield 1"
   ]
  },
  {
   "cell_type": "code",
   "execution_count": 2,
   "metadata": {},
   "outputs": [
    {
     "data": {
      "text/plain": [
       "<generator object gen_func at 0x10a6fd5e8>"
      ]
     },
     "execution_count": 2,
     "metadata": {},
     "output_type": "execute_result"
    }
   ],
   "source": [
    "# 在python编译字节码的时候就产生了\n",
    "gen_func()"
   ]
  },
  {
   "cell_type": "code",
   "execution_count": 6,
   "metadata": {},
   "outputs": [
    {
     "data": {
      "text/plain": [
       "['close', 'gi_code', 'gi_frame', 'gi_running', 'gi_yieldfrom', 'send', 'throw']"
      ]
     },
     "execution_count": 6,
     "metadata": {},
     "output_type": "execute_result"
    }
   ],
   "source": [
    "[x for x in dir(gen_func()) if \"__\" not in x]"
   ]
  },
  {
   "cell_type": "code",
   "execution_count": 7,
   "metadata": {},
   "outputs": [
    {
     "name": "stdout",
     "output_type": "stream",
     "text": [
      "1\n"
     ]
    }
   ],
   "source": [
    "# 生成器对象也实现了迭代器协议\n",
    "for g in gen_func():\n",
    "    print(g)"
   ]
  },
  {
   "cell_type": "code",
   "execution_count": 8,
   "metadata": {},
   "outputs": [
    {
     "data": {
      "text/plain": [
       "1"
      ]
     },
     "execution_count": 8,
     "metadata": {},
     "output_type": "execute_result"
    }
   ],
   "source": [
    "next(gen_func())"
   ]
  },
  {
   "cell_type": "code",
   "execution_count": 9,
   "metadata": {},
   "outputs": [],
   "source": [
    "# 多个yield\n",
    "def gen_func2():\n",
    "    yield 1\n",
    "    yield 2"
   ]
  },
  {
   "cell_type": "code",
   "execution_count": 10,
   "metadata": {},
   "outputs": [
    {
     "name": "stdout",
     "output_type": "stream",
     "text": [
      "1\n",
      "2\n"
     ]
    }
   ],
   "source": [
    "for g in gen_func2():\n",
    "    print(g)"
   ]
  },
  {
   "cell_type": "code",
   "execution_count": 15,
   "metadata": {},
   "outputs": [
    {
     "data": {
      "text/plain": [
       "'----------------------------斐波拉契----------------------------'"
      ]
     },
     "execution_count": 15,
     "metadata": {},
     "output_type": "execute_result"
    }
   ],
   "source": [
    "\"斐波拉契\".center(60,\"-\")"
   ]
  },
  {
   "cell_type": "code",
   "execution_count": 30,
   "metadata": {},
   "outputs": [
    {
     "data": {
      "text/plain": [
       "13"
      ]
     },
     "execution_count": 30,
     "metadata": {},
     "output_type": "execute_result"
    }
   ],
   "source": [
    "# 1，1，2，3，5，8，13……\n",
    "\n",
    "def fib(index):\n",
    "    if index <= 2:\n",
    "        return 1\n",
    "    else:\n",
    "        return fib(index-1)+fib(index-2)\n",
    "\n",
    "fib(7)"
   ]
  },
  {
   "cell_type": "code",
   "execution_count": 27,
   "metadata": {},
   "outputs": [
    {
     "data": {
      "text/plain": [
       "[1, 1, 2, 3, 5, 8, 13]"
      ]
     },
     "execution_count": 27,
     "metadata": {},
     "output_type": "execute_result"
    }
   ],
   "source": [
    "# 输出变动序列\n",
    "\n",
    "def fib2(index):\n",
    "    list1=[]\n",
    "    n,a,b=0,0,1\n",
    "    while n<index:\n",
    "        list1.append(b)\n",
    "        a,b=b,a+b\n",
    "        n+=1\n",
    "    return list1\n",
    "\n",
    "fib2(7)"
   ]
  },
  {
   "cell_type": "code",
   "execution_count": 42,
   "metadata": {},
   "outputs": [
    {
     "data": {
      "text/plain": [
       "[1, 1, 2, 3, 5, 8, 13]"
      ]
     },
     "execution_count": 42,
     "metadata": {},
     "output_type": "execute_result"
    }
   ],
   "source": [
    "# 使用生成器\n",
    "\n",
    "def fib3(index):\n",
    "    n,a,b=0,0,1\n",
    "    while n<index:\n",
    "        yield b\n",
    "        a,b=b,a+b\n",
    "        n+=1\n",
    "\n",
    "list(fib3(7))"
   ]
  },
  {
   "cell_type": "markdown",
   "metadata": {},
   "source": [
    "生成器和函数的区别在于：  \n",
    "  \n",
    "函数是顺序执行的，遇到return语句或者最后一行函数语句就返回。  \n",
    "而变成generator的函数，在每次调用next()的时候执行，遇到yield语句返回  \n",
    "再次被next（）调用时候从上次的返回yield语句处急需执行  \n",
    "也就是用多少，取多少，不占内存。"
   ]
  },
  {
   "cell_type": "code",
   "execution_count": 47,
   "metadata": {},
   "outputs": [],
   "source": [
    "g=fib3(7)"
   ]
  },
  {
   "cell_type": "code",
   "execution_count": 48,
   "metadata": {},
   "outputs": [
    {
     "name": "stdout",
     "output_type": "stream",
     "text": [
      "generator:  1\n",
      "generator:  1\n",
      "generator:  2\n",
      "generator:  3\n",
      "generator:  5\n",
      "generator:  8\n",
      "generator:  13\n",
      "生成器返回值： None\n"
     ]
    }
   ],
   "source": [
    "while True:\n",
    "    try:\n",
    "        x = next(g)\n",
    "        print('generator: ',x)\n",
    "    except StopIteration as e:\n",
    "        print(\"生成器返回值：\",e.value)\n",
    "        break"
   ]
  },
  {
   "cell_type": "markdown",
   "metadata": {},
   "source": [
    "生成器都是Iterator对象:   \n",
    "但list、dict、str虽然是Iterable（可迭代对象），却不是Iterator（迭代器）"
   ]
  },
  {
   "cell_type": "markdown",
   "metadata": {},
   "source": [
    "### 小结：  \n",
    ">凡是可作用于for循环的对象都是Iterable类型；  \n",
    ">凡是可作用于next()函数的对象都是Iterator类型，它们表示一个惰性计算的序列；  \n",
    ">集合数据类型如list、dict、str等是Iterable但不是Iterator，不过可以通过iter()函数获得一个Iterator对象。"
   ]
  },
  {
   "cell_type": "code",
   "execution_count": null,
   "metadata": {},
   "outputs": [],
   "source": []
  }
 ],
 "metadata": {
  "kernelspec": {
   "display_name": "Python 3",
   "language": "python",
   "name": "python3"
  },
  "language_info": {
   "codemirror_mode": {
    "name": "ipython",
    "version": 3
   },
   "file_extension": ".py",
   "mimetype": "text/x-python",
   "name": "python",
   "nbconvert_exporter": "python",
   "pygments_lexer": "ipython3",
   "version": "3.7.3"
  }
 },
 "nbformat": 4,
 "nbformat_minor": 2
}
