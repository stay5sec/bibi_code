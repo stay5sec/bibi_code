{
 "cells": [
  {
   "cell_type": "markdown",
   "metadata": {},
   "source": [
    "### 什么是魔法函数"
   ]
  },
  {
   "cell_type": "code",
   "execution_count": 1,
   "metadata": {},
   "outputs": [
    {
     "data": {
      "text/plain": [
       "['a', 'b', 'c']"
      ]
     },
     "execution_count": 1,
     "metadata": {},
     "output_type": "execute_result"
    }
   ],
   "source": [
    "# 定义一个类\n",
    "class Company():\n",
    "    def __init__(self,emp_list):\n",
    "        self.emp=emp_list\n",
    "        \n",
    "company=Company([\"a\",\"b\",\"c\"])\n",
    "employee=company.emp\n",
    "employee"
   ]
  },
  {
   "cell_type": "code",
   "execution_count": 3,
   "metadata": {},
   "outputs": [
    {
     "name": "stdout",
     "output_type": "stream",
     "text": [
      "a\n",
      "b\n",
      "c\n"
     ]
    }
   ],
   "source": [
    "for i in employee:\n",
    "    print(i)"
   ]
  },
  {
   "cell_type": "code",
   "execution_count": 8,
   "metadata": {},
   "outputs": [
    {
     "data": {
      "text/plain": [
       "<__main__.Company2 at 0x102d2d780>"
      ]
     },
     "execution_count": 8,
     "metadata": {},
     "output_type": "execute_result"
    }
   ],
   "source": [
    "# 定义一个类\n",
    "class Company2():\n",
    "    def __init__(self,emp_list):\n",
    "        self.emp=emp_list\n",
    "        \n",
    "    def __getitem__(self,item):\n",
    "        return self.emp[item]\n",
    "        \n",
    "company=Company2([\"a\",\"b\",\"c\"])\n",
    "company"
   ]
  },
  {
   "cell_type": "code",
   "execution_count": 9,
   "metadata": {},
   "outputs": [
    {
     "name": "stdout",
     "output_type": "stream",
     "text": [
      "a\n",
      "b\n",
      "c\n"
     ]
    }
   ],
   "source": [
    "for i in company:\n",
    "    print(i)"
   ]
  },
  {
   "cell_type": "markdown",
   "metadata": {},
   "source": [
    "定义了一个getitem函数之后，让类产生的对象拥有了可迭代的能力（不是迭代器）"
   ]
  },
  {
   "cell_type": "markdown",
   "metadata": {},
   "source": [
    "魔法函数以双下划线开头和结尾，只能用python提供的函数，不能自己定义"
   ]
  },
  {
   "cell_type": "markdown",
   "metadata": {},
   "source": [
    "### python的数据模型以及数据模型对python的影响"
   ]
  },
  {
   "cell_type": "code",
   "execution_count": 11,
   "metadata": {},
   "outputs": [
    {
     "data": {
      "text/plain": [
       "['a', 'b']"
      ]
     },
     "execution_count": 11,
     "metadata": {},
     "output_type": "execute_result"
    }
   ],
   "source": [
    "# 切片操作\n",
    "class Company():\n",
    "    def __init__(self,emp_list):\n",
    "        self.emp=emp_list\n",
    "        \n",
    "company=Company([\"a\",\"b\",\"c\"])\n",
    "employee=company.emp\n",
    "employee[:2]"
   ]
  },
  {
   "cell_type": "markdown",
   "metadata": {},
   "source": [
    "通过内置的魔法函数可以让类的用法变的更灵活"
   ]
  },
  {
   "cell_type": "code",
   "execution_count": 13,
   "metadata": {},
   "outputs": [
    {
     "name": "stdout",
     "output_type": "stream",
     "text": [
      "------------------------------\n"
     ]
    }
   ],
   "source": [
    "print(\"-\"*30)"
   ]
  },
  {
   "cell_type": "code",
   "execution_count": 1,
   "metadata": {},
   "outputs": [],
   "source": [
    "class Company3():\n",
    "    def __init__(self,emp_list):\n",
    "        self.emp=emp_list\n",
    "        \n",
    "    def __getitem__(self,item):\n",
    "        return self.emp[item]\n",
    "        \n",
    "company=Company3([\"a\",\"b\",\"c\"])\n"
   ]
  },
  {
   "cell_type": "code",
   "execution_count": 2,
   "metadata": {},
   "outputs": [
    {
     "ename": "TypeError",
     "evalue": "object of type 'Company3' has no len()",
     "output_type": "error",
     "traceback": [
      "\u001b[0;31m---------------------------------------------------------------------------\u001b[0m",
      "\u001b[0;31mTypeError\u001b[0m                                 Traceback (most recent call last)",
      "\u001b[0;32m<ipython-input-2-da592a1113e8>\u001b[0m in \u001b[0;36m<module>\u001b[0;34m\u001b[0m\n\u001b[0;32m----> 1\u001b[0;31m \u001b[0mlen\u001b[0m\u001b[0;34m(\u001b[0m\u001b[0mcompany\u001b[0m\u001b[0;34m)\u001b[0m\u001b[0;34m\u001b[0m\u001b[0;34m\u001b[0m\u001b[0m\n\u001b[0m",
      "\u001b[0;31mTypeError\u001b[0m: object of type 'Company3' has no len()"
     ]
    }
   ],
   "source": [
    "len(company)"
   ]
  },
  {
   "cell_type": "markdown",
   "metadata": {},
   "source": [
    "没有内置的__len__函数，所以不能对实例进行操作"
   ]
  },
  {
   "cell_type": "code",
   "execution_count": 18,
   "metadata": {},
   "outputs": [
    {
     "name": "stdout",
     "output_type": "stream",
     "text": [
      "------------------------------\n"
     ]
    }
   ],
   "source": [
    "print(\"-\"*30)"
   ]
  },
  {
   "cell_type": "code",
   "execution_count": 21,
   "metadata": {},
   "outputs": [
    {
     "data": {
      "text/plain": [
       "3"
      ]
     },
     "execution_count": 21,
     "metadata": {},
     "output_type": "execute_result"
    }
   ],
   "source": [
    "#定义len函数\n",
    "class Company4():\n",
    "    def __init__(self,emp_list):\n",
    "        self.emp=emp_list\n",
    "        \n",
    "    def __len__(self):\n",
    "        return len(self.emp)\n",
    "        \n",
    "company=Company4([\"a\",\"b\",\"c\"])\n",
    "len(company)"
   ]
  },
  {
   "cell_type": "markdown",
   "metadata": {},
   "source": [
    "### 有哪些魔法函数"
   ]
  },
  {
   "cell_type": "markdown",
   "metadata": {},
   "source": [
    "- 字符串表示：repr、str\n",
    "- 集合，序列：len、getitem、setitem、delitem、contains\n",
    "- 迭代相关：iter、next\n",
    "- 可调用：call\n",
    "- with上下文管理：enter、exit\n",
    "- 数值相关：abs、bool、int、float、hash、index\n",
    "- 元类相关：new、init\n",
    "- 属性相关：getattr、setattr、getattribute、setattribute、dir\n",
    "- 属性描述：get、set、delete\n",
    "- 协程：await、aiter、anext、aenter、aexit\n",
    "\n",
    "- 数学运算：这部分用的不多\n"
   ]
  },
  {
   "cell_type": "code",
   "execution_count": 24,
   "metadata": {},
   "outputs": [
    {
     "name": "stdout",
     "output_type": "stream",
     "text": [
      "<__main__.Company object at 0x1058c5198>\n"
     ]
    }
   ],
   "source": [
    "# str 方法\n",
    "class Company():\n",
    "    def __init__(self,emp_list):\n",
    "        self.emp=emp_list\n",
    "        \n",
    "company=Company([\"a\",\"b\",\"c\"])\n",
    "print(company)"
   ]
  },
  {
   "cell_type": "code",
   "execution_count": 29,
   "metadata": {},
   "outputs": [
    {
     "name": "stdout",
     "output_type": "stream",
     "text": [
      "a|b|c\n"
     ]
    }
   ],
   "source": [
    "# str 方法\n",
    "class Company():\n",
    "    def __init__(self,emp_list):\n",
    "        self.emp=emp_list\n",
    "        \n",
    "    def __str__(self):\n",
    "        return \"|\".join(self.emp)\n",
    "        \n",
    "company=Company([\"a\",\"b\",\"c\"])\n",
    "print(company)"
   ]
  },
  {
   "cell_type": "code",
   "execution_count": 30,
   "metadata": {},
   "outputs": [
    {
     "data": {
      "text/plain": [
       "<__main__.Company at 0x102ceac88>"
      ]
     },
     "execution_count": 30,
     "metadata": {},
     "output_type": "execute_result"
    }
   ],
   "source": [
    "# Development mode\n",
    "company"
   ]
  },
  {
   "cell_type": "code",
   "execution_count": 27,
   "metadata": {},
   "outputs": [
    {
     "data": {
      "text/plain": [
       "a|b|c"
      ]
     },
     "execution_count": 27,
     "metadata": {},
     "output_type": "execute_result"
    }
   ],
   "source": [
    "# repr 方法\n",
    "class Company():\n",
    "    def __init__(self,emp_list):\n",
    "        self.emp=emp_list\n",
    "        \n",
    "    def __repr__(self):\n",
    "        return \"|\".join(self.emp)\n",
    "        \n",
    "company=Company([\"a\",\"b\",\"c\"])\n",
    "company"
   ]
  },
  {
   "cell_type": "code",
   "execution_count": 37,
   "metadata": {},
   "outputs": [
    {
     "data": {
      "text/plain": [
       "5"
      ]
     },
     "execution_count": 37,
     "metadata": {},
     "output_type": "execute_result"
    }
   ],
   "source": [
    "# abs Operation demo\n",
    "class Nums():\n",
    "    def __init__(self,num):\n",
    "        self.num=num\n",
    "    \n",
    "    def __abs__(self):\n",
    "        return abs(self.num)\n",
    "    \n",
    "my_mun=Nums(-5)\n",
    "abs(my_mun)"
   ]
  },
  {
   "cell_type": "code",
   "execution_count": 43,
   "metadata": {},
   "outputs": [
    {
     "name": "stdout",
     "output_type": "stream",
     "text": [
      "x:111\ty:222\n"
     ]
    }
   ],
   "source": [
    "# add Operation demo\n",
    "class Nums2():\n",
    "    def __init__(self,x,y):\n",
    "        self.x=x\n",
    "        self.y=y\n",
    "    \n",
    "    def __add__(self,other_num):\n",
    "        z= Nums2(self.x+other_num.x,self.y+other_num.y)\n",
    "        return z\n",
    "    \n",
    "    def __str__(self):\n",
    "        return \"x:{}\\ty:{}\".format(self.x,self.y)\n",
    "    \n",
    "first=Nums2(1,2)\n",
    "second=Nums2(10,20)\n",
    "third=Nums2(100,200)\n",
    "\n",
    "print(first+second+third)"
   ]
  },
  {
   "cell_type": "markdown",
   "metadata": {},
   "source": [
    "总结：\n",
    "\n",
    "魔法函数不需要定义、调用，python会自动调用对于函数。"
   ]
  },
  {
   "cell_type": "code",
   "execution_count": null,
   "metadata": {},
   "outputs": [],
   "source": []
  }
 ],
 "metadata": {
  "kernelspec": {
   "display_name": "Python 3",
   "language": "python",
   "name": "python3"
  },
  "language_info": {
   "codemirror_mode": {
    "name": "ipython",
    "version": 3
   },
   "file_extension": ".py",
   "mimetype": "text/x-python",
   "name": "python",
   "nbconvert_exporter": "python",
   "pygments_lexer": "ipython3",
   "version": "3.7.3"
  }
 },
 "nbformat": 4,
 "nbformat_minor": 2
}
