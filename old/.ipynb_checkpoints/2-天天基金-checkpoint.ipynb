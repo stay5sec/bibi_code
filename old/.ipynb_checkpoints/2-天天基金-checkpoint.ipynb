{
 "cells": [
  {
   "cell_type": "code",
   "execution_count": 157,
   "metadata": {},
   "outputs": [],
   "source": [
    "import requests\n",
    "from lxml import etree\n",
    "import pandas as pd\n",
    "\n",
    "\n",
    "pd.set_option('expand_frame_repr', False)\n",
    "pd.set_option('display.max_rows', 1000)\n",
    "\n",
    "# 抓取网址\n",
    "url = 'https://fund.eastmoney.com/trade/pg.html?'\n"
   ]
  },
  {
   "cell_type": "code",
   "execution_count": 53,
   "metadata": {},
   "outputs": [],
   "source": [
    "# 提取网页\n",
    "txt = requests.get(url).text\n",
    "\n",
    "\n",
    "html = etree.HTML(txt)"
   ]
  },
  {
   "cell_type": "code",
   "execution_count": 70,
   "metadata": {},
   "outputs": [],
   "source": [
    "# //*[@id=\"tblite_hh\"]/tbody/tr[1]/td[1]\n",
    "# //*[@id=\"tblite_hh\"]/tbody/tr[2]/td[1]\n",
    "\n",
    "# //*[@id=\"tblite_gp\"]/tbody/tr[1]/td[1]\n",
    "s1=html.xpath('''//*[@id=\"tblite_pg\"]/tbody//td[1]/text()''')"
   ]
  },
  {
   "cell_type": "code",
   "execution_count": 71,
   "metadata": {},
   "outputs": [],
   "source": [
    "# //*[@id=\"tblite_hh\"]/tbody/tr[1]/td[2]/a\n",
    "# //*[@id=\"tblite_gp\"]/tbody/tr[1]/td[2]/a\n",
    "# html.xpath('''//*[@id=\"tblite_pg\"]/tbody//td[2]/a''')"
   ]
  },
  {
   "cell_type": "code",
   "execution_count": 72,
   "metadata": {},
   "outputs": [
    {
     "data": {
      "text/html": [
       "<div>\n",
       "<style scoped>\n",
       "    .dataframe tbody tr th:only-of-type {\n",
       "        vertical-align: middle;\n",
       "    }\n",
       "\n",
       "    .dataframe tbody tr th {\n",
       "        vertical-align: top;\n",
       "    }\n",
       "\n",
       "    .dataframe thead th {\n",
       "        text-align: right;\n",
       "    }\n",
       "</style>\n",
       "<table border=\"1\" class=\"dataframe\">\n",
       "  <thead>\n",
       "    <tr style=\"text-align: right;\">\n",
       "      <th></th>\n",
       "      <th>基金代码</th>\n",
       "    </tr>\n",
       "  </thead>\n",
       "  <tbody>\n",
       "    <tr>\n",
       "      <th>0</th>\n",
       "      <td>005669</td>\n",
       "    </tr>\n",
       "    <tr>\n",
       "      <th>1</th>\n",
       "      <td>000209</td>\n",
       "    </tr>\n",
       "    <tr>\n",
       "      <th>2</th>\n",
       "      <td>009644</td>\n",
       "    </tr>\n",
       "    <tr>\n",
       "      <th>3</th>\n",
       "      <td>000689</td>\n",
       "    </tr>\n",
       "    <tr>\n",
       "      <th>4</th>\n",
       "      <td>009645</td>\n",
       "    </tr>\n",
       "  </tbody>\n",
       "</table>\n",
       "</div>"
      ],
      "text/plain": [
       "     基金代码\n",
       "0  005669\n",
       "1  000209\n",
       "2  009644\n",
       "3  000689\n",
       "4  009645"
      ]
     },
     "execution_count": 72,
     "metadata": {},
     "output_type": "execute_result"
    }
   ],
   "source": [
    "df=pd.DataFrame([s1],index=[\"基金代码\"]).T\n",
    "df.head()"
   ]
  },
  {
   "cell_type": "code",
   "execution_count": 73,
   "metadata": {},
   "outputs": [],
   "source": [
    "# //*[@id=\"tblite_hh\"]/tbody/tr[1]/td[4]\n",
    "\n",
    "# html.xpath('''//*[@id=\"tblite_pg\"]/tbody//td[4]/text()''')[:3]"
   ]
  },
  {
   "cell_type": "code",
   "execution_count": 74,
   "metadata": {},
   "outputs": [],
   "source": [
    "# //*[@id=\"tblite_hh\"]/tbody/tr[1]/td[13]\n",
    "# html.xpath('''//*[@id=\"tblite_pg\"]/tbody//td[13]/text()''')[:3]"
   ]
  },
  {
   "cell_type": "code",
   "execution_count": 75,
   "metadata": {},
   "outputs": [],
   "source": [
    "list2=[\"日增长率\",\"近1周\",\"近1月\",\"近3月\",\"近6月\",\"近1年\",\"近2年\",\"近3年\",\"今年来\",\"成立来\"]"
   ]
  },
  {
   "cell_type": "code",
   "execution_count": 76,
   "metadata": {},
   "outputs": [],
   "source": [
    "for x,y in enumerate(list2):\n",
    "    x2=x+4\n",
    "    df[y]=html.xpath('''//*[@id=\"tblite_pg\"]/tbody//td[{}]/text()'''.format(x2))\n",
    "    "
   ]
  },
  {
   "cell_type": "code",
   "execution_count": 77,
   "metadata": {},
   "outputs": [
    {
     "data": {
      "text/html": [
       "<div>\n",
       "<style scoped>\n",
       "    .dataframe tbody tr th:only-of-type {\n",
       "        vertical-align: middle;\n",
       "    }\n",
       "\n",
       "    .dataframe tbody tr th {\n",
       "        vertical-align: top;\n",
       "    }\n",
       "\n",
       "    .dataframe thead th {\n",
       "        text-align: right;\n",
       "    }\n",
       "</style>\n",
       "<table border=\"1\" class=\"dataframe\">\n",
       "  <thead>\n",
       "    <tr style=\"text-align: right;\">\n",
       "      <th></th>\n",
       "      <th>基金代码</th>\n",
       "      <th>日增长率</th>\n",
       "      <th>近1周</th>\n",
       "      <th>近1月</th>\n",
       "      <th>近3月</th>\n",
       "      <th>近6月</th>\n",
       "      <th>近1年</th>\n",
       "      <th>近2年</th>\n",
       "      <th>近3年</th>\n",
       "      <th>今年来</th>\n",
       "      <th>成立来</th>\n",
       "    </tr>\n",
       "  </thead>\n",
       "  <tbody>\n",
       "    <tr>\n",
       "      <th>0</th>\n",
       "      <td>005669</td>\n",
       "      <td>2.67%</td>\n",
       "      <td>3.42%</td>\n",
       "      <td>-5.84%</td>\n",
       "      <td>14.27%</td>\n",
       "      <td>107.97%</td>\n",
       "      <td>149.87%</td>\n",
       "      <td>192.38%</td>\n",
       "      <td>237.58%</td>\n",
       "      <td>89.50%</td>\n",
       "      <td>214.83%</td>\n",
       "    </tr>\n",
       "    <tr>\n",
       "      <th>1</th>\n",
       "      <td>000209</td>\n",
       "      <td>2.98%</td>\n",
       "      <td>4.04%</td>\n",
       "      <td>-12.93%</td>\n",
       "      <td>11.83%</td>\n",
       "      <td>92.01%</td>\n",
       "      <td>131.02%</td>\n",
       "      <td>306.72%</td>\n",
       "      <td>416.52%</td>\n",
       "      <td>83.18%</td>\n",
       "      <td>429.95%</td>\n",
       "    </tr>\n",
       "    <tr>\n",
       "      <th>2</th>\n",
       "      <td>009644</td>\n",
       "      <td>2.72%</td>\n",
       "      <td>3.12%</td>\n",
       "      <td>-11.41%</td>\n",
       "      <td>11.63%</td>\n",
       "      <td>92.73%</td>\n",
       "      <td>128.64%</td>\n",
       "      <td>---</td>\n",
       "      <td>---</td>\n",
       "      <td>74.94%</td>\n",
       "      <td>129.58%</td>\n",
       "    </tr>\n",
       "    <tr>\n",
       "      <th>3</th>\n",
       "      <td>000689</td>\n",
       "      <td>2.22%</td>\n",
       "      <td>3.58%</td>\n",
       "      <td>-7.43%</td>\n",
       "      <td>10.38%</td>\n",
       "      <td>98.51%</td>\n",
       "      <td>128.14%</td>\n",
       "      <td>204.78%</td>\n",
       "      <td>252.98%</td>\n",
       "      <td>83.81%</td>\n",
       "      <td>240.99%</td>\n",
       "    </tr>\n",
       "    <tr>\n",
       "      <th>4</th>\n",
       "      <td>009645</td>\n",
       "      <td>2.72%</td>\n",
       "      <td>3.11%</td>\n",
       "      <td>-11.44%</td>\n",
       "      <td>11.49%</td>\n",
       "      <td>92.25%</td>\n",
       "      <td>127.52%</td>\n",
       "      <td>---</td>\n",
       "      <td>---</td>\n",
       "      <td>74.26%</td>\n",
       "      <td>128.11%</td>\n",
       "    </tr>\n",
       "  </tbody>\n",
       "</table>\n",
       "</div>"
      ],
      "text/plain": [
       "     基金代码   日增长率    近1周      近1月     近3月      近6月      近1年      近2年      近3年     今年来      成立来\n",
       "0  005669  2.67%  3.42%   -5.84%  14.27%  107.97%  149.87%  192.38%  237.58%  89.50%  214.83%\n",
       "1  000209  2.98%  4.04%  -12.93%  11.83%   92.01%  131.02%  306.72%  416.52%  83.18%  429.95%\n",
       "2  009644  2.72%  3.12%  -11.41%  11.63%   92.73%  128.64%      ---      ---  74.94%  129.58%\n",
       "3  000689  2.22%  3.58%   -7.43%  10.38%   98.51%  128.14%  204.78%  252.98%  83.81%  240.99%\n",
       "4  009645  2.72%  3.11%  -11.44%  11.49%   92.25%  127.52%      ---      ---  74.26%  128.11%"
      ]
     },
     "execution_count": 77,
     "metadata": {},
     "output_type": "execute_result"
    }
   ],
   "source": [
    "df.head()"
   ]
  },
  {
   "cell_type": "code",
   "execution_count": 89,
   "metadata": {},
   "outputs": [],
   "source": [
    "# 抓取网址\n",
    "url2 = 'http://fundf10.eastmoney.com/FundArchivesDatas.aspx?type=jjcc&code=000209&topline=10&year=&month=&rt=0.4853159141166432'"
   ]
  },
  {
   "cell_type": "code",
   "execution_count": 90,
   "metadata": {},
   "outputs": [],
   "source": [
    "# 提取网页\n",
    "txt2 = requests.get(url2).text"
   ]
  },
  {
   "cell_type": "code",
   "execution_count": 207,
   "metadata": {},
   "outputs": [
    {
     "data": {
      "text/plain": [
       "{'content': \"<div class='box'><div class='boxitem w790'><h4 class='t'><label class='left'><a href='http://fund.eastmoney.com/000209.html'>信诚新兴产业混合A</a>&nbsp;&nbsp;2021年2季度股票投资明细</label><label class='right lab2 xq505'>&nbsp;&nbsp;&nbsp;&nbsp;来源：天天基金&nbsp;&nbsp;&nbsp;&nbsp;截止至：<font class='px12'>2021-06-30</font></label></h4><div class='space0'></div><table class='w782 comm tzxq'><thead><tr><th class='first'>序号</th><th>股票代码</th><th>股票名称</th><th>最新价</th><th>涨跌幅</th><th class='xglj'>相关资讯</th><th>占净值<br />比例</th><th class='cgs'>持股数<br />（万股）</th><th class='last ccs'>持仓市值<br />（万元）</th></tr></thead><tbody><tr><td>1</td><td><a href='//quote.eastmoney.com/sh688598.html'>688598</a></td><td class='tol'><a href='//quote.eastmoney.com/sh688598.html'>金博股份</a></td><td class='tor'><span id='dq688598'></span></td><td class='tor'><span id='zd688598'></span></td><td class='xglj'><a href='ccbdxq_000209_688598.html' class='red'>变动详情</a><a href='//fund.eastmoney.com/ba/topic,688598.html' >股吧</a><a href='//quote.eastmoney.com/sh688598.html' >行情</a><a href='//emweb.eastmoney.com/PC_HSF10/OperationsRequired/Index?type=web&code=sh688598' style='display:none'>档案</a></td><td class='tor'>6.16%</td><td class='tor'>34.79</td><td class='tor'>9,358.24</td></tr><tr><td>2</td><td><a href='//quote.eastmoney.com/sh603799.html'>603799</a></td><td class='tol'><a href='//quote.eastmoney.com/sh603799.html'>华友钴业</a></td><td class='tor'><span id='dq603799'></span></td><td class='tor'><span id='zd603799'></span></td><td class='xglj'><a href='ccbdxq_000209_603799.html' class='red'>变动详情</a><a href='//fund.eastmoney.com/ba/topic,603799.html' >股吧</a><a href='//quote.eastmoney.com/sh603799.html' >行情</a><a href='//emweb.eastmoney.com/PC_HSF10/OperationsRequired/Index?type=web&code=sh603799' style='display:none'>档案</a></td><td class='tor'>5.46%</td><td class='tor'>72.63</td><td class='tor'>8,293.81</td></tr><tr><td>3</td><td><a href='//quote.eastmoney.com/sh600884.html'>600884</a></td><td class='tol'><a href='//quote.eastmoney.com/sh600884.html'>杉杉股份</a></td><td class='tor'><span id='dq600884'></span></td><td class='tor'><span id='zd600884'></span></td><td class='xglj'><a href='ccbdxq_000209_600884.html' class='red'>变动详情</a><a href='//fund.eastmoney.com/ba/topic,600884.html' >股吧</a><a href='//quote.eastmoney.com/sh600884.html' >行情</a><a href='//emweb.eastmoney.com/PC_HSF10/OperationsRequired/Index?type=web&code=sh600884' style='display:none'>档案</a></td><td class='tor'>5.07%</td><td class='tor'>329.80</td><td class='tor'>7,690.82</td></tr><tr><td>4</td><td><a href='//quote.eastmoney.com/sh600499.html'>600499</a></td><td class='tol'><a href='//quote.eastmoney.com/sh600499.html'>科达制造</a></td><td class='tor'><span id='dq600499'></span></td><td class='tor'><span id='zd600499'></span></td><td class='xglj'><a href='ccbdxq_000209_600499.html' class='red'>变动详情</a><a href='//fund.eastmoney.com/ba/topic,600499.html' >股吧</a><a href='//quote.eastmoney.com/sh600499.html' >行情</a><a href='//emweb.eastmoney.com/PC_HSF10/OperationsRequired/Index?type=web&code=sh600499' style='display:none'>档案</a></td><td class='tor'>5.02%</td><td class='tor'>529.30</td><td class='tor'>7,621.92</td></tr><tr><td>5</td><td><a href='//quote.eastmoney.com/sz002192.html'>002192</a></td><td class='tol'><a href='//quote.eastmoney.com/sz002192.html'>融捷股份</a></td><td class='tor'><span id='dq002192'></span></td><td class='tor'><span id='zd002192'></span></td><td class='xglj'><a href='ccbdxq_000209_002192.html' class='red'>变动详情</a><a href='//fund.eastmoney.com/ba/topic,002192.html' >股吧</a><a href='//quote.eastmoney.com/sz002192.html' >行情</a><a href='//emweb.eastmoney.com/PC_HSF10/OperationsRequired/Index?type=web&code=sz002192' style='display:none'>档案</a></td><td class='tor'>5.00%</td><td class='tor'>110.44</td><td class='tor'>7,582.81</td></tr><tr><td>6</td><td><a href='//quote.eastmoney.com/sz300037.html'>300037</a></td><td class='tol'><a href='//quote.eastmoney.com/sz300037.html'>新宙邦</a></td><td class='tor'><span id='dq300037'></span></td><td class='tor'><span id='zd300037'></span></td><td class='xglj'><a href='ccbdxq_000209_300037.html' class='red'>变动详情</a><a href='//fund.eastmoney.com/ba/topic,300037.html' >股吧</a><a href='//quote.eastmoney.com/sz300037.html' >行情</a><a href='//emweb.eastmoney.com/PC_HSF10/OperationsRequired/Index?type=web&code=sz300037' style='display:none'>档案</a></td><td class='tor'>4.74%</td><td class='tor'>71.81</td><td class='tor'>7,188.18</td></tr><tr><td>7</td><td><a href='//quote.eastmoney.com/sz002460.html'>002460</a></td><td class='tol'><a href='//quote.eastmoney.com/sz002460.html'>赣锋锂业</a></td><td class='tor'><span id='dq002460'></span></td><td class='tor'><span id='zd002460'></span></td><td class='xglj'><a href='ccbdxq_000209_002460.html' class='red'>变动详情</a><a href='//fund.eastmoney.com/ba/topic,002460.html' >股吧</a><a href='//quote.eastmoney.com/sz002460.html' >行情</a><a href='//emweb.eastmoney.com/PC_HSF10/OperationsRequired/Index?type=web&code=sz002460' style='display:none'>档案</a></td><td class='tor'>4.62%</td><td class='tor'>57.97</td><td class='tor'>7,018.98</td></tr><tr><td>8</td><td><a href='//quote.eastmoney.com/sz002340.html'>002340</a></td><td class='tol'><a href='//quote.eastmoney.com/sz002340.html'>格林美</a></td><td class='tor'><span id='dq002340'></span></td><td class='tor'><span id='zd002340'></span></td><td class='xglj'><a href='ccbdxq_000209_002340.html' class='red'>变动详情</a><a href='//fund.eastmoney.com/ba/topic,002340.html' >股吧</a><a href='//quote.eastmoney.com/sz002340.html' >行情</a><a href='//emweb.eastmoney.com/PC_HSF10/OperationsRequired/Index?type=web&code=sz002340' style='display:none'>档案</a></td><td class='tor'>4.59%</td><td class='tor'>744.61</td><td class='tor'>6,962.11</td></tr><tr><td>9</td><td><a href='//quote.eastmoney.com/sz300750.html'>300750</a></td><td class='tol'><a href='//quote.eastmoney.com/sz300750.html'>宁德时代</a></td><td class='tor'><span id='dq300750'></span></td><td class='tor'><span id='zd300750'></span></td><td class='xglj'><a href='ccbdxq_000209_300750.html' class='red'>变动详情</a><a href='//fund.eastmoney.com/ba/topic,300750.html' >股吧</a><a href='//quote.eastmoney.com/sz300750.html' >行情</a><a href='//emweb.eastmoney.com/PC_HSF10/OperationsRequired/Index?type=web&code=sz300750' style='display:none'>档案</a></td><td class='tor'>4.54%</td><td class='tor'>12.89</td><td class='tor'>6,893.57</td></tr><tr><td>10</td><td><a href='//quote.eastmoney.com/sz002497.html'>002497</a></td><td class='tol'><a href='//quote.eastmoney.com/sz002497.html'>雅化集团</a></td><td class='tor'><span id='dq002497'></span></td><td class='tor'><span id='zd002497'></span></td><td class='xglj'><a href='ccbdxq_000209_002497.html' class='red'>变动详情</a><a href='//fund.eastmoney.com/ba/topic,002497.html' >股吧</a><a href='//quote.eastmoney.com/sz002497.html' >行情</a><a href='//emweb.eastmoney.com/PC_HSF10/OperationsRequired/Index?type=web&code=sz002497' style='display:none'>档案</a></td><td class='tor'>4.41%</td><td class='tor'>294.08</td><td class='tor'>6,699.25</td></tr></tbody></table><div class='hide' id='gpdmList'>1.688598,1.603799,1.600884,1.600499,0.002192,0.300037,0.002460,0.002340,0.300750,0.002497,</div><div class='tfoot'><font class='px12'><a style='cursor:pointer;' onclick='LoadMore(this,6,LoadStockPos)'>显示全部持仓明细>></a></font></div></div></div></div><div class='box'><div class='boxitem w790'><h4 class='t'><label class='left'><a href='http://fund.eastmoney.com/000209.html'>信诚新兴产业混合A</a>&nbsp;&nbsp;2021年1季度股票投资明细</label><label class='right lab2 xq505'>&nbsp;&nbsp;&nbsp;&nbsp;来源：天天基金&nbsp;&nbsp;&nbsp;&nbsp;截止至：<font class='px12'>2021-03-31</font></label></h4><div class='space0'></div><table class='w782 comm tzxq'><thead><tr><th class='first'>序号</th><th>股票代码</th><th>股票名称</th><th class='xglj'>相关资讯</th><th>占净值<br />比例</th><th class='cgs'>持股数<br />（万股）</th><th class='last ccs'>持仓市值<br />（万元）</th></tr></thead><tbody><tr><td>1</td><td><a href='//quote.eastmoney.com/sh600438.html'>600438</a></td><td class='tol'><a href='//quote.eastmoney.com/sh600438.html'>通威股份</a></td><td class='xglj'><a href='//fund.eastmoney.com/ba/topic,600438.html' >股吧</a><a href='//quote.eastmoney.com/sh600438.html' >行情</a><a href='//emweb.eastmoney.com/PC_HSF10/OperationsRequired/Index?type=web&code=sh600438' style='display:none'>档案</a></td><td class='tor'>4.94%</td><td class='tor'>62.01</td><td class='tor'>2,030.21</td></tr><tr><td>2</td><td><a href='//quote.eastmoney.com/sz002460.html'>002460</a></td><td class='tol'><a href='//quote.eastmoney.com/sz002460.html'>赣锋锂业</a></td><td class='xglj'><a href='//fund.eastmoney.com/ba/topic,002460.html' >股吧</a><a href='//quote.eastmoney.com/sz002460.html' >行情</a><a href='//emweb.eastmoney.com/PC_HSF10/OperationsRequired/Index?type=web&code=sz002460' style='display:none'>档案</a></td><td class='tor'>4.84%</td><td class='tor'>21.12</td><td class='tor'>1,990.30</td></tr><tr><td>3</td><td><a href='//quote.eastmoney.com/sh688598.html'>688598</a></td><td class='tol'><a href='//quote.eastmoney.com/sh688598.html'>金博股份</a></td><td class='xglj'><a href='//fund.eastmoney.com/ba/topic,688598.html' >股吧</a><a href='//quote.eastmoney.com/sh688598.html' >行情</a><a href='//emweb.eastmoney.com/PC_HSF10/OperationsRequired/Index?type=web&code=sh688598' style='display:none'>档案</a></td><td class='tor'>4.71%</td><td class='tor'>11.45</td><td class='tor'>1,934.36</td></tr><tr><td>4</td><td><a href='//quote.eastmoney.com/sh688006.html'>688006</a></td><td class='tol'><a href='//quote.eastmoney.com/sh688006.html'>杭可科技</a></td><td class='xglj'><a href='//fund.eastmoney.com/ba/topic,688006.html' >股吧</a><a href='//quote.eastmoney.com/sh688006.html' >行情</a><a href='//emweb.eastmoney.com/PC_HSF10/OperationsRequired/Index?type=web&code=sh688006' style='display:none'>档案</a></td><td class='tor'>4.66%</td><td class='tor'>31.12</td><td class='tor'>1,916.84</td></tr><tr><td>5</td><td><a href='//quote.eastmoney.com/sz300750.html'>300750</a></td><td class='tol'><a href='//quote.eastmoney.com/sz300750.html'>宁德时代</a></td><td class='xglj'><a href='//fund.eastmoney.com/ba/topic,300750.html' >股吧</a><a href='//quote.eastmoney.com/sz300750.html' >行情</a><a href='//emweb.eastmoney.com/PC_HSF10/OperationsRequired/Index?type=web&code=sz300750' style='display:none'>档案</a></td><td class='tor'>4.59%</td><td class='tor'>5.86</td><td class='tor'>1,887.92</td></tr><tr><td>6</td><td><a href='//quote.eastmoney.com/sh603799.html'>603799</a></td><td class='tol'><a href='//quote.eastmoney.com/sh603799.html'>华友钴业</a></td><td class='xglj'><a href='//fund.eastmoney.com/ba/topic,603799.html' >股吧</a><a href='//quote.eastmoney.com/sh603799.html' >行情</a><a href='//emweb.eastmoney.com/PC_HSF10/OperationsRequired/Index?type=web&code=sh603799' style='display:none'>档案</a></td><td class='tor'>4.56%</td><td class='tor'>27.28</td><td class='tor'>1,875.23</td></tr><tr><td>7</td><td><a href='//quote.eastmoney.com/sz300316.html'>300316</a></td><td class='tol'><a href='//quote.eastmoney.com/sz300316.html'>晶盛机电</a></td><td class='xglj'><a href='//fund.eastmoney.com/ba/topic,300316.html' >股吧</a><a href='//quote.eastmoney.com/sz300316.html' >行情</a><a href='//emweb.eastmoney.com/PC_HSF10/OperationsRequired/Index?type=web&code=sz300316' style='display:none'>档案</a></td><td class='tor'>4.52%</td><td class='tor'>56.39</td><td class='tor'>1,857.49</td></tr><tr><td>8</td><td><a href='//quote.eastmoney.com/sz300724.html'>300724</a></td><td class='tol'><a href='//quote.eastmoney.com/sz300724.html'>捷佳伟创</a></td><td class='xglj'><a href='//fund.eastmoney.com/ba/topic,300724.html' >股吧</a><a href='//quote.eastmoney.com/sz300724.html' >行情</a><a href='//emweb.eastmoney.com/PC_HSF10/OperationsRequired/Index?type=web&code=sz300724' style='display:none'>档案</a></td><td class='tor'>4.38%</td><td class='tor'>16.64</td><td class='tor'>1,802.61</td></tr><tr><td>9</td><td><a href='//quote.eastmoney.com/sz300073.html'>300073</a></td><td class='tol'><a href='//quote.eastmoney.com/sz300073.html'>当升科技</a></td><td class='xglj'><a href='//fund.eastmoney.com/ba/topic,300073.html' >股吧</a><a href='//quote.eastmoney.com/sz300073.html' >行情</a><a href='//emweb.eastmoney.com/PC_HSF10/OperationsRequired/Index?type=web&code=sz300073' style='display:none'>档案</a></td><td class='tor'>4.38%</td><td class='tor'>38.05</td><td class='tor'>1,802.43</td></tr><tr><td>10</td><td><a href='//quote.eastmoney.com/sz002709.html'>002709</a></td><td class='tol'><a href='//quote.eastmoney.com/sz002709.html'>天赐材料</a></td><td class='xglj'><a href='//fund.eastmoney.com/ba/topic,002709.html' >股吧</a><a href='//quote.eastmoney.com/sz002709.html' >行情</a><a href='//emweb.eastmoney.com/PC_HSF10/OperationsRequired/Index?type=web&code=sz002709' style='display:none'>档案</a></td><td class='tor'>4.17%</td><td class='tor'>20.99</td><td class='tor'>1,712.63</td></tr></tbody></table><div class='hide' id='gpdmList'></div></div></div>\",\n",
       " 'arryear': [2021, 2020, 2019, 2018, 2017, 2016, 2015, 2014, 2013],\n",
       " 'curyear': 2021}"
      ]
     },
     "execution_count": 207,
     "metadata": {},
     "output_type": "execute_result"
    }
   ],
   "source": [
    "txt2"
   ]
  },
  {
   "cell_type": "code",
   "execution_count": 99,
   "metadata": {},
   "outputs": [],
   "source": [
    "txt2=eval(txt2[12:-1].replace(\"content\",\"\\\"content\\\"\").replace(\"arryear\",\"\\\"arryear\\\"\").replace(\"curyear\",\"\\\"curyear\\\"\"))"
   ]
  },
  {
   "cell_type": "code",
   "execution_count": 208,
   "metadata": {},
   "outputs": [],
   "source": [
    "df2.to_excel(\"/Users/super/Desktop/a.xlsx\",index=False)"
   ]
  },
  {
   "cell_type": "code",
   "execution_count": 190,
   "metadata": {},
   "outputs": [
    {
     "data": {
      "text/plain": [
       "Index(['content', 'arryear', 'curyear'], dtype='object')"
      ]
     },
     "execution_count": 190,
     "metadata": {},
     "output_type": "execute_result"
    }
   ],
   "source": [
    "df2.columns"
   ]
  },
  {
   "cell_type": "code",
   "execution_count": 206,
   "metadata": {},
   "outputs": [
    {
     "data": {
      "text/plain": [
       "\"<div class='box'><div class='boxitem w790'><h4 class='t'><label class='left'><a href='http://fund.eastmoney.com/000209.html'>信诚新兴产业混合A</a>&nbsp;&nbsp;2021年2季度股票投资明细</label><label class='right lab2 xq505'>&nbsp;&nbsp;&nbsp;&nbsp;来源：天天基金&nbsp;&nbsp;&nbsp;&nbsp;截止至：<font class='px12'>2021-06-30</font></label></h4><div class='space0'></div><table class='w782 comm tzxq'><thead><tr><th class='first'>序号</th><th>股票代码</th><th>股票名称</th><th>最新价</th><th>涨跌幅</th><th class='xglj'>相关资讯</th><th>占净值<br />比例</th><th class='cgs'>持股数<br />（万股）</th><th class='last ccs'>持仓市值<br />（万元）</th></tr></thead><tbody><tr><td>1</td><td><a href='//quote.eastmoney.com/sh688598.html'>688598</a></td><td class='tol'><a href='//quote.eastmoney.com/sh688598.html'>金博股份</a></td><td class='tor'><span id='dq688598'></span></td><td class='tor'><span id='zd688598'></span></td><td class='xglj'><a href='ccbdxq_000209_688598.html' class='red'>变动详情</a><a href='//fund.eastmoney.com/ba/topic,688598.html' >股吧</a><a href='//quote.eastmoney.com/sh688598.html' >行情</a><a href='//emweb.eastmoney.com/PC_HSF10/OperationsRequired/Index?type=web&code=sh688598' style='display:none'>档案</a></td><td class='tor'>6.16%</td><td class='tor'>34.79</td><td class='tor'>9,358.24</td></tr><tr><td>2</td><td><a href='//quote.eastmoney.com/sh603799.html'>603799</a></td><td class='tol'><a href='//quote.eastmoney.com/sh603799.html'>华友钴业</a></td><td class='tor'><span id='dq603799'></span></td><td class='tor'><span id='zd603799'></span></td><td class='xglj'><a href='ccbdxq_000209_603799.html' class='red'>变动详情</a><a href='//fund.eastmoney.com/ba/topic,603799.html' >股吧</a><a href='//quote.eastmoney.com/sh603799.html' >行情</a><a href='//emweb.eastmoney.com/PC_HSF10/OperationsRequired/Index?type=web&code=sh603799' style='display:none'>档案</a></td><td class='tor'>5.46%</td><td class='tor'>72.63</td><td class='tor'>8,293.81</td></tr><tr><td>3</td><td><a href='//quote.eastmoney.com/sh600884.html'>600884</a></td><td class='tol'><a href='//quote.eastmoney.com/sh600884.html'>杉杉股份</a></td><td class='tor'><span id='dq600884'></span></td><td class='tor'><span id='zd600884'></span></td><td class='xglj'><a href='ccbdxq_000209_600884.html' class='red'>变动详情</a><a href='//fund.eastmoney.com/ba/topic,600884.html' >股吧</a><a href='//quote.eastmoney.com/sh600884.html' >行情</a><a href='//emweb.eastmoney.com/PC_HSF10/OperationsRequired/Index?type=web&code=sh600884' style='display:none'>档案</a></td><td class='tor'>5.07%</td><td class='tor'>329.80</td><td class='tor'>7,690.82</td></tr><tr><td>4</td><td><a href='//quote.eastmoney.com/sh600499.html'>600499</a></td><td class='tol'><a href='//quote.eastmoney.com/sh600499.html'>科达制造</a></td><td class='tor'><span id='dq600499'></span></td><td class='tor'><span id='zd600499'></span></td><td class='xglj'><a href='ccbdxq_000209_600499.html' class='red'>变动详情</a><a href='//fund.eastmoney.com/ba/topic,600499.html' >股吧</a><a href='//quote.eastmoney.com/sh600499.html' >行情</a><a href='//emweb.eastmoney.com/PC_HSF10/OperationsRequired/Index?type=web&code=sh600499' style='display:none'>档案</a></td><td class='tor'>5.02%</td><td class='tor'>529.30</td><td class='tor'>7,621.92</td></tr><tr><td>5</td><td><a href='//quote.eastmoney.com/sz002192.html'>002192</a></td><td class='tol'><a href='//quote.eastmoney.com/sz002192.html'>融捷股份</a></td><td class='tor'><span id='dq002192'></span></td><td class='tor'><span id='zd002192'></span></td><td class='xglj'><a href='ccbdxq_000209_002192.html' class='red'>变动详情</a><a href='//fund.eastmoney.com/ba/topic,002192.html' >股吧</a><a href='//quote.eastmoney.com/sz002192.html' >行情</a><a href='//emweb.eastmoney.com/PC_HSF10/OperationsRequired/Index?type=web&code=sz002192' style='display:none'>档案</a></td><td class='tor'>5.00%</td><td class='tor'>110.44</td><td class='tor'>7,582.81</td></tr><tr><td>6</td><td><a href='//quote.eastmoney.com/sz300037.html'>300037</a></td><td class='tol'><a href='//quote.eastmoney.com/sz300037.html'>新宙邦</a></td><td class='tor'><span id='dq300037'></span></td><td class='tor'><span id='zd300037'></span></td><td class='xglj'><a href='ccbdxq_000209_300037.html' class='red'>变动详情</a><a href='//fund.eastmoney.com/ba/topic,300037.html' >股吧</a><a href='//quote.eastmoney.com/sz300037.html' >行情</a><a href='//emweb.eastmoney.com/PC_HSF10/OperationsRequired/Index?type=web&code=sz300037' style='display:none'>档案</a></td><td class='tor'>4.74%</td><td class='tor'>71.81</td><td class='tor'>7,188.18</td></tr><tr><td>7</td><td><a href='//quote.eastmoney.com/sz002460.html'>002460</a></td><td class='tol'><a href='//quote.eastmoney.com/sz002460.html'>赣锋锂业</a></td><td class='tor'><span id='dq002460'></span></td><td class='tor'><span id='zd002460'></span></td><td class='xglj'><a href='ccbdxq_000209_002460.html' class='red'>变动详情</a><a href='//fund.eastmoney.com/ba/topic,002460.html' >股吧</a><a href='//quote.eastmoney.com/sz002460.html' >行情</a><a href='//emweb.eastmoney.com/PC_HSF10/OperationsRequired/Index?type=web&code=sz002460' style='display:none'>档案</a></td><td class='tor'>4.62%</td><td class='tor'>57.97</td><td class='tor'>7,018.98</td></tr><tr><td>8</td><td><a href='//quote.eastmoney.com/sz002340.html'>002340</a></td><td class='tol'><a href='//quote.eastmoney.com/sz002340.html'>格林美</a></td><td class='tor'><span id='dq002340'></span></td><td class='tor'><span id='zd002340'></span></td><td class='xglj'><a href='ccbdxq_000209_002340.html' class='red'>变动详情</a><a href='//fund.eastmoney.com/ba/topic,002340.html' >股吧</a><a href='//quote.eastmoney.com/sz002340.html' >行情</a><a href='//emweb.eastmoney.com/PC_HSF10/OperationsRequired/Index?type=web&code=sz002340' style='display:none'>档案</a></td><td class='tor'>4.59%</td><td class='tor'>744.61</td><td class='tor'>6,962.11</td></tr><tr><td>9</td><td><a href='//quote.eastmoney.com/sz300750.html'>300750</a></td><td class='tol'><a href='//quote.eastmoney.com/sz300750.html'>宁德时代</a></td><td class='tor'><span id='dq300750'></span></td><td class='tor'><span id='zd300750'></span></td><td class='xglj'><a href='ccbdxq_000209_300750.html' class='red'>变动详情</a><a href='//fund.eastmoney.com/ba/topic,300750.html' >股吧</a><a href='//quote.eastmoney.com/sz300750.html' >行情</a><a href='//emweb.eastmoney.com/PC_HSF10/OperationsRequired/Index?type=web&code=sz300750' style='display:none'>档案</a></td><td class='tor'>4.54%</td><td class='tor'>12.89</td><td class='tor'>6,893.57</td></tr><tr><td>10</td><td><a href='//quote.eastmoney.com/sz002497.html'>002497</a></td><td class='tol'><a href='//quote.eastmoney.com/sz002497.html'>雅化集团</a></td><td class='tor'><span id='dq002497'></span></td><td class='tor'><span id='zd002497'></span></td><td class='xglj'><a href='ccbdxq_000209_002497.html' class='red'>变动详情</a><a href='//fund.eastmoney.com/ba/topic,002497.html' >股吧</a><a href='//quote.eastmoney.com/sz002497.html' >行情</a><a href='//emweb.eastmoney.com/PC_HSF10/OperationsRequired/Index?type=web&code=sz002497' style='display:none'>档案</a></td><td class='tor'>4.41%</td><td class='tor'>294.08</td><td class='tor'>6,699.25</td></tr></tbody></table><div class='hide' id='gpdmList'>1.688598,1.603799,1.600884,1.600499,0.002192,0.300037,0.002460,0.002340,0.300750,0.002497,</div><div class='tfoot'><font class='px12'><a style='cursor:pointer;' onclick='LoadMore(this,6,LoadStockPos)'>显示全部持仓明细>></a></font></div></div></div></div><div class='box'><div class='boxitem w790'><h4 class='t'><label class='left'><a href='http://fund.eastmoney.com/000209.html'>信诚新兴产业混合A</a>&nbsp;&nbsp;2021年1季度股票投资明细</label><label class='right lab2 xq505'>&nbsp;&nbsp;&nbsp;&nbsp;来源：天天基金&nbsp;&nbsp;&nbsp;&nbsp;截止至：<font class='px12'>2021-03-31</font></label></h4><div class='space0'></div><table class='w782 comm tzxq'><thead><tr><th class='first'>序号</th><th>股票代码</th><th>股票名称</th><th class='xglj'>相关资讯</th><th>占净值<br />比例</th><th class='cgs'>持股数<br />（万股）</th><th class='last ccs'>持仓市值<br />（万元）</th></tr></thead><tbody><tr><td>1</td><td><a href='//quote.eastmoney.com/sh600438.html'>600438</a></td><td class='tol'><a href='//quote.eastmoney.com/sh600438.html'>通威股份</a></td><td class='xglj'><a href='//fund.eastmoney.com/ba/topic,600438.html' >股吧</a><a href='//quote.eastmoney.com/sh600438.html' >行情</a><a href='//emweb.eastmoney.com/PC_HSF10/OperationsRequired/Index?type=web&code=sh600438' style='display:none'>档案</a></td><td class='tor'>4.94%</td><td class='tor'>62.01</td><td class='tor'>2,030.21</td></tr><tr><td>2</td><td><a href='//quote.eastmoney.com/sz002460.html'>002460</a></td><td class='tol'><a href='//quote.eastmoney.com/sz002460.html'>赣锋锂业</a></td><td class='xglj'><a href='//fund.eastmoney.com/ba/topic,002460.html' >股吧</a><a href='//quote.eastmoney.com/sz002460.html' >行情</a><a href='//emweb.eastmoney.com/PC_HSF10/OperationsRequired/Index?type=web&code=sz002460' style='display:none'>档案</a></td><td class='tor'>4.84%</td><td class='tor'>21.12</td><td class='tor'>1,990.30</td></tr><tr><td>3</td><td><a href='//quote.eastmoney.com/sh688598.html'>688598</a></td><td class='tol'><a href='//quote.eastmoney.com/sh688598.html'>金博股份</a></td><td class='xglj'><a href='//fund.eastmoney.com/ba/topic,688598.html' >股吧</a><a href='//quote.eastmoney.com/sh688598.html' >行情</a><a href='//emweb.eastmoney.com/PC_HSF10/OperationsRequired/Index?type=web&code=sh688598' style='display:none'>档案</a></td><td class='tor'>4.71%</td><td class='tor'>11.45</td><td class='tor'>1,934.36</td></tr><tr><td>4</td><td><a href='//quote.eastmoney.com/sh688006.html'>688006</a></td><td class='tol'><a href='//quote.eastmoney.com/sh688006.html'>杭可科技</a></td><td class='xglj'><a href='//fund.eastmoney.com/ba/topic,688006.html' >股吧</a><a href='//quote.eastmoney.com/sh688006.html' >行情</a><a href='//emweb.eastmoney.com/PC_HSF10/OperationsRequired/Index?type=web&code=sh688006' style='display:none'>档案</a></td><td class='tor'>4.66%</td><td class='tor'>31.12</td><td class='tor'>1,916.84</td></tr><tr><td>5</td><td><a href='//quote.eastmoney.com/sz300750.html'>300750</a></td><td class='tol'><a href='//quote.eastmoney.com/sz300750.html'>宁德时代</a></td><td class='xglj'><a href='//fund.eastmoney.com/ba/topic,300750.html' >股吧</a><a href='//quote.eastmoney.com/sz300750.html' >行情</a><a href='//emweb.eastmoney.com/PC_HSF10/OperationsRequired/Index?type=web&code=sz300750' style='display:none'>档案</a></td><td class='tor'>4.59%</td><td class='tor'>5.86</td><td class='tor'>1,887.92</td></tr><tr><td>6</td><td><a href='//quote.eastmoney.com/sh603799.html'>603799</a></td><td class='tol'><a href='//quote.eastmoney.com/sh603799.html'>华友钴业</a></td><td class='xglj'><a href='//fund.eastmoney.com/ba/topic,603799.html' >股吧</a><a href='//quote.eastmoney.com/sh603799.html' >行情</a><a href='//emweb.eastmoney.com/PC_HSF10/OperationsRequired/Index?type=web&code=sh603799' style='display:none'>档案</a></td><td class='tor'>4.56%</td><td class='tor'>27.28</td><td class='tor'>1,875.23</td></tr><tr><td>7</td><td><a href='//quote.eastmoney.com/sz300316.html'>300316</a></td><td class='tol'><a href='//quote.eastmoney.com/sz300316.html'>晶盛机电</a></td><td class='xglj'><a href='//fund.eastmoney.com/ba/topic,300316.html' >股吧</a><a href='//quote.eastmoney.com/sz300316.html' >行情</a><a href='//emweb.eastmoney.com/PC_HSF10/OperationsRequired/Index?type=web&code=sz300316' style='display:none'>档案</a></td><td class='tor'>4.52%</td><td class='tor'>56.39</td><td class='tor'>1,857.49</td></tr><tr><td>8</td><td><a href='//quote.eastmoney.com/sz300724.html'>300724</a></td><td class='tol'><a href='//quote.eastmoney.com/sz300724.html'>捷佳伟创</a></td><td class='xglj'><a href='//fund.eastmoney.com/ba/topic,300724.html' >股吧</a><a href='//quote.eastmoney.com/sz300724.html' >行情</a><a href='//emweb.eastmoney.com/PC_HSF10/OperationsRequired/Index?type=web&code=sz300724' style='display:none'>档案</a></td><td class='tor'>4.38%</td><td class='tor'>16.64</td><td class='tor'>1,802.61</td></tr><tr><td>9</td><td><a href='//quote.eastmoney.com/sz300073.html'>300073</a></td><td class='tol'><a href='//quote.eastmoney.com/sz300073.html'>当升科技</a></td><td class='xglj'><a href='//fund.eastmoney.com/ba/topic,300073.html' >股吧</a><a href='//quote.eastmoney.com/sz300073.html' >行情</a><a href='//emweb.eastmoney.com/PC_HSF10/OperationsRequired/Index?type=web&code=sz300073' style='display:none'>档案</a></td><td class='tor'>4.38%</td><td class='tor'>38.05</td><td class='tor'>1,802.43</td></tr><tr><td>10</td><td><a href='//quote.eastmoney.com/sz002709.html'>002709</a></td><td class='tol'><a href='//quote.eastmoney.com/sz002709.html'>天赐材料</a></td><td class='xglj'><a href='//fund.eastmoney.com/ba/topic,002709.html' >股吧</a><a href='//quote.eastmoney.com/sz002709.html' >行情</a><a href='//emweb.eastmoney.com/PC_HSF10/OperationsRequired/Index?type=web&code=sz002709' style='display:none'>档案</a></td><td class='tor'>4.17%</td><td class='tor'>20.99</td><td class='tor'>1,712.63</td></tr></tbody></table><div class='hide' id='gpdmList'></div></div></div>\""
      ]
     },
     "execution_count": 206,
     "metadata": {},
     "output_type": "execute_result"
    }
   ],
   "source": [
    "a=df2.loc[2,\"content\"]\n",
    "a"
   ]
  },
  {
   "cell_type": "code",
   "execution_count": 215,
   "metadata": {},
   "outputs": [],
   "source": [
    "import re"
   ]
  },
  {
   "cell_type": "code",
   "execution_count": 216,
   "metadata": {},
   "outputs": [],
   "source": [
    "# //*[@id=\"cctable\"]/div[1]/div/table/tbody/tr[1]/td[2]/a\n",
    "b=re.sub(r\"<.*?>\",\"|\",a.split(\"<tbody>\")[2])"
   ]
  },
  {
   "cell_type": "code",
   "execution_count": 217,
   "metadata": {},
   "outputs": [],
   "source": [
    "c=b.replace(\"||||\",\"|\").replace(\"||\",\"|\").replace(\"||\",\"|\").replace(\"||\",\"|\").replace(\"&nbsp;\",\"\")"
   ]
  },
  {
   "cell_type": "code",
   "execution_count": 218,
   "metadata": {},
   "outputs": [
    {
     "data": {
      "text/plain": [
       "'|1|600438|通威股份|股吧|行情|档案|4.94%|62.01|2,030.21|2|002460|赣锋锂业|股吧|行情|档案|4.84%|21.12|1,990.30|3|688598|金博股份|股吧|行情|档案|4.71%|11.45|1,934.36|4|688006|杭可科技|股吧|行情|档案|4.66%|31.12|1,916.84|5|300750|宁德时代|股吧|行情|档案|4.59%|5.86|1,887.92|6|603799|华友钴业|股吧|行情|档案|4.56%|27.28|1,875.23|7|300316|晶盛机电|股吧|行情|档案|4.52%|56.39|1,857.49|8|300724|捷佳伟创|股吧|行情|档案|4.38%|16.64|1,802.61|9|300073|当升科技|股吧|行情|档案|4.38%|38.05|1,802.43|10|002709|天赐材料|股吧|行情|档案|4.17%|20.99|1,712.63|'"
      ]
     },
     "execution_count": 218,
     "metadata": {},
     "output_type": "execute_result"
    }
   ],
   "source": [
    "c"
   ]
  },
  {
   "cell_type": "code",
   "execution_count": 219,
   "metadata": {},
   "outputs": [],
   "source": [
    "d=c[1:-1].split(\"|\")"
   ]
  },
  {
   "cell_type": "code",
   "execution_count": 220,
   "metadata": {},
   "outputs": [
    {
     "data": {
      "text/plain": [
       "90"
      ]
     },
     "execution_count": 220,
     "metadata": {},
     "output_type": "execute_result"
    }
   ],
   "source": [
    "len(d)"
   ]
  },
  {
   "cell_type": "code",
   "execution_count": 231,
   "metadata": {},
   "outputs": [
    {
     "data": {
      "text/plain": [
       "['1', '600438', '通威股份', '股吧', '行情', '档案', '4.94%', '62.01', '2,030.21']"
      ]
     },
     "execution_count": 231,
     "metadata": {},
     "output_type": "execute_result"
    }
   ],
   "source": [
    "d[:9]"
   ]
  },
  {
   "cell_type": "code",
   "execution_count": 222,
   "metadata": {},
   "outputs": [],
   "source": [
    "import numpy as np"
   ]
  },
  {
   "cell_type": "code",
   "execution_count": 235,
   "metadata": {},
   "outputs": [
    {
     "data": {
      "text/html": [
       "<div>\n",
       "<style scoped>\n",
       "    .dataframe tbody tr th:only-of-type {\n",
       "        vertical-align: middle;\n",
       "    }\n",
       "\n",
       "    .dataframe tbody tr th {\n",
       "        vertical-align: top;\n",
       "    }\n",
       "\n",
       "    .dataframe thead th {\n",
       "        text-align: right;\n",
       "    }\n",
       "</style>\n",
       "<table border=\"1\" class=\"dataframe\">\n",
       "  <thead>\n",
       "    <tr style=\"text-align: right;\">\n",
       "      <th></th>\n",
       "      <th>序号</th>\n",
       "      <th>股票代码</th>\n",
       "      <th>股票名称</th>\n",
       "      <th>-1</th>\n",
       "      <th>-2</th>\n",
       "      <th>-3</th>\n",
       "      <th>比例</th>\n",
       "      <th>持股数</th>\n",
       "      <th>持仓市值</th>\n",
       "    </tr>\n",
       "  </thead>\n",
       "  <tbody>\n",
       "    <tr>\n",
       "      <th>0</th>\n",
       "      <td>1</td>\n",
       "      <td>600438</td>\n",
       "      <td>通威股份</td>\n",
       "      <td>股吧</td>\n",
       "      <td>行情</td>\n",
       "      <td>档案</td>\n",
       "      <td>4.94%</td>\n",
       "      <td>62.01</td>\n",
       "      <td>2,030.21</td>\n",
       "    </tr>\n",
       "    <tr>\n",
       "      <th>1</th>\n",
       "      <td>2</td>\n",
       "      <td>002460</td>\n",
       "      <td>赣锋锂业</td>\n",
       "      <td>股吧</td>\n",
       "      <td>行情</td>\n",
       "      <td>档案</td>\n",
       "      <td>4.84%</td>\n",
       "      <td>21.12</td>\n",
       "      <td>1,990.30</td>\n",
       "    </tr>\n",
       "    <tr>\n",
       "      <th>2</th>\n",
       "      <td>3</td>\n",
       "      <td>688598</td>\n",
       "      <td>金博股份</td>\n",
       "      <td>股吧</td>\n",
       "      <td>行情</td>\n",
       "      <td>档案</td>\n",
       "      <td>4.71%</td>\n",
       "      <td>11.45</td>\n",
       "      <td>1,934.36</td>\n",
       "    </tr>\n",
       "    <tr>\n",
       "      <th>3</th>\n",
       "      <td>4</td>\n",
       "      <td>688006</td>\n",
       "      <td>杭可科技</td>\n",
       "      <td>股吧</td>\n",
       "      <td>行情</td>\n",
       "      <td>档案</td>\n",
       "      <td>4.66%</td>\n",
       "      <td>31.12</td>\n",
       "      <td>1,916.84</td>\n",
       "    </tr>\n",
       "    <tr>\n",
       "      <th>4</th>\n",
       "      <td>5</td>\n",
       "      <td>300750</td>\n",
       "      <td>宁德时代</td>\n",
       "      <td>股吧</td>\n",
       "      <td>行情</td>\n",
       "      <td>档案</td>\n",
       "      <td>4.59%</td>\n",
       "      <td>5.86</td>\n",
       "      <td>1,887.92</td>\n",
       "    </tr>\n",
       "    <tr>\n",
       "      <th>5</th>\n",
       "      <td>6</td>\n",
       "      <td>603799</td>\n",
       "      <td>华友钴业</td>\n",
       "      <td>股吧</td>\n",
       "      <td>行情</td>\n",
       "      <td>档案</td>\n",
       "      <td>4.56%</td>\n",
       "      <td>27.28</td>\n",
       "      <td>1,875.23</td>\n",
       "    </tr>\n",
       "    <tr>\n",
       "      <th>6</th>\n",
       "      <td>7</td>\n",
       "      <td>300316</td>\n",
       "      <td>晶盛机电</td>\n",
       "      <td>股吧</td>\n",
       "      <td>行情</td>\n",
       "      <td>档案</td>\n",
       "      <td>4.52%</td>\n",
       "      <td>56.39</td>\n",
       "      <td>1,857.49</td>\n",
       "    </tr>\n",
       "    <tr>\n",
       "      <th>7</th>\n",
       "      <td>8</td>\n",
       "      <td>300724</td>\n",
       "      <td>捷佳伟创</td>\n",
       "      <td>股吧</td>\n",
       "      <td>行情</td>\n",
       "      <td>档案</td>\n",
       "      <td>4.38%</td>\n",
       "      <td>16.64</td>\n",
       "      <td>1,802.61</td>\n",
       "    </tr>\n",
       "    <tr>\n",
       "      <th>8</th>\n",
       "      <td>9</td>\n",
       "      <td>300073</td>\n",
       "      <td>当升科技</td>\n",
       "      <td>股吧</td>\n",
       "      <td>行情</td>\n",
       "      <td>档案</td>\n",
       "      <td>4.38%</td>\n",
       "      <td>38.05</td>\n",
       "      <td>1,802.43</td>\n",
       "    </tr>\n",
       "    <tr>\n",
       "      <th>9</th>\n",
       "      <td>10</td>\n",
       "      <td>002709</td>\n",
       "      <td>天赐材料</td>\n",
       "      <td>股吧</td>\n",
       "      <td>行情</td>\n",
       "      <td>档案</td>\n",
       "      <td>4.17%</td>\n",
       "      <td>20.99</td>\n",
       "      <td>1,712.63</td>\n",
       "    </tr>\n",
       "  </tbody>\n",
       "</table>\n",
       "</div>"
      ],
      "text/plain": [
       "   序号    股票代码  股票名称  -1  -2  -3     比例    持股数      持仓市值\n",
       "0   1  600438  通威股份  股吧  行情  档案  4.94%  62.01  2,030.21\n",
       "1   2  002460  赣锋锂业  股吧  行情  档案  4.84%  21.12  1,990.30\n",
       "2   3  688598  金博股份  股吧  行情  档案  4.71%  11.45  1,934.36\n",
       "3   4  688006  杭可科技  股吧  行情  档案  4.66%  31.12  1,916.84\n",
       "4   5  300750  宁德时代  股吧  行情  档案  4.59%   5.86  1,887.92\n",
       "5   6  603799  华友钴业  股吧  行情  档案  4.56%  27.28  1,875.23\n",
       "6   7  300316  晶盛机电  股吧  行情  档案  4.52%  56.39  1,857.49\n",
       "7   8  300724  捷佳伟创  股吧  行情  档案  4.38%  16.64  1,802.61\n",
       "8   9  300073  当升科技  股吧  行情  档案  4.38%  38.05  1,802.43\n",
       "9  10  002709  天赐材料  股吧  行情  档案  4.17%  20.99  1,712.63"
      ]
     },
     "execution_count": 235,
     "metadata": {},
     "output_type": "execute_result"
    }
   ],
   "source": [
    "pd.DataFrame(np.array(d).reshape(10,9),columns=['序号',\n",
    "'股票代码',\n",
    " '股票名称',\n",
    " '-1',\n",
    " '-2',\n",
    " '-3',\n",
    " '比例',\n",
    " '持股数','持仓市值'])"
   ]
  },
  {
   "cell_type": "code",
   "execution_count": 223,
   "metadata": {},
   "outputs": [
    {
     "ename": "ValueError",
     "evalue": "cannot reshape array of size 74 into shape (10,10)",
     "output_type": "error",
     "traceback": [
      "\u001b[0;31m---------------------------------------------------------------------------\u001b[0m",
      "\u001b[0;31mValueError\u001b[0m                                Traceback (most recent call last)",
      "\u001b[0;32m<ipython-input-223-5ef4f013a89f>\u001b[0m in \u001b[0;36m<module>\u001b[0;34m\u001b[0m\n\u001b[0;32m----> 1\u001b[0;31m pd.DataFrame(np.array(d[:-16]).reshape(10,int((116-16)/10)),columns=['序号',\n\u001b[0m\u001b[1;32m      2\u001b[0m \u001b[0;34m'股票代码'\u001b[0m\u001b[0;34m,\u001b[0m\u001b[0;34m\u001b[0m\u001b[0;34m\u001b[0m\u001b[0m\n\u001b[1;32m      3\u001b[0m  \u001b[0;34m'股票名称'\u001b[0m\u001b[0;34m,\u001b[0m\u001b[0;34m\u001b[0m\u001b[0;34m\u001b[0m\u001b[0m\n\u001b[1;32m      4\u001b[0m  \u001b[0;34m'-1'\u001b[0m\u001b[0;34m,\u001b[0m\u001b[0;34m\u001b[0m\u001b[0;34m\u001b[0m\u001b[0m\n\u001b[1;32m      5\u001b[0m  \u001b[0;34m'-2'\u001b[0m\u001b[0;34m,\u001b[0m\u001b[0;34m\u001b[0m\u001b[0;34m\u001b[0m\u001b[0m\n",
      "\u001b[0;31mValueError\u001b[0m: cannot reshape array of size 74 into shape (10,10)"
     ]
    }
   ],
   "source": [
    "pd.DataFrame(np.array(d[:-16]).reshape(10,int((116-16)/10)),columns=['序号',\n",
    "'股票代码',\n",
    " '股票名称',\n",
    " '-1',\n",
    " '-2',\n",
    " '-3',\n",
    " '-4',\n",
    " '比例',\n",
    " '持股数','持仓市值'])"
   ]
  },
  {
   "cell_type": "code",
   "execution_count": null,
   "metadata": {},
   "outputs": [],
   "source": []
  }
 ],
 "metadata": {
  "kernelspec": {
   "display_name": "Python 3",
   "language": "python",
   "name": "python3"
  },
  "language_info": {
   "codemirror_mode": {
    "name": "ipython",
    "version": 3
   },
   "file_extension": ".py",
   "mimetype": "text/x-python",
   "name": "python",
   "nbconvert_exporter": "python",
   "pygments_lexer": "ipython3",
   "version": "3.7.3"
  }
 },
 "nbformat": 4,
 "nbformat_minor": 2
}
