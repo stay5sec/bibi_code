{
 "cells": [
  {
   "cell_type": "code",
   "execution_count": 25,
   "metadata": {},
   "outputs": [],
   "source": [
    "import requests\n",
    "from lxml import etree\n",
    "import pandas as pd\n",
    "\n",
    "\n",
    "pd.set_option('expand_frame_repr', False)\n",
    "pd.set_option('display.max_rows', 1000)\n",
    "\n",
    "# 抓取网址\n",
    "url = 'https://fund.eastmoney.com/trade/pg.html?'\n"
   ]
  },
  {
   "cell_type": "code",
   "execution_count": 53,
   "metadata": {},
   "outputs": [],
   "source": [
    "# 提取网页\n",
    "txt = requests.get(url).text\n",
    "\n",
    "\n",
    "html = etree.HTML(txt)"
   ]
  },
  {
   "cell_type": "code",
   "execution_count": 70,
   "metadata": {},
   "outputs": [],
   "source": [
    "# //*[@id=\"tblite_hh\"]/tbody/tr[1]/td[1]\n",
    "# //*[@id=\"tblite_hh\"]/tbody/tr[2]/td[1]\n",
    "\n",
    "# //*[@id=\"tblite_gp\"]/tbody/tr[1]/td[1]\n",
    "s1=html.xpath('''//*[@id=\"tblite_pg\"]/tbody//td[1]/text()''')"
   ]
  },
  {
   "cell_type": "code",
   "execution_count": 71,
   "metadata": {},
   "outputs": [],
   "source": [
    "# //*[@id=\"tblite_hh\"]/tbody/tr[1]/td[2]/a\n",
    "# //*[@id=\"tblite_gp\"]/tbody/tr[1]/td[2]/a\n",
    "# html.xpath('''//*[@id=\"tblite_pg\"]/tbody//td[2]/a''')"
   ]
  },
  {
   "cell_type": "code",
   "execution_count": 72,
   "metadata": {},
   "outputs": [
    {
     "data": {
      "text/html": [
       "<div>\n",
       "<style scoped>\n",
       "    .dataframe tbody tr th:only-of-type {\n",
       "        vertical-align: middle;\n",
       "    }\n",
       "\n",
       "    .dataframe tbody tr th {\n",
       "        vertical-align: top;\n",
       "    }\n",
       "\n",
       "    .dataframe thead th {\n",
       "        text-align: right;\n",
       "    }\n",
       "</style>\n",
       "<table border=\"1\" class=\"dataframe\">\n",
       "  <thead>\n",
       "    <tr style=\"text-align: right;\">\n",
       "      <th></th>\n",
       "      <th>基金代码</th>\n",
       "    </tr>\n",
       "  </thead>\n",
       "  <tbody>\n",
       "    <tr>\n",
       "      <th>0</th>\n",
       "      <td>005669</td>\n",
       "    </tr>\n",
       "    <tr>\n",
       "      <th>1</th>\n",
       "      <td>000209</td>\n",
       "    </tr>\n",
       "    <tr>\n",
       "      <th>2</th>\n",
       "      <td>009644</td>\n",
       "    </tr>\n",
       "    <tr>\n",
       "      <th>3</th>\n",
       "      <td>000689</td>\n",
       "    </tr>\n",
       "    <tr>\n",
       "      <th>4</th>\n",
       "      <td>009645</td>\n",
       "    </tr>\n",
       "  </tbody>\n",
       "</table>\n",
       "</div>"
      ],
      "text/plain": [
       "     基金代码\n",
       "0  005669\n",
       "1  000209\n",
       "2  009644\n",
       "3  000689\n",
       "4  009645"
      ]
     },
     "execution_count": 72,
     "metadata": {},
     "output_type": "execute_result"
    }
   ],
   "source": [
    "df=pd.DataFrame([s1],index=[\"基金代码\"]).T\n",
    "df.head()"
   ]
  },
  {
   "cell_type": "code",
   "execution_count": 73,
   "metadata": {},
   "outputs": [],
   "source": [
    "# //*[@id=\"tblite_hh\"]/tbody/tr[1]/td[4]\n",
    "\n",
    "# html.xpath('''//*[@id=\"tblite_pg\"]/tbody//td[4]/text()''')[:3]"
   ]
  },
  {
   "cell_type": "code",
   "execution_count": 74,
   "metadata": {},
   "outputs": [],
   "source": [
    "# //*[@id=\"tblite_hh\"]/tbody/tr[1]/td[13]\n",
    "# html.xpath('''//*[@id=\"tblite_pg\"]/tbody//td[13]/text()''')[:3]"
   ]
  },
  {
   "cell_type": "code",
   "execution_count": 75,
   "metadata": {},
   "outputs": [],
   "source": [
    "list2=[\"日增长率\",\"近1周\",\"近1月\",\"近3月\",\"近6月\",\"近1年\",\"近2年\",\"近3年\",\"今年来\",\"成立来\"]"
   ]
  },
  {
   "cell_type": "code",
   "execution_count": 76,
   "metadata": {},
   "outputs": [],
   "source": [
    "for x,y in enumerate(list2):\n",
    "    x2=x+4\n",
    "    df[y]=html.xpath('''//*[@id=\"tblite_pg\"]/tbody//td[{}]/text()'''.format(x2))\n",
    "    "
   ]
  },
  {
   "cell_type": "code",
   "execution_count": 77,
   "metadata": {},
   "outputs": [
    {
     "data": {
      "text/html": [
       "<div>\n",
       "<style scoped>\n",
       "    .dataframe tbody tr th:only-of-type {\n",
       "        vertical-align: middle;\n",
       "    }\n",
       "\n",
       "    .dataframe tbody tr th {\n",
       "        vertical-align: top;\n",
       "    }\n",
       "\n",
       "    .dataframe thead th {\n",
       "        text-align: right;\n",
       "    }\n",
       "</style>\n",
       "<table border=\"1\" class=\"dataframe\">\n",
       "  <thead>\n",
       "    <tr style=\"text-align: right;\">\n",
       "      <th></th>\n",
       "      <th>基金代码</th>\n",
       "      <th>日增长率</th>\n",
       "      <th>近1周</th>\n",
       "      <th>近1月</th>\n",
       "      <th>近3月</th>\n",
       "      <th>近6月</th>\n",
       "      <th>近1年</th>\n",
       "      <th>近2年</th>\n",
       "      <th>近3年</th>\n",
       "      <th>今年来</th>\n",
       "      <th>成立来</th>\n",
       "    </tr>\n",
       "  </thead>\n",
       "  <tbody>\n",
       "    <tr>\n",
       "      <th>0</th>\n",
       "      <td>005669</td>\n",
       "      <td>2.67%</td>\n",
       "      <td>3.42%</td>\n",
       "      <td>-5.84%</td>\n",
       "      <td>14.27%</td>\n",
       "      <td>107.97%</td>\n",
       "      <td>149.87%</td>\n",
       "      <td>192.38%</td>\n",
       "      <td>237.58%</td>\n",
       "      <td>89.50%</td>\n",
       "      <td>214.83%</td>\n",
       "    </tr>\n",
       "    <tr>\n",
       "      <th>1</th>\n",
       "      <td>000209</td>\n",
       "      <td>2.98%</td>\n",
       "      <td>4.04%</td>\n",
       "      <td>-12.93%</td>\n",
       "      <td>11.83%</td>\n",
       "      <td>92.01%</td>\n",
       "      <td>131.02%</td>\n",
       "      <td>306.72%</td>\n",
       "      <td>416.52%</td>\n",
       "      <td>83.18%</td>\n",
       "      <td>429.95%</td>\n",
       "    </tr>\n",
       "    <tr>\n",
       "      <th>2</th>\n",
       "      <td>009644</td>\n",
       "      <td>2.72%</td>\n",
       "      <td>3.12%</td>\n",
       "      <td>-11.41%</td>\n",
       "      <td>11.63%</td>\n",
       "      <td>92.73%</td>\n",
       "      <td>128.64%</td>\n",
       "      <td>---</td>\n",
       "      <td>---</td>\n",
       "      <td>74.94%</td>\n",
       "      <td>129.58%</td>\n",
       "    </tr>\n",
       "    <tr>\n",
       "      <th>3</th>\n",
       "      <td>000689</td>\n",
       "      <td>2.22%</td>\n",
       "      <td>3.58%</td>\n",
       "      <td>-7.43%</td>\n",
       "      <td>10.38%</td>\n",
       "      <td>98.51%</td>\n",
       "      <td>128.14%</td>\n",
       "      <td>204.78%</td>\n",
       "      <td>252.98%</td>\n",
       "      <td>83.81%</td>\n",
       "      <td>240.99%</td>\n",
       "    </tr>\n",
       "    <tr>\n",
       "      <th>4</th>\n",
       "      <td>009645</td>\n",
       "      <td>2.72%</td>\n",
       "      <td>3.11%</td>\n",
       "      <td>-11.44%</td>\n",
       "      <td>11.49%</td>\n",
       "      <td>92.25%</td>\n",
       "      <td>127.52%</td>\n",
       "      <td>---</td>\n",
       "      <td>---</td>\n",
       "      <td>74.26%</td>\n",
       "      <td>128.11%</td>\n",
       "    </tr>\n",
       "  </tbody>\n",
       "</table>\n",
       "</div>"
      ],
      "text/plain": [
       "     基金代码   日增长率    近1周      近1月     近3月      近6月      近1年      近2年      近3年     今年来      成立来\n",
       "0  005669  2.67%  3.42%   -5.84%  14.27%  107.97%  149.87%  192.38%  237.58%  89.50%  214.83%\n",
       "1  000209  2.98%  4.04%  -12.93%  11.83%   92.01%  131.02%  306.72%  416.52%  83.18%  429.95%\n",
       "2  009644  2.72%  3.12%  -11.41%  11.63%   92.73%  128.64%      ---      ---  74.94%  129.58%\n",
       "3  000689  2.22%  3.58%   -7.43%  10.38%   98.51%  128.14%  204.78%  252.98%  83.81%  240.99%\n",
       "4  009645  2.72%  3.11%  -11.44%  11.49%   92.25%  127.52%      ---      ---  74.26%  128.11%"
      ]
     },
     "execution_count": 77,
     "metadata": {},
     "output_type": "execute_result"
    }
   ],
   "source": [
    "df.head()"
   ]
  },
  {
   "cell_type": "code",
   "execution_count": null,
   "metadata": {},
   "outputs": [],
   "source": []
  }
 ],
 "metadata": {
  "kernelspec": {
   "display_name": "Python 3",
   "language": "python",
   "name": "python3"
  },
  "language_info": {
   "codemirror_mode": {
    "name": "ipython",
    "version": 3
   },
   "file_extension": ".py",
   "mimetype": "text/x-python",
   "name": "python",
   "nbconvert_exporter": "python",
   "pygments_lexer": "ipython3",
   "version": "3.7.3"
  }
 },
 "nbformat": 4,
 "nbformat_minor": 2
}
